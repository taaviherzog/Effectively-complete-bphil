{
 "cells": [
  {
   "cell_type": "code",
   "execution_count": 1,
   "id": "fc82e93c",
   "metadata": {},
   "outputs": [],
   "source": [
    "import pandas as pd\n",
    "from math import cos, radians, sqrt\n",
    "from sklearn.neighbors import BallTree\n",
    "import geopandas as gpd\n",
    "from shapely.geometry import Polygon, MultiPolygon, Point\n",
    "import numpy as np\n",
    "import seaborn as sns\n",
    "import seaborn.objects as so\n",
    "import matplotlib.pyplot as plt\n",
    "import matplotlib.cm as cm\n",
    "import plotly.express as px\n",
    "import warnings\n",
    "from sklearn.cluster import KMeans\n",
    "from sklearn.preprocessing import MinMaxScaler\n",
    "from yellowbrick.cluster import KElbowVisualizer\n",
    "from scipy.stats import skew\n",
    "from sklearn.preprocessing import StandardScaler\n",
    "from statsmodels.stats.proportion import proportions_ztest\n",
    "from scipy.stats import binomtest\n",
    "from tqdm import tqdm"
   ]
  },
  {
   "cell_type": "code",
   "execution_count": 2,
   "id": "78f98f67",
   "metadata": {},
   "outputs": [],
   "source": [
    "pd.set_option('display.max_columns', None)\n",
    "pd.set_option('display.max_rows', 50)\n",
    "pd.set_option('display.float_format', '{:.3f}'.format)\n",
    "warnings.filterwarnings('ignore')"
   ]
  },
  {
   "cell_type": "code",
   "execution_count": 3,
   "id": "6c829edc",
   "metadata": {},
   "outputs": [],
   "source": [
    "raw = \"C:\\\\Users\\\\Taavi\\\\Desktop\\\\BPhil\\\\Raw data\\\\\"\n",
    "clean = \"C:\\\\Users\\\\Taavi\\\\Desktop\\\\BPhil\\\\Clean data\\\\\""
   ]
  },
  {
   "cell_type": "code",
   "execution_count": 4,
   "id": "613f5fe5",
   "metadata": {},
   "outputs": [],
   "source": [
    "demos = pd.read_csv(clean + 'clean_demos.csv')\n",
    "demos = demos.loc[demos['status'] == 'Completed']"
   ]
  },
  {
   "cell_type": "code",
   "execution_count": 5,
   "id": "5a470f2e",
   "metadata": {},
   "outputs": [],
   "source": [
    "parcels = pd.read_csv(clean + 'blight.csv')"
   ]
  },
  {
   "cell_type": "code",
   "execution_count": 7,
   "id": "1d8a8520",
   "metadata": {},
   "outputs": [
    {
     "data": {
      "application/vnd.plotly.v1+json": {
       "config": {
        "plotlyServerURL": "https://plot.ly"
       },
       "data": [
        {
         "hovertemplate": "lat=%{lat}<br>lng=%{lon}<extra></extra>",
         "lat": {
          "bdata": "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",
          "dtype": "f8"
         },
         "legendgroup": "",
         "lon": {
          "bdata": "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",
          "dtype": "f8"
         },
         "marker": {
          "color": "#636efa"
         },
         "mode": "markers",
         "name": "",
         "showlegend": false,
         "subplot": "mapbox",
         "type": "scattermapbox"
        }
       ],
       "layout": {
        "legend": {
         "tracegroupgap": 0
        },
        "mapbox": {
         "center": {
          "lat": 40.44770002253402,
          "lon": -79.9696431579697
         },
         "domain": {
          "x": [
           0,
           1
          ],
          "y": [
           0,
           1
          ]
         },
         "style": "open-street-map",
         "zoom": 10
        },
        "margin": {
         "t": 60
        },
        "template": {
         "data": {
          "bar": [
           {
            "error_x": {
             "color": "#2a3f5f"
            },
            "error_y": {
             "color": "#2a3f5f"
            },
            "marker": {
             "line": {
              "color": "#E5ECF6",
              "width": 0.5
             },
             "pattern": {
              "fillmode": "overlay",
              "size": 10,
              "solidity": 0.2
             }
            },
            "type": "bar"
           }
          ],
          "barpolar": [
           {
            "marker": {
             "line": {
              "color": "#E5ECF6",
              "width": 0.5
             },
             "pattern": {
              "fillmode": "overlay",
              "size": 10,
              "solidity": 0.2
             }
            },
            "type": "barpolar"
           }
          ],
          "carpet": [
           {
            "aaxis": {
             "endlinecolor": "#2a3f5f",
             "gridcolor": "white",
             "linecolor": "white",
             "minorgridcolor": "white",
             "startlinecolor": "#2a3f5f"
            },
            "baxis": {
             "endlinecolor": "#2a3f5f",
             "gridcolor": "white",
             "linecolor": "white",
             "minorgridcolor": "white",
             "startlinecolor": "#2a3f5f"
            },
            "type": "carpet"
           }
          ],
          "choropleth": [
           {
            "colorbar": {
             "outlinewidth": 0,
             "ticks": ""
            },
            "type": "choropleth"
           }
          ],
          "contour": [
           {
            "colorbar": {
             "outlinewidth": 0,
             "ticks": ""
            },
            "colorscale": [
             [
              0,
              "#0d0887"
             ],
             [
              0.1111111111111111,
              "#46039f"
             ],
             [
              0.2222222222222222,
              "#7201a8"
             ],
             [
              0.3333333333333333,
              "#9c179e"
             ],
             [
              0.4444444444444444,
              "#bd3786"
             ],
             [
              0.5555555555555556,
              "#d8576b"
             ],
             [
              0.6666666666666666,
              "#ed7953"
             ],
             [
              0.7777777777777778,
              "#fb9f3a"
             ],
             [
              0.8888888888888888,
              "#fdca26"
             ],
             [
              1,
              "#f0f921"
             ]
            ],
            "type": "contour"
           }
          ],
          "contourcarpet": [
           {
            "colorbar": {
             "outlinewidth": 0,
             "ticks": ""
            },
            "type": "contourcarpet"
           }
          ],
          "heatmap": [
           {
            "colorbar": {
             "outlinewidth": 0,
             "ticks": ""
            },
            "colorscale": [
             [
              0,
              "#0d0887"
             ],
             [
              0.1111111111111111,
              "#46039f"
             ],
             [
              0.2222222222222222,
              "#7201a8"
             ],
             [
              0.3333333333333333,
              "#9c179e"
             ],
             [
              0.4444444444444444,
              "#bd3786"
             ],
             [
              0.5555555555555556,
              "#d8576b"
             ],
             [
              0.6666666666666666,
              "#ed7953"
             ],
             [
              0.7777777777777778,
              "#fb9f3a"
             ],
             [
              0.8888888888888888,
              "#fdca26"
             ],
             [
              1,
              "#f0f921"
             ]
            ],
            "type": "heatmap"
           }
          ],
          "histogram": [
           {
            "marker": {
             "pattern": {
              "fillmode": "overlay",
              "size": 10,
              "solidity": 0.2
             }
            },
            "type": "histogram"
           }
          ],
          "histogram2d": [
           {
            "colorbar": {
             "outlinewidth": 0,
             "ticks": ""
            },
            "colorscale": [
             [
              0,
              "#0d0887"
             ],
             [
              0.1111111111111111,
              "#46039f"
             ],
             [
              0.2222222222222222,
              "#7201a8"
             ],
             [
              0.3333333333333333,
              "#9c179e"
             ],
             [
              0.4444444444444444,
              "#bd3786"
             ],
             [
              0.5555555555555556,
              "#d8576b"
             ],
             [
              0.6666666666666666,
              "#ed7953"
             ],
             [
              0.7777777777777778,
              "#fb9f3a"
             ],
             [
              0.8888888888888888,
              "#fdca26"
             ],
             [
              1,
              "#f0f921"
             ]
            ],
            "type": "histogram2d"
           }
          ],
          "histogram2dcontour": [
           {
            "colorbar": {
             "outlinewidth": 0,
             "ticks": ""
            },
            "colorscale": [
             [
              0,
              "#0d0887"
             ],
             [
              0.1111111111111111,
              "#46039f"
             ],
             [
              0.2222222222222222,
              "#7201a8"
             ],
             [
              0.3333333333333333,
              "#9c179e"
             ],
             [
              0.4444444444444444,
              "#bd3786"
             ],
             [
              0.5555555555555556,
              "#d8576b"
             ],
             [
              0.6666666666666666,
              "#ed7953"
             ],
             [
              0.7777777777777778,
              "#fb9f3a"
             ],
             [
              0.8888888888888888,
              "#fdca26"
             ],
             [
              1,
              "#f0f921"
             ]
            ],
            "type": "histogram2dcontour"
           }
          ],
          "mesh3d": [
           {
            "colorbar": {
             "outlinewidth": 0,
             "ticks": ""
            },
            "type": "mesh3d"
           }
          ],
          "parcoords": [
           {
            "line": {
             "colorbar": {
              "outlinewidth": 0,
              "ticks": ""
             }
            },
            "type": "parcoords"
           }
          ],
          "pie": [
           {
            "automargin": true,
            "type": "pie"
           }
          ],
          "scatter": [
           {
            "fillpattern": {
             "fillmode": "overlay",
             "size": 10,
             "solidity": 0.2
            },
            "type": "scatter"
           }
          ],
          "scatter3d": [
           {
            "line": {
             "colorbar": {
              "outlinewidth": 0,
              "ticks": ""
             }
            },
            "marker": {
             "colorbar": {
              "outlinewidth": 0,
              "ticks": ""
             }
            },
            "type": "scatter3d"
           }
          ],
          "scattercarpet": [
           {
            "marker": {
             "colorbar": {
              "outlinewidth": 0,
              "ticks": ""
             }
            },
            "type": "scattercarpet"
           }
          ],
          "scattergeo": [
           {
            "marker": {
             "colorbar": {
              "outlinewidth": 0,
              "ticks": ""
             }
            },
            "type": "scattergeo"
           }
          ],
          "scattergl": [
           {
            "marker": {
             "colorbar": {
              "outlinewidth": 0,
              "ticks": ""
             }
            },
            "type": "scattergl"
           }
          ],
          "scattermap": [
           {
            "marker": {
             "colorbar": {
              "outlinewidth": 0,
              "ticks": ""
             }
            },
            "type": "scattermap"
           }
          ],
          "scattermapbox": [
           {
            "marker": {
             "colorbar": {
              "outlinewidth": 0,
              "ticks": ""
             }
            },
            "type": "scattermapbox"
           }
          ],
          "scatterpolar": [
           {
            "marker": {
             "colorbar": {
              "outlinewidth": 0,
              "ticks": ""
             }
            },
            "type": "scatterpolar"
           }
          ],
          "scatterpolargl": [
           {
            "marker": {
             "colorbar": {
              "outlinewidth": 0,
              "ticks": ""
             }
            },
            "type": "scatterpolargl"
           }
          ],
          "scatterternary": [
           {
            "marker": {
             "colorbar": {
              "outlinewidth": 0,
              "ticks": ""
             }
            },
            "type": "scatterternary"
           }
          ],
          "surface": [
           {
            "colorbar": {
             "outlinewidth": 0,
             "ticks": ""
            },
            "colorscale": [
             [
              0,
              "#0d0887"
             ],
             [
              0.1111111111111111,
              "#46039f"
             ],
             [
              0.2222222222222222,
              "#7201a8"
             ],
             [
              0.3333333333333333,
              "#9c179e"
             ],
             [
              0.4444444444444444,
              "#bd3786"
             ],
             [
              0.5555555555555556,
              "#d8576b"
             ],
             [
              0.6666666666666666,
              "#ed7953"
             ],
             [
              0.7777777777777778,
              "#fb9f3a"
             ],
             [
              0.8888888888888888,
              "#fdca26"
             ],
             [
              1,
              "#f0f921"
             ]
            ],
            "type": "surface"
           }
          ],
          "table": [
           {
            "cells": {
             "fill": {
              "color": "#EBF0F8"
             },
             "line": {
              "color": "white"
             }
            },
            "header": {
             "fill": {
              "color": "#C8D4E3"
             },
             "line": {
              "color": "white"
             }
            },
            "type": "table"
           }
          ]
         },
         "layout": {
          "annotationdefaults": {
           "arrowcolor": "#2a3f5f",
           "arrowhead": 0,
           "arrowwidth": 1
          },
          "autotypenumbers": "strict",
          "coloraxis": {
           "colorbar": {
            "outlinewidth": 0,
            "ticks": ""
           }
          },
          "colorscale": {
           "diverging": [
            [
             0,
             "#8e0152"
            ],
            [
             0.1,
             "#c51b7d"
            ],
            [
             0.2,
             "#de77ae"
            ],
            [
             0.3,
             "#f1b6da"
            ],
            [
             0.4,
             "#fde0ef"
            ],
            [
             0.5,
             "#f7f7f7"
            ],
            [
             0.6,
             "#e6f5d0"
            ],
            [
             0.7,
             "#b8e186"
            ],
            [
             0.8,
             "#7fbc41"
            ],
            [
             0.9,
             "#4d9221"
            ],
            [
             1,
             "#276419"
            ]
           ],
           "sequential": [
            [
             0,
             "#0d0887"
            ],
            [
             0.1111111111111111,
             "#46039f"
            ],
            [
             0.2222222222222222,
             "#7201a8"
            ],
            [
             0.3333333333333333,
             "#9c179e"
            ],
            [
             0.4444444444444444,
             "#bd3786"
            ],
            [
             0.5555555555555556,
             "#d8576b"
            ],
            [
             0.6666666666666666,
             "#ed7953"
            ],
            [
             0.7777777777777778,
             "#fb9f3a"
            ],
            [
             0.8888888888888888,
             "#fdca26"
            ],
            [
             1,
             "#f0f921"
            ]
           ],
           "sequentialminus": [
            [
             0,
             "#0d0887"
            ],
            [
             0.1111111111111111,
             "#46039f"
            ],
            [
             0.2222222222222222,
             "#7201a8"
            ],
            [
             0.3333333333333333,
             "#9c179e"
            ],
            [
             0.4444444444444444,
             "#bd3786"
            ],
            [
             0.5555555555555556,
             "#d8576b"
            ],
            [
             0.6666666666666666,
             "#ed7953"
            ],
            [
             0.7777777777777778,
             "#fb9f3a"
            ],
            [
             0.8888888888888888,
             "#fdca26"
            ],
            [
             1,
             "#f0f921"
            ]
           ]
          },
          "colorway": [
           "#636efa",
           "#EF553B",
           "#00cc96",
           "#ab63fa",
           "#FFA15A",
           "#19d3f3",
           "#FF6692",
           "#B6E880",
           "#FF97FF",
           "#FECB52"
          ],
          "font": {
           "color": "#2a3f5f"
          },
          "geo": {
           "bgcolor": "white",
           "lakecolor": "white",
           "landcolor": "#E5ECF6",
           "showlakes": true,
           "showland": true,
           "subunitcolor": "white"
          },
          "hoverlabel": {
           "align": "left"
          },
          "hovermode": "closest",
          "mapbox": {
           "style": "light"
          },
          "paper_bgcolor": "white",
          "plot_bgcolor": "#E5ECF6",
          "polar": {
           "angularaxis": {
            "gridcolor": "white",
            "linecolor": "white",
            "ticks": ""
           },
           "bgcolor": "#E5ECF6",
           "radialaxis": {
            "gridcolor": "white",
            "linecolor": "white",
            "ticks": ""
           }
          },
          "scene": {
           "xaxis": {
            "backgroundcolor": "#E5ECF6",
            "gridcolor": "white",
            "gridwidth": 2,
            "linecolor": "white",
            "showbackground": true,
            "ticks": "",
            "zerolinecolor": "white"
           },
           "yaxis": {
            "backgroundcolor": "#E5ECF6",
            "gridcolor": "white",
            "gridwidth": 2,
            "linecolor": "white",
            "showbackground": true,
            "ticks": "",
            "zerolinecolor": "white"
           },
           "zaxis": {
            "backgroundcolor": "#E5ECF6",
            "gridcolor": "white",
            "gridwidth": 2,
            "linecolor": "white",
            "showbackground": true,
            "ticks": "",
            "zerolinecolor": "white"
           }
          },
          "shapedefaults": {
           "line": {
            "color": "#2a3f5f"
           }
          },
          "ternary": {
           "aaxis": {
            "gridcolor": "white",
            "linecolor": "white",
            "ticks": ""
           },
           "baxis": {
            "gridcolor": "white",
            "linecolor": "white",
            "ticks": ""
           },
           "bgcolor": "#E5ECF6",
           "caxis": {
            "gridcolor": "white",
            "linecolor": "white",
            "ticks": ""
           }
          },
          "title": {
           "x": 0.05
          },
          "xaxis": {
           "automargin": true,
           "gridcolor": "white",
           "linecolor": "white",
           "ticks": "",
           "title": {
            "standoff": 15
           },
           "zerolinecolor": "white",
           "zerolinewidth": 2
          },
          "yaxis": {
           "automargin": true,
           "gridcolor": "white",
           "linecolor": "white",
           "ticks": "",
           "title": {
            "standoff": 15
           },
           "zerolinecolor": "white",
           "zerolinewidth": 2
          }
         }
        }
       }
      }
     },
     "metadata": {},
     "output_type": "display_data"
    }
   ],
   "source": [
    "fig = px.scatter_mapbox(demos, lat = 'lat', lon = 'lng', zoom = 10)\n",
    "fig.update_layout(mapbox_style = 'open-street-map')\n",
    "fig.show()"
   ]
  },
  {
   "cell_type": "code",
   "execution_count": 6,
   "id": "d3f405ae",
   "metadata": {},
   "outputs": [],
   "source": [
    "merged = parcels.merge(right = demos.assign(demo = 1)[['parcelID', 'demo']], on = 'parcelID', how = 'left').fillna(0)"
   ]
  },
  {
   "cell_type": "code",
   "execution_count": 9,
   "id": "1524001c",
   "metadata": {},
   "outputs": [
    {
     "data": {
      "text/plain": [
       "np.float64(0.005039811735958293)"
      ]
     },
     "execution_count": 9,
     "metadata": {},
     "output_type": "execute_result"
    }
   ],
   "source": [
    "merged['demo'].mean()"
   ]
  },
  {
   "cell_type": "code",
   "execution_count": 10,
   "id": "9534bd06",
   "metadata": {},
   "outputs": [
    {
     "data": {
      "text/plain": [
       "blight\n",
       "1   0.002\n",
       "2   0.005\n",
       "3   0.004\n",
       "4   0.007\n",
       "5   0.012\n",
       "6   0.008\n",
       "7   0.008\n",
       "Name: demo, dtype: float64"
      ]
     },
     "execution_count": 10,
     "metadata": {},
     "output_type": "execute_result"
    }
   ],
   "source": [
    "merged.groupby('blight')['demo'].mean()"
   ]
  },
  {
   "cell_type": "code",
   "execution_count": 11,
   "id": "bd646628",
   "metadata": {},
   "outputs": [
    {
     "data": {
      "text/plain": [
       "blight\n",
       "1   0.331\n",
       "2   0.317\n",
       "4   0.194\n",
       "5   0.067\n",
       "3   0.062\n",
       "6   0.023\n",
       "7   0.006\n",
       "Name: proportion, dtype: float64"
      ]
     },
     "execution_count": 11,
     "metadata": {},
     "output_type": "execute_result"
    }
   ],
   "source": [
    "merged['blight'].value_counts(normalize = True)"
   ]
  },
  {
   "cell_type": "code",
   "execution_count": 12,
   "id": "248e9325",
   "metadata": {},
   "outputs": [
    {
     "data": {
      "text/plain": [
       "demo   blight\n",
       "0.000  1        0.332\n",
       "       2        0.317\n",
       "       4        0.193\n",
       "       5        0.067\n",
       "       3        0.062\n",
       "       6        0.023\n",
       "       7        0.006\n",
       "1.000  2        0.329\n",
       "       4        0.281\n",
       "       5        0.157\n",
       "       1        0.143\n",
       "       3        0.045\n",
       "       6        0.034\n",
       "       7        0.010\n",
       "Name: proportion, dtype: float64"
      ]
     },
     "execution_count": 12,
     "metadata": {},
     "output_type": "execute_result"
    }
   ],
   "source": [
    "merged.groupby('demo')['blight'].value_counts(normalize = True)"
   ]
  },
  {
   "cell_type": "code",
   "execution_count": 13,
   "id": "d0a662a2",
   "metadata": {},
   "outputs": [],
   "source": [
    "results = []\n",
    "\n",
    "prop_pop = merged['demo'].mean()\n",
    "\n",
    "for group, gdf in merged.groupby('blight'):\n",
    "    n = len(gdf)\n",
    "    k = int(gdf['demo'].sum())\n",
    "    prop_group = k / n\n",
    "\n",
    "    # z-test\n",
    "    z_t, z_p = proportions_ztest(k, n, prop_pop)\n",
    "\n",
    "    # binomial test\n",
    "    bin_p = binomtest(k, n, prop_pop).pvalue\n",
    "\n",
    "    results.append({\n",
    "        'group': group,\n",
    "        'n': n,\n",
    "        'prop_pop': prop_pop,\n",
    "        'prop_group': prop_group,\n",
    "        'z_p': z_p,\n",
    "        'bin_p': bin_p\n",
    "    })\n",
    "\n",
    "results = pd.DataFrame(results)"
   ]
  },
  {
   "cell_type": "code",
   "execution_count": 14,
   "id": "1bb66ce5",
   "metadata": {},
   "outputs": [
    {
     "data": {
      "text/html": [
       "<div>\n",
       "<style scoped>\n",
       "    .dataframe tbody tr th:only-of-type {\n",
       "        vertical-align: middle;\n",
       "    }\n",
       "\n",
       "    .dataframe tbody tr th {\n",
       "        vertical-align: top;\n",
       "    }\n",
       "\n",
       "    .dataframe thead th {\n",
       "        text-align: right;\n",
       "    }\n",
       "</style>\n",
       "<table border=\"1\" class=\"dataframe\">\n",
       "  <thead>\n",
       "    <tr style=\"text-align: right;\">\n",
       "      <th></th>\n",
       "      <th>group</th>\n",
       "      <th>n</th>\n",
       "      <th>prop_pop</th>\n",
       "      <th>prop_group</th>\n",
       "      <th>z_p</th>\n",
       "      <th>bin_p</th>\n",
       "    </tr>\n",
       "  </thead>\n",
       "  <tbody>\n",
       "    <tr>\n",
       "      <th>0</th>\n",
       "      <td>1</td>\n",
       "      <td>47634</td>\n",
       "      <td>0.005</td>\n",
       "      <td>0.002</td>\n",
       "      <td>0.000</td>\n",
       "      <td>0.000</td>\n",
       "    </tr>\n",
       "    <tr>\n",
       "      <th>1</th>\n",
       "      <td>2</td>\n",
       "      <td>45732</td>\n",
       "      <td>0.005</td>\n",
       "      <td>0.005</td>\n",
       "      <td>0.581</td>\n",
       "      <td>0.574</td>\n",
       "    </tr>\n",
       "    <tr>\n",
       "      <th>2</th>\n",
       "      <td>3</td>\n",
       "      <td>8880</td>\n",
       "      <td>0.005</td>\n",
       "      <td>0.004</td>\n",
       "      <td>0.040</td>\n",
       "      <td>0.084</td>\n",
       "    </tr>\n",
       "    <tr>\n",
       "      <th>3</th>\n",
       "      <td>4</td>\n",
       "      <td>27919</td>\n",
       "      <td>0.005</td>\n",
       "      <td>0.007</td>\n",
       "      <td>0.000</td>\n",
       "      <td>0.000</td>\n",
       "    </tr>\n",
       "    <tr>\n",
       "      <th>4</th>\n",
       "      <td>5</td>\n",
       "      <td>9707</td>\n",
       "      <td>0.005</td>\n",
       "      <td>0.012</td>\n",
       "      <td>0.000</td>\n",
       "      <td>0.000</td>\n",
       "    </tr>\n",
       "    <tr>\n",
       "      <th>5</th>\n",
       "      <td>6</td>\n",
       "      <td>3282</td>\n",
       "      <td>0.005</td>\n",
       "      <td>0.008</td>\n",
       "      <td>0.089</td>\n",
       "      <td>0.047</td>\n",
       "    </tr>\n",
       "    <tr>\n",
       "      <th>6</th>\n",
       "      <td>7</td>\n",
       "      <td>899</td>\n",
       "      <td>0.005</td>\n",
       "      <td>0.008</td>\n",
       "      <td>0.349</td>\n",
       "      <td>0.232</td>\n",
       "    </tr>\n",
       "  </tbody>\n",
       "</table>\n",
       "</div>"
      ],
      "text/plain": [
       "   group      n  prop_pop  prop_group   z_p  bin_p\n",
       "0      1  47634     0.005       0.002 0.000  0.000\n",
       "1      2  45732     0.005       0.005 0.581  0.574\n",
       "2      3   8880     0.005       0.004 0.040  0.084\n",
       "3      4  27919     0.005       0.007 0.000  0.000\n",
       "4      5   9707     0.005       0.012 0.000  0.000\n",
       "5      6   3282     0.005       0.008 0.089  0.047\n",
       "6      7    899     0.005       0.008 0.349  0.232"
      ]
     },
     "execution_count": 14,
     "metadata": {},
     "output_type": "execute_result"
    }
   ],
   "source": [
    "results"
   ]
  },
  {
   "cell_type": "code",
   "execution_count": null,
   "id": "02b06e40",
   "metadata": {},
   "outputs": [],
   "source": []
  },
  {
   "cell_type": "code",
   "execution_count": null,
   "id": "bf2fe407",
   "metadata": {},
   "outputs": [],
   "source": []
  },
  {
   "cell_type": "code",
   "execution_count": null,
   "id": "5d2da525",
   "metadata": {},
   "outputs": [],
   "source": []
  },
  {
   "cell_type": "code",
   "execution_count": null,
   "id": "d09a3410",
   "metadata": {},
   "outputs": [],
   "source": []
  },
  {
   "cell_type": "code",
   "execution_count": null,
   "id": "47cc6a6a",
   "metadata": {},
   "outputs": [],
   "source": []
  },
  {
   "cell_type": "code",
   "execution_count": null,
   "id": "399827aa",
   "metadata": {},
   "outputs": [],
   "source": []
  },
  {
   "cell_type": "code",
   "execution_count": null,
   "id": "98fcac7e",
   "metadata": {},
   "outputs": [],
   "source": []
  },
  {
   "cell_type": "code",
   "execution_count": null,
   "metadata": {},
   "outputs": [],
   "source": []
  },
  {
   "cell_type": "code",
   "execution_count": null,
   "metadata": {},
   "outputs": [],
   "source": []
  },
  {
   "cell_type": "code",
   "execution_count": null,
   "id": "4034d1dc",
   "metadata": {},
   "outputs": [],
   "source": []
  },
  {
   "cell_type": "code",
   "execution_count": null,
   "metadata": {},
   "outputs": [],
   "source": []
  },
  {
   "cell_type": "code",
   "execution_count": null,
   "id": "00c8ffba",
   "metadata": {},
   "outputs": [],
   "source": []
  },
  {
   "cell_type": "code",
   "execution_count": null,
   "id": "41d79087",
   "metadata": {},
   "outputs": [],
   "source": []
  },
  {
   "cell_type": "markdown",
   "id": "f035e10a",
   "metadata": {},
   "source": [
    "### Commentary:\n",
    "\n",
    "If Pittsburgh is using demolitions as an action to improve conditions, then we're mostly applying them correctly (to clusters 1 and 5). We're ignoring cluster 6, which is arguably the worst off, but it's also good to see that we're not employing this \"improvement mechanism\" in the best-to-do cluster 3."
   ]
  },
  {
   "cell_type": "markdown",
   "id": "2f2fc0cf",
   "metadata": {},
   "source": [
    "### Predicting blight cluster for each demo"
   ]
  },
  {
   "cell_type": "code",
   "execution_count": 69,
   "id": "8757c971",
   "metadata": {},
   "outputs": [],
   "source": [
    "demos = demos.merge(right = parcels[['parcelID', 'viols_count_decayed', 'low_count_decayed', 'high_count_decayed']], on = 'parcelID', how = 'left')"
   ]
  },
  {
   "cell_type": "code",
   "execution_count": 73,
   "id": "513d12fc",
   "metadata": {},
   "outputs": [],
   "source": [
    "np.random.seed(0)\n",
    "mm = MinMaxScaler()\n",
    "cols = ['viols_count_decayed', 'low_count_decayed', 'high_count_decayed']\n",
    "scaled = pd.DataFrame(mm.fit_transform(parcels[cols]), columns = cols)\n",
    "km = KMeans(n_clusters = 7)\n",
    "km.fit(scaled)\n",
    "\n",
    "scaled_demos = pd.DataFrame(mm.fit_transform(demos[cols]), columns = cols)\n",
    "demos['blight'] = km.predict(scaled_demos[cols])"
   ]
  },
  {
   "cell_type": "code",
   "execution_count": 71,
   "id": "226f9d55",
   "metadata": {},
   "outputs": [
    {
     "data": {
      "text/plain": [
       "blight\n",
       "3   0.303\n",
       "0   0.292\n",
       "5   0.127\n",
       "6   0.124\n",
       "1   0.087\n",
       "2   0.058\n",
       "4   0.010\n",
       "Name: proportion, dtype: float64"
      ]
     },
     "execution_count": 71,
     "metadata": {},
     "output_type": "execute_result"
    }
   ],
   "source": [
    "demos['blight'].value_counts(normalize = True)"
   ]
  },
  {
   "cell_type": "code",
   "execution_count": null,
   "id": "0a06868d",
   "metadata": {},
   "outputs": [],
   "source": []
  },
  {
   "cell_type": "code",
   "execution_count": null,
   "id": "3801766f",
   "metadata": {},
   "outputs": [],
   "source": []
  },
  {
   "cell_type": "code",
   "execution_count": 72,
   "id": "8dfd140f",
   "metadata": {},
   "outputs": [
    {
     "data": {
      "text/plain": [
       "year\n",
       "2023    182\n",
       "2022    171\n",
       "2021    137\n",
       "2020     96\n",
       "2024     94\n",
       "2025     46\n",
       "Name: count, dtype: int64"
      ]
     },
     "execution_count": 72,
     "metadata": {},
     "output_type": "execute_result"
    }
   ],
   "source": [
    "demos.assign(year = pd.to_datetime(demos['date'], format = 'mixed').dt.year)['year'].value_counts()"
   ]
  },
  {
   "cell_type": "markdown",
   "id": "b42a0b4d",
   "metadata": {},
   "source": [
    "### Population average parcel-based demolition exposure\n",
    "\n",
    "I want to measure exposure to demolitions for each parcel in the same way I measure exposure to blight. I guess I'm doing this across the static timeframe...?\n",
    "\n",
    "Yes I'll do this measurement across the static timeframe to be able to identify parcels \"untouched\" by demos across the timeframe. \"Untouched\" meaning \"experiencing less exposure to demos than the population average.\" I'll test for that with a z-score.\n",
    "\n",
    "Turns out there aren't any parcels with significantly less exposure than the population average, because the average is low enough and the std dev is high enough. If anything there are just parcels with significantly more exposure. I can still use this. I can distinguish between those with significant exposure and those with average exposure, and suddenly I'll have two samples. Then I can compare blight levels across the samples, and more.\n",
    "\n",
    "Yikes - our high-exposure sample is only 3.7% of the dataset.\n",
    "\n",
    "Wow - grouping by blight, we can see that 35.6% of cluster 5 is highly exposed to demos and 6.2% of cluster 1 is highly exposed. After cluster 6 (and ignoring the inflated crime reporting in the Central Business District), these are the two worst-off clusters. I'm sure I know what the result will be, but let's quickly test for the significance of these percentages.\n",
    "\n",
    "Interesting - every cluster significantly deviates from the population mean. Clusters 1 and 5 deviate above the mean, the rest are all below. Where there is high exposure to demolitions, it is in clusters 1 and 5. Notably, it is NOT in cluster 6."
   ]
  },
  {
   "cell_type": "code",
   "execution_count": 7,
   "id": "f9c384bb",
   "metadata": {},
   "outputs": [],
   "source": [
    "demos['year'] = pd.to_datetime(demos['date']).dt.year\n",
    "years = range(demos['year'].min(), demos['year'].max() + 1)"
   ]
  },
  {
   "cell_type": "code",
   "execution_count": 8,
   "id": "fcc94190",
   "metadata": {},
   "outputs": [],
   "source": [
    "years = pd.date_range(start = demos['year'].min(), end = '2026-12-31', freq = 'Y')"
   ]
  },
  {
   "cell_type": "code",
   "execution_count": 9,
   "id": "a581cdcd",
   "metadata": {},
   "outputs": [],
   "source": [
    "parcels = parcels.merge(pd.DataFrame({'date': years}), how = 'cross').sort_values(by = 'date').reset_index(drop = True)\n",
    "parcels['date'] = pd.to_datetime(parcels['date']).dt.year\n",
    "parcels = parcels.rename(columns = {'date': 'year'})\n",
    "years = range(demos['year'].min(), demos['year'].max() + 1)"
   ]
  },
  {
   "cell_type": "code",
   "execution_count": 21,
   "id": "53b02797",
   "metadata": {},
   "outputs": [
    {
     "name": "stderr",
     "output_type": "stream",
     "text": [
      "100%|██████████| 6/6 [00:44<00:00,  7.45s/it]\n"
     ]
    }
   ],
   "source": [
    "full = pd.DataFrame()\n",
    "\n",
    "earthRadius = 6_378_137 # meters\n",
    "\n",
    "distances = np.arange(50, 800, 50)\n",
    "distances_radians = distances / earthRadius\n",
    "weights = [(i + 1) / len(distances) for i, r in enumerate(distances)][::-1]\n",
    "\n",
    "for year in tqdm(years):\n",
    "    parcels_sub = parcels.loc[parcels['year'] == year].reset_index(drop = True)\n",
    "    values_sub = demos.loc[demos['year'] == year].reset_index(drop = True)\n",
    "\n",
    "    parcels_coords = np.radians(parcels_sub[['lat', 'lng']].to_numpy())\n",
    "    values_coords = np.radians(values_sub[['lat', 'lng']].to_numpy())\n",
    "\n",
    "    value_tree = BallTree(values_coords, metric = 'haversine')\n",
    "    \n",
    "    # count demos in each distance bin\n",
    "    for d_m, d_r in zip(distances, distances_radians):\n",
    "        indices_within_radius = value_tree.query_radius(parcels_coords, r = d_r)\n",
    "        counts = [len(idxs) for idxs in indices_within_radius]\n",
    "        parcels_sub[f'demos_count_{d_m}'] = counts\n",
    "\n",
    "    parcels_sub = parcels_sub.fillna(0)\n",
    "\n",
    "    for i, r in enumerate(distances[::-1]):\n",
    "        if r != distances[0]:\n",
    "            parcels_sub[f'demos_count_{r}'] -= parcels_sub[f'demos_count_{distances[::-1][i + 1]}']\n",
    "\n",
    "    parcels_sub['demos_count_decayed'] = (parcels_sub.iloc[:, -len(distances):] * weights).sum(axis = 1)\n",
    "\n",
    "    q1 = parcels_sub['demos_count_decayed'].quantile(0.25)\n",
    "    q3 = parcels_sub['demos_count_decayed'].quantile(0.75)\n",
    "    iqr = q3 - q1\n",
    "    lb = q1 - (1.5 * iqr)\n",
    "    ub = q3 + (1.5 * iqr)\n",
    "\n",
    "    parcels_sub['low_exposure'] = np.where(parcels_sub['demos_count_decayed'] < lb, 1, 0)\n",
    "    parcels_sub['high_exposure'] = np.where(parcels_sub['demos_count_decayed'] > ub, 1, 0)\n",
    "\n",
    "    full = pd.concat([full, parcels_sub], axis = 0)\n",
    "\n",
    "full = full.reset_index(drop = True)"
   ]
  },
  {
   "cell_type": "code",
   "execution_count": 22,
   "id": "d74089ef",
   "metadata": {},
   "outputs": [
    {
     "data": {
      "text/plain": [
       "high_exposure  blight_sqrt\n",
       "0              4             0.273\n",
       "               2             0.254\n",
       "               5             0.211\n",
       "               1             0.110\n",
       "               3             0.080\n",
       "               6             0.066\n",
       "               7             0.007\n",
       "1              5             0.336\n",
       "               6             0.296\n",
       "               4             0.257\n",
       "               2             0.053\n",
       "               3             0.041\n",
       "               1             0.010\n",
       "               7             0.006\n",
       "Name: proportion, dtype: float64"
      ]
     },
     "execution_count": 22,
     "metadata": {},
     "output_type": "execute_result"
    }
   ],
   "source": [
    "full.groupby('high_exposure')['blight_sqrt'].value_counts(normalize = True)"
   ]
  },
  {
   "cell_type": "code",
   "execution_count": 23,
   "id": "20e7888e",
   "metadata": {},
   "outputs": [
    {
     "data": {
      "text/plain": [
       "blight_sqrt\n",
       "4   0.272\n",
       "2   0.238\n",
       "5   0.221\n",
       "1   0.102\n",
       "6   0.084\n",
       "3   0.077\n",
       "7   0.007\n",
       "Name: proportion, dtype: float64"
      ]
     },
     "execution_count": 23,
     "metadata": {},
     "output_type": "execute_result"
    }
   ],
   "source": [
    "full['blight_sqrt'].value_counts(normalize = True)"
   ]
  },
  {
   "cell_type": "code",
   "execution_count": 24,
   "id": "36f6c7f2",
   "metadata": {},
   "outputs": [
    {
     "data": {
      "text/plain": [
       "blight_sqrt\n",
       "1   0.008\n",
       "2   0.018\n",
       "3   0.043\n",
       "4   0.075\n",
       "5   0.121\n",
       "6   0.279\n",
       "7   0.076\n",
       "Name: high_exposure, dtype: float64"
      ]
     },
     "execution_count": 24,
     "metadata": {},
     "output_type": "execute_result"
    }
   ],
   "source": [
    "full.groupby('blight_sqrt')['high_exposure'].mean()"
   ]
  },
  {
   "cell_type": "code",
   "execution_count": 25,
   "id": "0f5e729f",
   "metadata": {},
   "outputs": [
    {
     "data": {
      "text/plain": [
       "np.float64(0.07958819050528475)"
      ]
     },
     "execution_count": 25,
     "metadata": {},
     "output_type": "execute_result"
    }
   ],
   "source": [
    "full['high_exposure'].mean()"
   ]
  },
  {
   "cell_type": "code",
   "execution_count": null,
   "id": "26bd7229",
   "metadata": {},
   "outputs": [],
   "source": []
  },
  {
   "cell_type": "code",
   "execution_count": 54,
   "id": "5082e0bd",
   "metadata": {},
   "outputs": [
    {
     "data": {
      "text/html": [
       "<div>\n",
       "<style scoped>\n",
       "    .dataframe tbody tr th:only-of-type {\n",
       "        vertical-align: middle;\n",
       "    }\n",
       "\n",
       "    .dataframe tbody tr th {\n",
       "        vertical-align: top;\n",
       "    }\n",
       "\n",
       "    .dataframe thead th {\n",
       "        text-align: right;\n",
       "    }\n",
       "</style>\n",
       "<table border=\"1\" class=\"dataframe\">\n",
       "  <thead>\n",
       "    <tr style=\"text-align: right;\">\n",
       "      <th></th>\n",
       "      <th>year</th>\n",
       "      <th>high_exposure</th>\n",
       "      <th>blight_sqrt</th>\n",
       "      <th>count</th>\n",
       "    </tr>\n",
       "  </thead>\n",
       "  <tbody>\n",
       "    <tr>\n",
       "      <th>0</th>\n",
       "      <td>2020</td>\n",
       "      <td>0</td>\n",
       "      <td>4</td>\n",
       "      <td>37026</td>\n",
       "    </tr>\n",
       "    <tr>\n",
       "      <th>1</th>\n",
       "      <td>2020</td>\n",
       "      <td>0</td>\n",
       "      <td>2</td>\n",
       "      <td>33515</td>\n",
       "    </tr>\n",
       "    <tr>\n",
       "      <th>2</th>\n",
       "      <td>2020</td>\n",
       "      <td>0</td>\n",
       "      <td>5</td>\n",
       "      <td>29460</td>\n",
       "    </tr>\n",
       "    <tr>\n",
       "      <th>3</th>\n",
       "      <td>2020</td>\n",
       "      <td>0</td>\n",
       "      <td>1</td>\n",
       "      <td>14597</td>\n",
       "    </tr>\n",
       "    <tr>\n",
       "      <th>4</th>\n",
       "      <td>2020</td>\n",
       "      <td>0</td>\n",
       "      <td>3</td>\n",
       "      <td>10440</td>\n",
       "    </tr>\n",
       "    <tr>\n",
       "      <th>...</th>\n",
       "      <td>...</td>\n",
       "      <td>...</td>\n",
       "      <td>...</td>\n",
       "      <td>...</td>\n",
       "    </tr>\n",
       "    <tr>\n",
       "      <th>70</th>\n",
       "      <td>2025</td>\n",
       "      <td>1</td>\n",
       "      <td>5</td>\n",
       "      <td>5496</td>\n",
       "    </tr>\n",
       "    <tr>\n",
       "      <th>71</th>\n",
       "      <td>2025</td>\n",
       "      <td>1</td>\n",
       "      <td>6</td>\n",
       "      <td>3850</td>\n",
       "    </tr>\n",
       "    <tr>\n",
       "      <th>72</th>\n",
       "      <td>2025</td>\n",
       "      <td>1</td>\n",
       "      <td>2</td>\n",
       "      <td>2259</td>\n",
       "    </tr>\n",
       "    <tr>\n",
       "      <th>73</th>\n",
       "      <td>2025</td>\n",
       "      <td>1</td>\n",
       "      <td>3</td>\n",
       "      <td>736</td>\n",
       "    </tr>\n",
       "    <tr>\n",
       "      <th>74</th>\n",
       "      <td>2025</td>\n",
       "      <td>1</td>\n",
       "      <td>1</td>\n",
       "      <td>510</td>\n",
       "    </tr>\n",
       "  </tbody>\n",
       "</table>\n",
       "<p>75 rows × 4 columns</p>\n",
       "</div>"
      ],
      "text/plain": [
       "    year  high_exposure  blight_sqrt  count\n",
       "0   2020              0            4  37026\n",
       "1   2020              0            2  33515\n",
       "2   2020              0            5  29460\n",
       "3   2020              0            1  14597\n",
       "4   2020              0            3  10440\n",
       "..   ...            ...          ...    ...\n",
       "70  2025              1            5   5496\n",
       "71  2025              1            6   3850\n",
       "72  2025              1            2   2259\n",
       "73  2025              1            3    736\n",
       "74  2025              1            1    510\n",
       "\n",
       "[75 rows x 4 columns]"
      ]
     },
     "execution_count": 54,
     "metadata": {},
     "output_type": "execute_result"
    }
   ],
   "source": [
    "full.groupby(['year', 'high_exposure'])['blight_sqrt'].value_counts().reset_index()"
   ]
  },
  {
   "cell_type": "code",
   "execution_count": 58,
   "id": "1457e969",
   "metadata": {},
   "outputs": [],
   "source": [
    "full.to_csv(clean + 'blight_and_demos.csv', index = False)"
   ]
  },
  {
   "cell_type": "code",
   "execution_count": null,
   "id": "09453a86",
   "metadata": {},
   "outputs": [],
   "source": [
    "parcels = pd.read_csv(clean + 'blight_and_demos.csv')"
   ]
  },
  {
   "cell_type": "code",
   "execution_count": null,
   "id": "9e1ab6bc",
   "metadata": {},
   "outputs": [],
   "source": []
  },
  {
   "cell_type": "code",
   "execution_count": null,
   "id": "cf68f782",
   "metadata": {},
   "outputs": [],
   "source": []
  },
  {
   "cell_type": "code",
   "execution_count": null,
   "id": "bc35c999",
   "metadata": {},
   "outputs": [],
   "source": []
  },
  {
   "cell_type": "code",
   "execution_count": 111,
   "id": "ba00f9ac",
   "metadata": {},
   "outputs": [],
   "source": [
    "# convert geocodes to radians\n",
    "parcels_coords = np.radians(parcels[['lat', 'lng']].values)\n",
    "demos_coords = np.radians(demos[['lat', 'lng']].values)"
   ]
  },
  {
   "cell_type": "code",
   "execution_count": 112,
   "id": "37ba54f9",
   "metadata": {},
   "outputs": [],
   "source": [
    "# earth's radius in meters\n",
    "earth_radius = 6_378_137 # chat-gpt said 6,371,000 but university of southern florida disagrees. I'm using USF\n",
    "\n",
    "demo_tree = BallTree(demos_coords, metric = 'haversine')"
   ]
  },
  {
   "cell_type": "code",
   "execution_count": 113,
   "id": "b29f7749",
   "metadata": {},
   "outputs": [],
   "source": [
    "# distance bins\n",
    "distances = np.arange(50, 800, 50)\n",
    "distances_radians = distances / earth_radius"
   ]
  },
  {
   "cell_type": "code",
   "execution_count": 114,
   "id": "9b900888",
   "metadata": {},
   "outputs": [],
   "source": [
    "# count demos in each distance bin\n",
    "for d_m, d_r in zip(distances, distances_radians):\n",
    "    indices_within_radius = demo_tree.query_radius(parcels_coords, r = d_r)\n",
    "    counts = [len(idxs) for idxs in indices_within_radius]\n",
    "    parcels[f'demos_count_{d_m}'] = counts"
   ]
  },
  {
   "cell_type": "code",
   "execution_count": 115,
   "id": "f4e1cf2f",
   "metadata": {},
   "outputs": [],
   "source": [
    "for i, r in enumerate(distances[::-1]):\n",
    "    if r != distances[0]:\n",
    "        parcels[f'demos_count_{r}'] -= parcels[f'demos_count_{distances[::-1][i + 1]}']"
   ]
  },
  {
   "cell_type": "code",
   "execution_count": 116,
   "id": "d355ca26",
   "metadata": {},
   "outputs": [],
   "source": [
    "weights = [(i + 1) / len(distances) for i, r in enumerate(distances)][::-1]\n",
    "parcels['demos_count_decayed'] = (parcels.iloc[:, -len(distances):] * weights).sum(axis = 1)"
   ]
  },
  {
   "cell_type": "code",
   "execution_count": 117,
   "id": "5ba67968",
   "metadata": {},
   "outputs": [],
   "source": [
    "parcels.loc[parcels['demos_count_decayed'] == -np.inf, 'demos_count_decayed'] = 0"
   ]
  },
  {
   "cell_type": "markdown",
   "id": "3d34695b",
   "metadata": {},
   "source": [
    "#### Population average and std dev of demos_count_decayed"
   ]
  },
  {
   "cell_type": "code",
   "execution_count": 118,
   "id": "fb68318d",
   "metadata": {},
   "outputs": [],
   "source": [
    "pop_mean = parcels['demos_count_decayed'].mean()\n",
    "pop_std = parcels['demos_count_decayed'].std()\n",
    "\n",
    "lower_bound = pop_mean - 2*pop_std\n",
    "upper_bound = pop_mean + 2*pop_std"
   ]
  },
  {
   "cell_type": "code",
   "execution_count": 119,
   "id": "6eb6577b",
   "metadata": {},
   "outputs": [
    {
     "data": {
      "image/png": "[encoded data removed]",
      "text/plain": [
       "<Figure size 1000x200 with 1 Axes>"
      ]
     },
     "metadata": {},
     "output_type": "display_data"
    }
   ],
   "source": [
    "plt.figure(figsize = (10, 2))\n",
    "sns.kdeplot(parcels['demos_count_decayed'])\n",
    "plt.show()"
   ]
  },
  {
   "cell_type": "code",
   "execution_count": 120,
   "id": "f95c483e",
   "metadata": {},
   "outputs": [],
   "source": [
    "parcels['low_exposure'] = np.where(parcels['demos_count_decayed'] < lower_bound, 1, 0)\n",
    "parcels['high_exposure'] = np.where(parcels['demos_count_decayed'] > upper_bound, 1, 0)"
   ]
  },
  {
   "cell_type": "code",
   "execution_count": 121,
   "id": "e119d53f",
   "metadata": {},
   "outputs": [
    {
     "data": {
      "text/plain": [
       "high_exposure\n",
       "0   0.963\n",
       "1   0.037\n",
       "Name: proportion, dtype: float64"
      ]
     },
     "execution_count": 121,
     "metadata": {},
     "output_type": "execute_result"
    }
   ],
   "source": [
    "parcels['high_exposure'].value_counts(normalize = True)"
   ]
  },
  {
   "cell_type": "code",
   "execution_count": 122,
   "id": "c75ac97c",
   "metadata": {},
   "outputs": [
    {
     "data": {
      "text/plain": [
       "blight\n",
       "1   0.000\n",
       "2   0.000\n",
       "3   0.000\n",
       "4   0.066\n",
       "5   0.278\n",
       "6   0.256\n",
       "7   0.000\n",
       "Name: high_exposure, dtype: float64"
      ]
     },
     "execution_count": 122,
     "metadata": {},
     "output_type": "execute_result"
    }
   ],
   "source": [
    "parcels.groupby('blight')['high_exposure'].mean()"
   ]
  },
  {
   "cell_type": "code",
   "execution_count": 123,
   "id": "e40d542a",
   "metadata": {},
   "outputs": [],
   "source": [
    "results = []\n",
    "\n",
    "prop_pop = parcels['high_exposure'].mean()\n",
    "\n",
    "for group, gdf in parcels.groupby('blight'):\n",
    "    n = len(gdf)\n",
    "    k = int(gdf['high_exposure'].sum())\n",
    "    prop_group = k / n\n",
    "\n",
    "    # z-test\n",
    "    z_t, z_p = proportions_ztest(k, n, prop_pop)\n",
    "\n",
    "    # binomial test\n",
    "    bin_p = binomtest(k, n, prop_pop).pvalue\n",
    "\n",
    "    results.append({\n",
    "        'group': group,\n",
    "        'n': n,\n",
    "        'prop_pop': prop_pop,\n",
    "        'prop_group': prop_group,\n",
    "        'z_p': z_p,\n",
    "        'bin_p': bin_p\n",
    "    })\n",
    "\n",
    "results = pd.DataFrame(results)"
   ]
  },
  {
   "cell_type": "code",
   "execution_count": 124,
   "id": "e5028464",
   "metadata": {},
   "outputs": [
    {
     "data": {
      "text/html": [
       "<div>\n",
       "<style scoped>\n",
       "    .dataframe tbody tr th:only-of-type {\n",
       "        vertical-align: middle;\n",
       "    }\n",
       "\n",
       "    .dataframe tbody tr th {\n",
       "        vertical-align: top;\n",
       "    }\n",
       "\n",
       "    .dataframe thead th {\n",
       "        text-align: right;\n",
       "    }\n",
       "</style>\n",
       "<table border=\"1\" class=\"dataframe\">\n",
       "  <thead>\n",
       "    <tr style=\"text-align: right;\">\n",
       "      <th></th>\n",
       "      <th>group</th>\n",
       "      <th>n</th>\n",
       "      <th>prop_pop</th>\n",
       "      <th>prop_group</th>\n",
       "      <th>z_p</th>\n",
       "      <th>bin_p</th>\n",
       "    </tr>\n",
       "  </thead>\n",
       "  <tbody>\n",
       "    <tr>\n",
       "      <th>0</th>\n",
       "      <td>1</td>\n",
       "      <td>47632</td>\n",
       "      <td>0.037</td>\n",
       "      <td>0.000</td>\n",
       "      <td>0.000</td>\n",
       "      <td>0.000</td>\n",
       "    </tr>\n",
       "    <tr>\n",
       "      <th>1</th>\n",
       "      <td>2</td>\n",
       "      <td>45724</td>\n",
       "      <td>0.037</td>\n",
       "      <td>0.000</td>\n",
       "      <td>0.000</td>\n",
       "      <td>0.000</td>\n",
       "    </tr>\n",
       "    <tr>\n",
       "      <th>2</th>\n",
       "      <td>3</td>\n",
       "      <td>8879</td>\n",
       "      <td>0.037</td>\n",
       "      <td>0.000</td>\n",
       "      <td>0.000</td>\n",
       "      <td>0.000</td>\n",
       "    </tr>\n",
       "    <tr>\n",
       "      <th>3</th>\n",
       "      <td>4</td>\n",
       "      <td>27919</td>\n",
       "      <td>0.037</td>\n",
       "      <td>0.066</td>\n",
       "      <td>0.000</td>\n",
       "      <td>0.000</td>\n",
       "    </tr>\n",
       "    <tr>\n",
       "      <th>4</th>\n",
       "      <td>5</td>\n",
       "      <td>9697</td>\n",
       "      <td>0.037</td>\n",
       "      <td>0.278</td>\n",
       "      <td>0.000</td>\n",
       "      <td>0.000</td>\n",
       "    </tr>\n",
       "    <tr>\n",
       "      <th>5</th>\n",
       "      <td>6</td>\n",
       "      <td>3281</td>\n",
       "      <td>0.037</td>\n",
       "      <td>0.256</td>\n",
       "      <td>0.000</td>\n",
       "      <td>0.000</td>\n",
       "    </tr>\n",
       "    <tr>\n",
       "      <th>6</th>\n",
       "      <td>7</td>\n",
       "      <td>899</td>\n",
       "      <td>0.037</td>\n",
       "      <td>0.000</td>\n",
       "      <td>0.000</td>\n",
       "      <td>0.000</td>\n",
       "    </tr>\n",
       "  </tbody>\n",
       "</table>\n",
       "</div>"
      ],
      "text/plain": [
       "   group      n  prop_pop  prop_group   z_p  bin_p\n",
       "0      1  47632     0.037       0.000 0.000  0.000\n",
       "1      2  45724     0.037       0.000 0.000  0.000\n",
       "2      3   8879     0.037       0.000 0.000  0.000\n",
       "3      4  27919     0.037       0.066 0.000  0.000\n",
       "4      5   9697     0.037       0.278 0.000  0.000\n",
       "5      6   3281     0.037       0.256 0.000  0.000\n",
       "6      7    899     0.037       0.000 0.000  0.000"
      ]
     },
     "execution_count": 124,
     "metadata": {},
     "output_type": "execute_result"
    }
   ],
   "source": [
    "results"
   ]
  },
  {
   "cell_type": "code",
   "execution_count": 125,
   "id": "76ff20a6",
   "metadata": {},
   "outputs": [
    {
     "data": {
      "text/plain": [
       "blight\n",
       "1    1.275\n",
       "2    4.447\n",
       "3    4.154\n",
       "4    8.303\n",
       "5   12.188\n",
       "6   10.708\n",
       "7    3.405\n",
       "Name: demos_count_decayed, dtype: float64"
      ]
     },
     "execution_count": 125,
     "metadata": {},
     "output_type": "execute_result"
    }
   ],
   "source": [
    "parcels.groupby('blight')['demos_count_decayed'].mean()"
   ]
  },
  {
   "cell_type": "code",
   "execution_count": 128,
   "id": "79957a02",
   "metadata": {},
   "outputs": [
    {
     "data": {
      "text/plain": [
       "blight_sqrt\n",
       "6   0.706\n",
       "5   0.294\n",
       "Name: proportion, dtype: float64"
      ]
     },
     "execution_count": 128,
     "metadata": {},
     "output_type": "execute_result"
    }
   ],
   "source": [
    "parcels.loc[parcels['high_exposure'] == 1]['blight_sqrt'].value_counts(normalize = True)"
   ]
  },
  {
   "cell_type": "code",
   "execution_count": null,
   "id": "543b3a93",
   "metadata": {},
   "outputs": [],
   "source": []
  }
 ],
 "metadata": {
  "kernelspec": {
   "display_name": "base",
   "language": "python",
   "name": "python3"
  },
  "language_info": {
   "codemirror_mode": {
    "name": "ipython",
    "version": 3
   },
   "file_extension": ".py",
   "mimetype": "text/x-python",
   "name": "python",
   "nbconvert_exporter": "python",
   "pygments_lexer": "ipython3",
   "version": "3.13.5"
  }
 },
 "nbformat": 4,
 "nbformat_minor": 5
}
