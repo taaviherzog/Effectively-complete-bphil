{
 "cells": [
  {
   "cell_type": "code",
   "execution_count": 1,
   "id": "b4bd8cc6-0639-477d-888b-e0ea8be718b7",
   "metadata": {},
   "outputs": [],
   "source": [
    "import pandas as pd\n",
    "import numpy as np\n",
    "import urllib.request\n",
    "import json\n",
    "import geopandas as gpd\n",
    "from shapely.geometry import Polygon, MultiPolygon, Point\n",
    "from shapely import wkt\n",
    "import seaborn as sns\n",
    "import seaborn.objects as so\n",
    "import matplotlib.pyplot as plt\n",
    "import matplotlib.cm as cm\n",
    "import plotly.express as px\n",
    "import warnings\n",
    "from sklearn.neighbors import KNeighborsClassifier\n",
    "import os\n",
    "from scipy.stats import f_oneway\n",
    "from pathlib import Path"
   ]
  },
  {
   "cell_type": "code",
   "execution_count": 2,
   "id": "b115f336-b8b2-4fb0-b516-cbbdd35ac8a6",
   "metadata": {},
   "outputs": [],
   "source": [
    "pd.set_option('display.max_columns', None)\n",
    "pd.set_option('display.max_rows', 50)\n",
    "pd.set_option('display.float_format', '{:.3f}'.format)\n",
    "warnings.filterwarnings('ignore')"
   ]
  },
  {
   "cell_type": "code",
   "execution_count": 3,
   "id": "0798651c-5a8c-4d2f-8e07-34421735bb3f",
   "metadata": {},
   "outputs": [],
   "source": [
    "raw = \"C:\\\\Users\\\\taavi\\\\Desktop\\\\BPHIL\\\\Raw data\\\\\"\n",
    "clean = \"C:\\\\Users\\\\taavi\\\\Desktop\\\\BPHIL\\\\Clean data\\\\\""
   ]
  },
  {
   "cell_type": "markdown",
   "id": "67fec049-769d-4f2e-b708-59c89a7f59da",
   "metadata": {},
   "source": [
    "### Filtering logic for within Pittsburgh boundary"
   ]
  },
  {
   "cell_type": "code",
   "execution_count": 4,
   "id": "5ebd91ab-982f-42e0-8164-e31d003f947a",
   "metadata": {},
   "outputs": [],
   "source": [
    "# https://pghgishub-pittsburghpa.opendata.arcgis.com/datasets/pittsburghpa::pittsburgh-boundary/explore?location=40.430398%2C-79.979853%2C11.85\n",
    "geojson = gpd.read_file(raw + 'Pittsburgh_Boundary.geojson')\n",
    "\n",
    "boundary = geojson.geometry.iloc[2]\n",
    "# this is the perimeter of the city\n",
    "\n",
    "polygons = [geom for geom in boundary.geoms]\n",
    "    \n",
    "def filterData(data, polygons):\n",
    "    filteredData = []\n",
    "    for index, row in data.iterrows():\n",
    "        dataPoint = Point(row['lng'], row['lat'])\n",
    "        for polygon in polygons:\n",
    "            if dataPoint.within(polygon):\n",
    "                filteredData.append(row)\n",
    "                break\n",
    "    return pd.DataFrame(filteredData)"
   ]
  },
  {
   "cell_type": "markdown",
   "id": "dd05e39b-1906-426c-8386-a407aac1be5f",
   "metadata": {},
   "source": [
    "### Neighborhoods"
   ]
  },
  {
   "cell_type": "code",
   "execution_count": 60,
   "id": "2e7e2742-efb9-48c2-b54a-787b68a27698",
   "metadata": {},
   "outputs": [],
   "source": [
    "# dictionary to store temporary dfs\n",
    "dfs = {}\n",
    "\n",
    "# download the data via the provided API\n",
    "offset = 0\n",
    "index = 0\n",
    "while True:\n",
    "    url = 'https://data.wprdc.org/api/3/action/datastore_search?resource_id=668d7238-cfd2-492e-b397-51a6e74182ff&limit=32000'\n",
    "    url += '&offset=' + str(offset)\n",
    "    fileobj = urllib.request.urlopen(url)\n",
    "    data = pd.DataFrame(json.loads(fileobj.read())['result']['records'])\n",
    "    dfs['df' + str(index)] = data\n",
    "    offset += 32000\n",
    "    index += 1\n",
    "    if len(data) == 0:\n",
    "        break\n",
    "        \n",
    "nbrhds = pd.concat(dfs.values(), ignore_index = True)"
   ]
  },
  {
   "cell_type": "code",
   "execution_count": 61,
   "id": "3e925e56-d9e2-40a9-8a58-aec0d7a975c2",
   "metadata": {},
   "outputs": [],
   "source": [
    "nbrhds.to_csv(raw + 'raw_neighborhoods.csv', index = False)"
   ]
  },
  {
   "cell_type": "code",
   "execution_count": 62,
   "id": "9d45d0e5-3ee1-4525-8db3-48c5ff14687c",
   "metadata": {},
   "outputs": [],
   "source": [
    "nbrhds = pd.read_csv(raw + 'raw_neighborhoods.csv')"
   ]
  },
  {
   "cell_type": "code",
   "execution_count": 63,
   "id": "42fa0138-7994-469c-bb12-dec22cd90162",
   "metadata": {},
   "outputs": [],
   "source": [
    "nbrhds = (\n",
    "    nbrhds\n",
    "    .assign(\n",
    "        lat = nbrhds['intptlat10'].apply(lambda x: float(x[1:] if x != ' ' else np.nan)),\n",
    "        lng = nbrhds['intptlon10'].apply(lambda x: float(x) if x != ' ' else np.nan)\n",
    "    )\n",
    ")"
   ]
  },
  {
   "cell_type": "code",
   "execution_count": 64,
   "id": "ff9c02e9",
   "metadata": {},
   "outputs": [],
   "source": [
    "nbrhds.to_csv(clean + 'clean_nbrhds.csv', index = False)"
   ]
  },
  {
   "cell_type": "code",
   "execution_count": 5,
   "id": "ee3af3f3",
   "metadata": {},
   "outputs": [],
   "source": [
    "nbrhds = pd.read_csv(clean + 'clean_nbrhds.csv')"
   ]
  },
  {
   "cell_type": "markdown",
   "id": "9424b291-deb9-45a2-98df-6ca03829bced",
   "metadata": {},
   "source": [
    "### Parcels"
   ]
  },
  {
   "cell_type": "code",
   "execution_count": 66,
   "id": "40c79556-03e2-4170-ac41-b0ed1ae3739c",
   "metadata": {},
   "outputs": [
    {
     "ename": "KeyboardInterrupt",
     "evalue": "",
     "output_type": "error",
     "traceback": [
      "\u001b[1;31m---------------------------------------------------------------------------\u001b[0m",
      "\u001b[1;31mKeyboardInterrupt\u001b[0m                         Traceback (most recent call last)",
      "Cell \u001b[1;32mIn[66], line 13\u001b[0m\n\u001b[0;32m     11\u001b[0m url \u001b[38;5;241m+\u001b[39m\u001b[38;5;241m=\u001b[39m \u001b[38;5;124m'\u001b[39m\u001b[38;5;124m&offset=\u001b[39m\u001b[38;5;124m'\u001b[39m \u001b[38;5;241m+\u001b[39m \u001b[38;5;28mstr\u001b[39m(offset)\n\u001b[0;32m     12\u001b[0m fileobj \u001b[38;5;241m=\u001b[39m urllib\u001b[38;5;241m.\u001b[39mrequest\u001b[38;5;241m.\u001b[39murlopen(url)\n\u001b[1;32m---> 13\u001b[0m data \u001b[38;5;241m=\u001b[39m pd\u001b[38;5;241m.\u001b[39mDataFrame(json\u001b[38;5;241m.\u001b[39mloads(fileobj\u001b[38;5;241m.\u001b[39mread())[\u001b[38;5;124m'\u001b[39m\u001b[38;5;124mresult\u001b[39m\u001b[38;5;124m'\u001b[39m][\u001b[38;5;124m'\u001b[39m\u001b[38;5;124mrecords\u001b[39m\u001b[38;5;124m'\u001b[39m])\n\u001b[0;32m     14\u001b[0m dfs[\u001b[38;5;124m'\u001b[39m\u001b[38;5;124mdf\u001b[39m\u001b[38;5;124m'\u001b[39m \u001b[38;5;241m+\u001b[39m \u001b[38;5;28mstr\u001b[39m(index)] \u001b[38;5;241m=\u001b[39m data\n\u001b[0;32m     15\u001b[0m offset \u001b[38;5;241m+\u001b[39m\u001b[38;5;241m=\u001b[39m \u001b[38;5;241m32000\u001b[39m\n",
      "File \u001b[1;32mc:\\Users\\Taavi\\anaconda3\\Lib\\http\\client.py:495\u001b[0m, in \u001b[0;36mHTTPResponse.read\u001b[1;34m(self, amt)\u001b[0m\n\u001b[0;32m    493\u001b[0m \u001b[38;5;28;01melse\u001b[39;00m:\n\u001b[0;32m    494\u001b[0m     \u001b[38;5;28;01mtry\u001b[39;00m:\n\u001b[1;32m--> 495\u001b[0m         s \u001b[38;5;241m=\u001b[39m \u001b[38;5;28mself\u001b[39m\u001b[38;5;241m.\u001b[39m_safe_read(\u001b[38;5;28mself\u001b[39m\u001b[38;5;241m.\u001b[39mlength)\n\u001b[0;32m    496\u001b[0m     \u001b[38;5;28;01mexcept\u001b[39;00m IncompleteRead:\n\u001b[0;32m    497\u001b[0m         \u001b[38;5;28mself\u001b[39m\u001b[38;5;241m.\u001b[39m_close_conn()\n",
      "File \u001b[1;32mc:\\Users\\Taavi\\anaconda3\\Lib\\http\\client.py:642\u001b[0m, in \u001b[0;36mHTTPResponse._safe_read\u001b[1;34m(self, amt)\u001b[0m\n\u001b[0;32m    635\u001b[0m \u001b[38;5;28;01mdef\u001b[39;00m\u001b[38;5;250m \u001b[39m\u001b[38;5;21m_safe_read\u001b[39m(\u001b[38;5;28mself\u001b[39m, amt):\n\u001b[0;32m    636\u001b[0m \u001b[38;5;250m    \u001b[39m\u001b[38;5;124;03m\"\"\"Read the number of bytes requested.\u001b[39;00m\n\u001b[0;32m    637\u001b[0m \n\u001b[0;32m    638\u001b[0m \u001b[38;5;124;03m    This function should be used when <amt> bytes \"should\" be present for\u001b[39;00m\n\u001b[0;32m    639\u001b[0m \u001b[38;5;124;03m    reading. If the bytes are truly not available (due to EOF), then the\u001b[39;00m\n\u001b[0;32m    640\u001b[0m \u001b[38;5;124;03m    IncompleteRead exception can be used to detect the problem.\u001b[39;00m\n\u001b[0;32m    641\u001b[0m \u001b[38;5;124;03m    \"\"\"\u001b[39;00m\n\u001b[1;32m--> 642\u001b[0m     data \u001b[38;5;241m=\u001b[39m \u001b[38;5;28mself\u001b[39m\u001b[38;5;241m.\u001b[39mfp\u001b[38;5;241m.\u001b[39mread(amt)\n\u001b[0;32m    643\u001b[0m     \u001b[38;5;28;01mif\u001b[39;00m \u001b[38;5;28mlen\u001b[39m(data) \u001b[38;5;241m<\u001b[39m amt:\n\u001b[0;32m    644\u001b[0m         \u001b[38;5;28;01mraise\u001b[39;00m IncompleteRead(data, amt\u001b[38;5;241m-\u001b[39m\u001b[38;5;28mlen\u001b[39m(data))\n",
      "File \u001b[1;32mc:\\Users\\Taavi\\anaconda3\\Lib\\socket.py:719\u001b[0m, in \u001b[0;36mSocketIO.readinto\u001b[1;34m(self, b)\u001b[0m\n\u001b[0;32m    717\u001b[0m     \u001b[38;5;28;01mraise\u001b[39;00m \u001b[38;5;167;01mOSError\u001b[39;00m(\u001b[38;5;124m\"\u001b[39m\u001b[38;5;124mcannot read from timed out object\u001b[39m\u001b[38;5;124m\"\u001b[39m)\n\u001b[0;32m    718\u001b[0m \u001b[38;5;28;01mtry\u001b[39;00m:\n\u001b[1;32m--> 719\u001b[0m     \u001b[38;5;28;01mreturn\u001b[39;00m \u001b[38;5;28mself\u001b[39m\u001b[38;5;241m.\u001b[39m_sock\u001b[38;5;241m.\u001b[39mrecv_into(b)\n\u001b[0;32m    720\u001b[0m \u001b[38;5;28;01mexcept\u001b[39;00m timeout:\n\u001b[0;32m    721\u001b[0m     \u001b[38;5;28mself\u001b[39m\u001b[38;5;241m.\u001b[39m_timeout_occurred \u001b[38;5;241m=\u001b[39m \u001b[38;5;28;01mTrue\u001b[39;00m\n",
      "File \u001b[1;32mc:\\Users\\Taavi\\anaconda3\\Lib\\ssl.py:1304\u001b[0m, in \u001b[0;36mSSLSocket.recv_into\u001b[1;34m(self, buffer, nbytes, flags)\u001b[0m\n\u001b[0;32m   1300\u001b[0m     \u001b[38;5;28;01mif\u001b[39;00m flags \u001b[38;5;241m!=\u001b[39m \u001b[38;5;241m0\u001b[39m:\n\u001b[0;32m   1301\u001b[0m         \u001b[38;5;28;01mraise\u001b[39;00m \u001b[38;5;167;01mValueError\u001b[39;00m(\n\u001b[0;32m   1302\u001b[0m           \u001b[38;5;124m\"\u001b[39m\u001b[38;5;124mnon-zero flags not allowed in calls to recv_into() on \u001b[39m\u001b[38;5;132;01m%s\u001b[39;00m\u001b[38;5;124m\"\u001b[39m \u001b[38;5;241m%\u001b[39m\n\u001b[0;32m   1303\u001b[0m           \u001b[38;5;28mself\u001b[39m\u001b[38;5;241m.\u001b[39m\u001b[38;5;18m__class__\u001b[39m)\n\u001b[1;32m-> 1304\u001b[0m     \u001b[38;5;28;01mreturn\u001b[39;00m \u001b[38;5;28mself\u001b[39m\u001b[38;5;241m.\u001b[39mread(nbytes, buffer)\n\u001b[0;32m   1305\u001b[0m \u001b[38;5;28;01melse\u001b[39;00m:\n\u001b[0;32m   1306\u001b[0m     \u001b[38;5;28;01mreturn\u001b[39;00m \u001b[38;5;28msuper\u001b[39m()\u001b[38;5;241m.\u001b[39mrecv_into(buffer, nbytes, flags)\n",
      "File \u001b[1;32mc:\\Users\\Taavi\\anaconda3\\Lib\\ssl.py:1138\u001b[0m, in \u001b[0;36mSSLSocket.read\u001b[1;34m(self, len, buffer)\u001b[0m\n\u001b[0;32m   1136\u001b[0m \u001b[38;5;28;01mtry\u001b[39;00m:\n\u001b[0;32m   1137\u001b[0m     \u001b[38;5;28;01mif\u001b[39;00m buffer \u001b[38;5;129;01mis\u001b[39;00m \u001b[38;5;129;01mnot\u001b[39;00m \u001b[38;5;28;01mNone\u001b[39;00m:\n\u001b[1;32m-> 1138\u001b[0m         \u001b[38;5;28;01mreturn\u001b[39;00m \u001b[38;5;28mself\u001b[39m\u001b[38;5;241m.\u001b[39m_sslobj\u001b[38;5;241m.\u001b[39mread(\u001b[38;5;28mlen\u001b[39m, buffer)\n\u001b[0;32m   1139\u001b[0m     \u001b[38;5;28;01melse\u001b[39;00m:\n\u001b[0;32m   1140\u001b[0m         \u001b[38;5;28;01mreturn\u001b[39;00m \u001b[38;5;28mself\u001b[39m\u001b[38;5;241m.\u001b[39m_sslobj\u001b[38;5;241m.\u001b[39mread(\u001b[38;5;28mlen\u001b[39m)\n",
      "\u001b[1;31mKeyboardInterrupt\u001b[0m: "
     ]
    }
   ],
   "source": [
    "# https://data.wprdc.org/dataset/parcel-centroids-in-allegheny-county-with-geographic-identifiers/resource/adf1fd38-c374-4c4e-9094-5e53bd12419f\n",
    "# - 2010 census boundaries and redistricting prior to 2020\n",
    "# dictionary to store temporary dfs\n",
    "dfs = {}\n",
    "\n",
    "# download the data via the provided API\n",
    "offset = 0\n",
    "index = 0\n",
    "while True:\n",
    "    url = 'https://data.wprdc.org/api/3/action/datastore_search?resource_id=adf1fd38-c374-4c4e-9094-5e53bd12419f&limit=32000'\n",
    "    url += '&offset=' + str(offset)\n",
    "    fileobj = urllib.request.urlopen(url)\n",
    "    data = pd.DataFrame(json.loads(fileobj.read())['result']['records'])\n",
    "    dfs['df' + str(index)] = data\n",
    "    offset += 32000\n",
    "    index += 1\n",
    "    if len(data) == 0:\n",
    "        break\n",
    "        \n",
    "parcels = pd.concat(dfs.values(), ignore_index = True)"
   ]
  },
  {
   "cell_type": "code",
   "execution_count": null,
   "id": "95fbdda4-a963-4a56-80f4-9084bc1c9bcd",
   "metadata": {},
   "outputs": [
    {
     "data": {
      "text/plain": [
       "(585387, 23)"
      ]
     },
     "execution_count": 5,
     "metadata": {},
     "output_type": "execute_result"
    }
   ],
   "source": [
    "parcels.shape"
   ]
  },
  {
   "cell_type": "code",
   "execution_count": null,
   "id": "d4a914f5-4e17-4de8-8f22-8590e79931b4",
   "metadata": {},
   "outputs": [],
   "source": [
    "parcels.head(1)"
   ]
  },
  {
   "cell_type": "code",
   "execution_count": null,
   "id": "14c9c5e9-b105-477d-ab3f-dab733cd9c44",
   "metadata": {},
   "outputs": [],
   "source": [
    "parcels.to_csv(raw + 'raw_parcels.csv', index = False)"
   ]
  },
  {
   "cell_type": "code",
   "execution_count": null,
   "id": "01540a2c-ad87-4ad0-949d-28f14949063e",
   "metadata": {},
   "outputs": [],
   "source": [
    "parcels = pd.read_csv(raw + 'raw_parcels.csv')"
   ]
  },
  {
   "cell_type": "code",
   "execution_count": null,
   "id": "89c1caba-fab1-4631-8a56-953fca9cacb4",
   "metadata": {},
   "outputs": [],
   "source": [
    "# neighborhood\n",
    "parcels = parcels.loc[parcels['geo_name_n'] != ' ']\n",
    "parcels['geo_name_n'] = np.where(parcels['geo_name_n'] != 'Mount Oliver Borough', parcels['geo_name_n'], 'Mt. Oliver')\n",
    "\n",
    "# isolate 'parcelID', 'lat', 'lng', 'nbrhd', 'tract'\n",
    "parcels = parcels.loc[:, ['PIN', 'Latitude', 'Longitude', 'geo_name_n', 'TRACTCE10', 'BLOCKCE10']] # could include GEOID10 for census bureau statistics mapping\n",
    "\n",
    "# rename columns\n",
    "parcels.columns = ['parcelID', 'lat', 'lng', 'nbrhd', 'tract', 'block'] \n",
    "\n",
    "# drop nulls - string 'nan' in this case\n",
    "#parcels = parcels.drop(index = [583953, 583954])\n",
    "exclude = [' ', 'COMMON GROUND', 'Westmoreland County', 'Washington County', 'Butler County', 'Not Assessed', 'Beaver County']\n",
    "parcels = parcels.loc[parcels['parcelID'].isin(exclude) == False]\n",
    "\n",
    "parcels = parcels.drop_duplicates(subset = 'parcelID')\n",
    "\n",
    "# filter for just Pittsburgh\n",
    "parcels = filterData(parcels, polygons)\n",
    "\n",
    "parcels = parcels.reset_index(drop = True)"
   ]
  },
  {
   "cell_type": "code",
   "execution_count": null,
   "id": "b5405ac1-bc35-4342-bde4-1fa88faf888e",
   "metadata": {},
   "outputs": [],
   "source": [
    "parcels.head(1)"
   ]
  },
  {
   "cell_type": "code",
   "execution_count": null,
   "id": "036e86d3-2f08-4a51-bdca-66f21f5e118a",
   "metadata": {},
   "outputs": [],
   "source": [
    "parcels.shape[0]"
   ]
  },
  {
   "cell_type": "code",
   "execution_count": null,
   "id": "f063ac3e-16ed-4436-bca9-9cf0456ba8c4",
   "metadata": {},
   "outputs": [],
   "source": [
    "parcels.to_csv(clean + 'clean_parcels.csv', index = False)"
   ]
  },
  {
   "cell_type": "code",
   "execution_count": 6,
   "id": "20fc3476-fc95-4d89-843c-c3e97c513498",
   "metadata": {},
   "outputs": [],
   "source": [
    "parcels = pd.read_csv(clean + 'clean_parcels.csv')"
   ]
  },
  {
   "cell_type": "markdown",
   "id": "ce68496b-28eb-49ee-a429-35fc0231aa80",
   "metadata": {},
   "source": [
    "### Violations - new"
   ]
  },
  {
   "cell_type": "code",
   "execution_count": null,
   "id": "1554efda-2797-41b6-bdee-a6c2db42ac22",
   "metadata": {},
   "outputs": [],
   "source": [
    "# https://data.wprdc.org/dataset/pittsburgh-pli-violations-report/resource/70c06278-92c5-4040-ab28-17671866f81c\n",
    "# dictionary to store temporary dfs\n",
    "dfs = {}\n",
    "\n",
    "# download the data via the provided API\n",
    "offset = 0\n",
    "index = 0\n",
    "while True:\n",
    "    url = 'https://data.wprdc.org/api/3/action/datastore_search?resource_id=70c06278-92c5-4040-ab28-17671866f81c&limit=32000'\n",
    "    url += '&offset=' + str(offset)\n",
    "    fileobj = urllib.request.urlopen(url)\n",
    "    data = pd.DataFrame(json.loads(fileobj.read())['result']['records'])\n",
    "    dfs['df' + str(index)] = data\n",
    "    offset += 32000\n",
    "    index += 1\n",
    "    if len(data) == 0:\n",
    "        break\n",
    "\n",
    "viols = pd.concat(dfs.values(), ignore_index = True)"
   ]
  },
  {
   "cell_type": "code",
   "execution_count": null,
   "id": "e55f32c9-735c-4584-a583-b665af9debcb",
   "metadata": {},
   "outputs": [],
   "source": [
    "viols.head(1)"
   ]
  },
  {
   "cell_type": "code",
   "execution_count": null,
   "id": "b459f483-f09d-4460-9816-3401b9ed839c",
   "metadata": {},
   "outputs": [],
   "source": [
    "viols.to_csv(raw + 'raw_viols.csv', index = False)"
   ]
  },
  {
   "cell_type": "code",
   "execution_count": null,
   "id": "525bf707-d655-46b8-933e-5e9a3769a094",
   "metadata": {},
   "outputs": [],
   "source": [
    "viols = pd.read_csv(raw + 'raw_viols.csv')"
   ]
  },
  {
   "cell_type": "code",
   "execution_count": null,
   "id": "be7fa4c1-7be3-44c0-8c3b-07c0ebfedc21",
   "metadata": {},
   "outputs": [],
   "source": [
    "# merge in lat and lng, and also filter for within Pittsburgh\n",
    "viols = viols.merge(right = parcels, left_on = 'parcel_id', right_on = 'parcelID', how = 'inner')"
   ]
  },
  {
   "cell_type": "code",
   "execution_count": null,
   "id": "eff752a6-944c-484b-8d81-c71ef36aa01e",
   "metadata": {},
   "outputs": [],
   "source": [
    "viols.head(1)"
   ]
  },
  {
   "cell_type": "code",
   "execution_count": null,
   "id": "beb06210-32ee-4f8d-b3f7-d53bc0775291",
   "metadata": {},
   "outputs": [],
   "source": [
    "# isolate columns\n",
    "viols = viols.loc[:, ['casefile_number', 'parcel_id', 'investigation_date', 'violation_code_section', 'investigation_outcome', 'lat', 'lng']]\n",
    "\n",
    "# rename columns\n",
    "viols.columns = ['violID', 'parcelID', 'date', 'code', 'outcome', 'lat', 'lng']\n",
    "\n",
    "# drop nulls\n",
    "viols = viols.dropna()\n",
    "\n",
    "# drop duplicates\n",
    "#viols = viols.drop_duplicates()"
   ]
  },
  {
   "cell_type": "code",
   "execution_count": null,
   "id": "7af2b444-7216-40c9-abd8-d91f6ddeb35a",
   "metadata": {},
   "outputs": [],
   "source": [
    "viols.head(1)"
   ]
  },
  {
   "cell_type": "code",
   "execution_count": null,
   "id": "585eea27-e0d7-4253-9312-b9d894da8f8f",
   "metadata": {},
   "outputs": [],
   "source": [
    "viols.to_csv(clean + 'clean_viols.csv', index = False)"
   ]
  },
  {
   "cell_type": "markdown",
   "id": "3d45c85c-2c42-491a-84b0-d876a9bb4048",
   "metadata": {},
   "source": [
    "### Violations - old"
   ]
  },
  {
   "cell_type": "code",
   "execution_count": null,
   "id": "b37e7f0b-a484-4db7-85ee-19ff49585b3d",
   "metadata": {},
   "outputs": [],
   "source": [
    "# https://data.wprdc.org/dataset/pittsburgh-pli-violations-report/resource/4e5374be-1a88-47f7-afee-6a79317019b4\n",
    "# dictionary to store temporary dfs\n",
    "dfs = {}\n",
    "\n",
    "# download the data via the provided API\n",
    "offset = 0\n",
    "index = 0\n",
    "while True:\n",
    "    url = 'https://data.wprdc.org/api/3/action/datastore_search?resource_id=4e5374be-1a88-47f7-afee-6a79317019b4&limit=32000'  \n",
    "    url += '&offset=' + str(offset)\n",
    "    fileobj = urllib.request.urlopen(url)\n",
    "    data = pd.DataFrame(json.loads(fileobj.read())['result']['records'])\n",
    "    dfs['df' + str(index)] = data\n",
    "    offset += 32000\n",
    "    index += 1\n",
    "    if len(data) == 0:\n",
    "        break\n",
    "\n",
    "violsOld = pd.concat(dfs.values(), ignore_index = True)"
   ]
  },
  {
   "cell_type": "code",
   "execution_count": null,
   "id": "05300e1a-b5d0-42dd-b045-9401643c0741",
   "metadata": {},
   "outputs": [],
   "source": [
    "violsOld.to_csv(raw + 'raw_viols_old.csv', index = False)"
   ]
  },
  {
   "cell_type": "code",
   "execution_count": null,
   "id": "0201ee7c-6ec4-4ee7-9bb7-b46778cc3e92",
   "metadata": {},
   "outputs": [],
   "source": [
    "violsOld.head(1)"
   ]
  },
  {
   "cell_type": "code",
   "execution_count": null,
   "id": "55178c16-133f-48cc-a430-e247e6e1d5d4",
   "metadata": {},
   "outputs": [],
   "source": [
    "violsOld = pd.read_csv(raw + 'raw_viols_old.csv')"
   ]
  },
  {
   "cell_type": "code",
   "execution_count": null,
   "id": "66265cc6-e921-45cd-87e2-4ec41a213d19",
   "metadata": {},
   "outputs": [],
   "source": [
    "violsOld = violsOld.loc[violsOld['INSPECTION_RESULT'] == 'Violations Found']\n",
    "\n",
    "violsOld = violsOld[['CASE_NUMBER', 'PARCEL', 'INSPECTION_DATE', 'VIOLATION', 'INSPECTION_RESULT', 'Y', 'X']]\n",
    "\n",
    "violsOld.columns = ['violID', 'parcelID', 'date', 'code', 'outcome', 'lat', 'lng']\n",
    "\n",
    "violsOld = violsOld.dropna()"
   ]
  },
  {
   "cell_type": "code",
   "execution_count": null,
   "id": "f095112f-41ce-4005-99dd-26adaa73182e",
   "metadata": {},
   "outputs": [],
   "source": [
    "violsOld.head(1)"
   ]
  },
  {
   "cell_type": "code",
   "execution_count": null,
   "id": "68719ea1-7de1-467c-92bd-a22d91139a3b",
   "metadata": {},
   "outputs": [],
   "source": [
    "violsOld.to_csv(clean + 'clean_viols_old.csv', index = False)"
   ]
  },
  {
   "cell_type": "code",
   "execution_count": null,
   "id": "4d00a803",
   "metadata": {},
   "outputs": [],
   "source": [
    "violsOld = pd.read_csv(clean + 'clean_viols_old.csv')"
   ]
  },
  {
   "cell_type": "markdown",
   "id": "8a01ed81-d42a-4689-a978-8f9e9dab429b",
   "metadata": {},
   "source": [
    "### Crimes - 2016-2023"
   ]
  },
  {
   "cell_type": "code",
   "execution_count": null,
   "id": "2ad2cf06-bcb0-4b37-97ea-f3ba36390590",
   "metadata": {},
   "outputs": [],
   "source": [
    "# https://data.wprdc.org/dataset/uniform-crime-reporting-data/resource/044f2016-1dfd-4ab0-bc1e-065da05fca2e\n",
    "# dictionary to store temporary dfs\n",
    "dfs = {}\n",
    "\n",
    "# download the data via the provided API\n",
    "offset = 0\n",
    "index = 0\n",
    "while True:\n",
    "    url = 'https://data.wprdc.org/api/3/action/datastore_search?resource_id=044f2016-1dfd-4ab0-bc1e-065da05fca2e&limit=32000'  \n",
    "    url += '&offset=' + str(offset)\n",
    "    fileobj = urllib.request.urlopen(url)\n",
    "    data = pd.DataFrame(json.loads(fileobj.read())['result']['records'])\n",
    "    dfs['df' + str(index)] = data\n",
    "    offset += 32000\n",
    "    index += 1\n",
    "    if len(data) == 0:\n",
    "        break\n",
    "\n",
    "crimes1 = pd.concat(dfs.values(), ignore_index = True)"
   ]
  },
  {
   "cell_type": "code",
   "execution_count": null,
   "id": "b95d2583-6133-4907-a596-bf481dada12b",
   "metadata": {},
   "outputs": [],
   "source": [
    "crimes1.head(1)"
   ]
  },
  {
   "cell_type": "code",
   "execution_count": null,
   "id": "b6cefa11-5285-4fca-9cd3-4f8860478181",
   "metadata": {},
   "outputs": [],
   "source": [
    "crimes1.to_csv(raw + 'raw_crimes_old.csv', index = False)"
   ]
  },
  {
   "cell_type": "code",
   "execution_count": null,
   "id": "cea5783c-c571-48d5-a5e2-861546cdb5df",
   "metadata": {},
   "outputs": [],
   "source": [
    "crimes1 = pd.read_csv(raw + 'raw_crimes_old.csv')"
   ]
  },
  {
   "cell_type": "code",
   "execution_count": null,
   "id": "8e3ef496-01bd-48d3-8f67-1c6cf4d0daf8",
   "metadata": {},
   "outputs": [],
   "source": [
    "part1_offenses = [\n",
    "    'HOMICIDE', 'RAPE', 'ROBBERY', 'AGGRAVATED ASSAULT', 'BURGLARY', 'THEFT', 'ARSON', 'TRAFFICKING', 'ASSAULT', 'MURDER'\n",
    "]\n",
    "\n",
    "part2_offenses = [\n",
    "    'OTHER ASSAULTS', 'FORGERY AND COUNTERFEITING', 'FRAUD', 'EMBEZZLEMENT', 'STOLEN PROPERTY', 'VANDALISM', 'WEAPONS', 'FIREARM', 'PROSTITUTION',\n",
    "    'SEX OFFENSES','DRUG ABUSE VIOLATIONS', 'GAMBLING', 'OFFENSES AGAINST THE FAMILY AND CHILDREN', 'DRIVING UNDER THE INFLUENCE', 'LIQUOR',\n",
    "    'DRUNKENNESS', 'DISORDERLY CONDUCT', 'VAGRANCY', 'ALL OTHER OFFENSES', 'SUSPICION', 'CURFEW', 'LOITERING'\n",
    "]"
   ]
  },
  {
   "cell_type": "code",
   "execution_count": null,
   "id": "6b1b8bc9-2305-486e-ab56-11cc113957ac",
   "metadata": {},
   "outputs": [],
   "source": [
    "def classify_ucr(desc):\n",
    "    if pd.isna(desc):\n",
    "        return 'Unknown'\n",
    "    desc_upper = desc.upper()\n",
    "    for offense in part1_offenses:\n",
    "        if offense in desc_upper:\n",
    "            return 'High'\n",
    "    for offense in part2_offenses:\n",
    "        if offense in desc_upper:\n",
    "            return 'Low'\n",
    "    return 'Low'"
   ]
  },
  {
   "cell_type": "code",
   "execution_count": null,
   "id": "8e38fb89-9b3f-48c2-935b-acf6dd77a6bb",
   "metadata": {},
   "outputs": [],
   "source": [
    "crimes1['severity'] = crimes1['OFFENSES'].apply(classify_ucr)"
   ]
  },
  {
   "cell_type": "code",
   "execution_count": null,
   "id": "804a1c6a-fa87-4a0e-ad07-7c4545e13293",
   "metadata": {},
   "outputs": [],
   "source": [
    "crimes1 = crimes1[['OFFENSES', 'severity', 'INCIDENTTIME', 'INCIDENTLOCATION', 'INCIDENTNEIGHBORHOOD', 'INCIDENTZONE', 'INCIDENTTRACT', 'Y', 'X']]\n",
    "\n",
    "crimes1.columns = ['crime', 'severity', 'date', 'address', 'nbrhd', 'zone', 'tract', 'lat', 'lng']\n",
    "\n",
    "crimes1 = filterData(crimes1, polygons).reset_index(drop = True)\n",
    "\n",
    "# crimes1 = crimes1.drop_duplicates(subset = ['crime', 'date', 'address'])\n",
    "# not dropping duplicates because data disclaimer says location is block-address rather than street-address to protect identity\n",
    "# so I can't say that dupe addresses or even dupe coordinates are also dupe incidents\n",
    "# https://www.pittsburghpa.gov/files/assets/city/v/1/public-safety/documents/police/2025_pittsburgh_monthly_incident_dataset_disclaimer.pdf\n",
    "\n",
    "# crimes1['date'] = pd.to_datetime(crimes1['date'])"
   ]
  },
  {
   "cell_type": "code",
   "execution_count": null,
   "id": "352ce9dc",
   "metadata": {},
   "outputs": [
    {
     "data": {
      "text/plain": [
       "lat    0\n",
       "lng    0\n",
       "dtype: int64"
      ]
     },
     "execution_count": 39,
     "metadata": {},
     "output_type": "execute_result"
    }
   ],
   "source": [
    "(crimes1[['lat', 'lng']] == 0).sum()"
   ]
  },
  {
   "cell_type": "code",
   "execution_count": null,
   "id": "882eafa0-a98a-4fea-8d1a-a0e7769cea48",
   "metadata": {},
   "outputs": [],
   "source": [
    "# toMerge = nbrhds[['hood', 'lat', 'lng']]\n",
    "# toMerge.columns = ['nbrhd', 'lat_nbrhd', 'lng_nbrhd']\n",
    "# crimes1 = (\n",
    "#     crimes1\n",
    "#     .merge(right = toMerge, on = 'nbrhd', how = 'left')\n",
    "#     .assign(\n",
    "#         lat = lambda x: np.where((x['lat'].notnull()) & (x['lat'] != 0), x['lat'], x['lat_nbrhd']),\n",
    "#         lng = lambda x: np.where((x['lng'].notnull()) & (x['lng'] != 0), x['lng'], x['lng_nbrhd'])\n",
    "#     )\n",
    "#     .dropna(subset = ['lat', 'lng'])\n",
    "# )"
   ]
  },
  {
   "cell_type": "code",
   "execution_count": null,
   "id": "0cc7f603-4075-4a69-8363-851889d22d60",
   "metadata": {},
   "outputs": [],
   "source": [
    "crimes1.to_csv(clean + 'clean_crimes_old.csv', index = False)"
   ]
  },
  {
   "cell_type": "code",
   "execution_count": null,
   "id": "8e4266d5-0c93-465c-bb37-7e3d86686838",
   "metadata": {},
   "outputs": [],
   "source": [
    "crimes1 = pd.read_csv(clean + 'clean_crimes_old.csv')"
   ]
  },
  {
   "cell_type": "markdown",
   "id": "6d4f7a1a-7c94-4180-8847-df8424affaba",
   "metadata": {},
   "source": [
    "### Crimes - 2024-2025"
   ]
  },
  {
   "cell_type": "code",
   "execution_count": null,
   "id": "c3054efd-3f99-448b-8371-a748fd3574e8",
   "metadata": {},
   "outputs": [],
   "source": [
    "# https://data.wprdc.org/dataset/monthly-criminal-activity-dashboard/resource/bd41992a-987a-4cca-8798-fbe1cd946b07\n",
    "# dictionary to store temporary dfs\n",
    "dfs = {}\n",
    "\n",
    "# download the data via the provided API\n",
    "offset = 0\n",
    "index = 0\n",
    "while True:\n",
    "    url = 'https://data.wprdc.org/api/3/action/datastore_search?resource_id=bd41992a-987a-4cca-8798-fbe1cd946b07&limit=32000'  \n",
    "    url += '&offset=' + str(offset)\n",
    "    fileobj = urllib.request.urlopen(url)\n",
    "    data = pd.DataFrame(json.loads(fileobj.read())['result']['records'])\n",
    "    dfs['df' + str(index)] = data\n",
    "    offset += 32000\n",
    "    index += 1\n",
    "    if len(data) == 0:\n",
    "        break\n",
    "\n",
    "crimes2 = pd.concat(dfs.values(), ignore_index = True)"
   ]
  },
  {
   "cell_type": "code",
   "execution_count": null,
   "id": "d2455de8-bcf6-469e-ad26-ef8a1237e5a3",
   "metadata": {},
   "outputs": [],
   "source": [
    "crimes2.to_csv(raw + 'raw_crimes_new.csv', index = False)"
   ]
  },
  {
   "cell_type": "code",
   "execution_count": 67,
   "id": "cc40631f-255e-4fa0-8797-ea122a02fd92",
   "metadata": {},
   "outputs": [],
   "source": [
    "crimes2 = pd.read_csv(raw + 'raw_crimes_new.csv')"
   ]
  },
  {
   "cell_type": "code",
   "execution_count": 68,
   "id": "88cca395-edf8-4cf7-982d-9504f11cb452",
   "metadata": {},
   "outputs": [],
   "source": [
    "crimes2['severity'] = crimes2['Violation'].apply(classify_ucr)\n",
    "\n",
    "crimes2 = (\n",
    "    crimes2\n",
    "    .assign(\n",
    "        sev_code = np.where(crimes2['severity'] == 'High', 1, 0)\n",
    "    )\n",
    "    .assign(\n",
    "        sev_code = lambda x: x.groupby('Report_Number')['sev_code'].transform('max')\n",
    "    )\n",
    "    .assign(\n",
    "        severity = lambda x: np.where(x['sev_code'] == 1, 'High', 'Low')\n",
    "    )\n",
    "    .drop_duplicates(subset = 'Report_Number')\n",
    ")"
   ]
  },
  {
   "cell_type": "code",
   "execution_count": 70,
   "id": "8eb02b36-9167-4b72-93b6-34cf09ac443c",
   "metadata": {},
   "outputs": [],
   "source": [
    "crimes2 = crimes2[['Violation', 'severity', 'ReportedDate', 'Block_Address', 'Neighborhood', 'Zone', 'Tract', 'YCOORD', 'XCOORD']]\n",
    "\n",
    "crimes2.columns = ['crime', 'severity', 'date', 'address', 'nbrhd', 'zone', 'tract', 'lat', 'lng']\n",
    "\n",
    "crimes2 = filterData(crimes2, polygons).reset_index(drop = True)\n",
    "\n",
    "# https://www.pittsburghpa.gov/files/assets/city/v/1/public-safety/documents/police/2025_pittsburgh_monthly_incident_dataset_disclaimer.pdf"
   ]
  },
  {
   "cell_type": "code",
   "execution_count": null,
   "id": "a1970b4f-36ef-4e8d-bb74-db5737f235af",
   "metadata": {},
   "outputs": [],
   "source": [
    "# toMerge = nbrhds[['hood', 'lat', 'lng']]\n",
    "# toMerge.columns = ['nbrhd', 'lat_nbrhd', 'lng_nbrhd']\n",
    "# crimes2 = (\n",
    "#     crimes2\n",
    "#     .merge(right = toMerge, on = 'nbrhd', how = 'left')\n",
    "#     .assign(\n",
    "#         lat = lambda x: np.where((x['lat'].notnull()) & (x['lat'] != 0), x['lat'], x['lat_nbrhd']),\n",
    "#         lng = lambda x: np.where((x['lng'].notnull()) & (x['lng'] != 0), x['lng'], x['lng_nbrhd'])\n",
    "#     )\n",
    "#     .dropna(subset = ['lat', 'lng'])\n",
    "# )"
   ]
  },
  {
   "cell_type": "code",
   "execution_count": 73,
   "id": "2b8b0da3-9242-44e6-91aa-941850ca0379",
   "metadata": {},
   "outputs": [],
   "source": [
    "crimes2.to_csv(clean + 'clean_crimes_new.csv', index = False)"
   ]
  },
  {
   "cell_type": "code",
   "execution_count": null,
   "id": "0264cf20-ea77-411f-9a0e-6b7c7d4c2579",
   "metadata": {},
   "outputs": [],
   "source": [
    "crimes2 = pd.read_csv(clean + 'clean_crimes_new.csv')"
   ]
  },
  {
   "cell_type": "markdown",
   "id": "883de6a3-e313-4b90-9107-580fa2ff0012",
   "metadata": {},
   "source": [
    "### Concatenating crimes"
   ]
  },
  {
   "cell_type": "code",
   "execution_count": 74,
   "id": "f87f9481-31e9-49cf-9ba5-512125f1ce1c",
   "metadata": {},
   "outputs": [],
   "source": [
    "crimes = pd.concat([crimes1, crimes2], axis = 0).reset_index(drop = True)"
   ]
  },
  {
   "cell_type": "code",
   "execution_count": 8,
   "id": "2012650b",
   "metadata": {},
   "outputs": [],
   "source": [
    "crimes = crimes.loc[pd.to_datetime(crimes['date'], format = 'mixed').dt.year >= 2020]"
   ]
  },
  {
   "cell_type": "code",
   "execution_count": 14,
   "id": "99ef02c4-e4d8-4271-807a-71d47b776af3",
   "metadata": {},
   "outputs": [],
   "source": [
    "crimes.to_csv(clean + 'clean_crimes.csv', index = False)"
   ]
  },
  {
   "cell_type": "code",
   "execution_count": 7,
   "id": "0b634d52",
   "metadata": {},
   "outputs": [],
   "source": [
    "crimes = pd.read_csv(clean + 'clean_crimes.csv')"
   ]
  },
  {
   "cell_type": "markdown",
   "id": "570be4aa",
   "metadata": {},
   "source": [
    "### Fires"
   ]
  },
  {
   "cell_type": "code",
   "execution_count": null,
   "id": "258a263d",
   "metadata": {},
   "outputs": [],
   "source": []
  },
  {
   "cell_type": "code",
   "execution_count": null,
   "id": "e26a0703",
   "metadata": {},
   "outputs": [],
   "source": []
  },
  {
   "cell_type": "code",
   "execution_count": null,
   "id": "fbc1aa7f",
   "metadata": {},
   "outputs": [],
   "source": []
  },
  {
   "cell_type": "code",
   "execution_count": null,
   "id": "45d01d9a",
   "metadata": {},
   "outputs": [],
   "source": []
  },
  {
   "cell_type": "code",
   "execution_count": null,
   "id": "0eb2ec79",
   "metadata": {},
   "outputs": [],
   "source": []
  },
  {
   "cell_type": "code",
   "execution_count": null,
   "id": "ec52ad21",
   "metadata": {},
   "outputs": [],
   "source": []
  },
  {
   "cell_type": "markdown",
   "id": "fa35624a-ac39-4085-8964-50a90f13890d",
   "metadata": {},
   "source": [
    "### Street shapefiles"
   ]
  },
  {
   "cell_type": "code",
   "execution_count": null,
   "id": "8cff985e-38a1-4369-a24b-2b7041ad731e",
   "metadata": {},
   "outputs": [],
   "source": [
    "# dictionary to store temporary dfs\n",
    "dfs = {}\n",
    "\n",
    "# download the data via the provided API\n",
    "offset = 0\n",
    "index = 0\n",
    "while True:\n",
    "    url = 'https://data.wprdc.org/api/3/action/datastore_search?resource_id=453e8677-66b0-45c0-8083-b8955ac742c7&limit=32000'\n",
    "    url += '&offset=' + str(offset)\n",
    "    fileobj = urllib.request.urlopen(url)\n",
    "    data = pd.DataFrame(json.loads(fileobj.read())['result']['records'])\n",
    "    dfs['df' + str(index)] = data\n",
    "    offset += 32000\n",
    "    index += 1\n",
    "    if len(data) == 0:\n",
    "        break\n",
    "\n",
    "shapefiles = pd.concat(dfs.values(), ignore_index = True)"
   ]
  },
  {
   "cell_type": "code",
   "execution_count": null,
   "id": "48b3259f-a005-451e-be2f-af951f8fa2b0",
   "metadata": {},
   "outputs": [],
   "source": [
    "shapefiles.to_csv(raw + 'raw_shapefiles.csv', index = False)"
   ]
  },
  {
   "cell_type": "code",
   "execution_count": null,
   "id": "fc38d852-9f13-4981-aabf-5236c628b2f5",
   "metadata": {},
   "outputs": [],
   "source": [
    "shapefiles.head(1)"
   ]
  },
  {
   "cell_type": "code",
   "execution_count": null,
   "id": "ba0f2c08-db6d-47a5-902c-fb73b63a4dd4",
   "metadata": {},
   "outputs": [],
   "source": [
    "names = []\n",
    "types = []\n",
    "lngs = []\n",
    "lats = []\n",
    "for idx, street in shapefiles[['st_name', 'st_type', 'lmuni', 'rmuni']].value_counts().reset_index().iterrows():\n",
    "    values = shapefiles.loc[\n",
    "    (shapefiles['st_name'] == street['st_name']) &\n",
    "    (shapefiles['st_type'] == street['st_type']) &\n",
    "    (shapefiles['lmuni'] == street['lmuni']) &\n",
    "    (shapefiles['rmuni'] == street['rmuni']),\n",
    "    'wkt'].values\n",
    "\n",
    "    for i in range(len(values)):\n",
    "        lngs.extend([float(j.strip().split(' ')[0]) for j in values[i][12:-1].split(',')])\n",
    "        lats.extend([float(j.strip().split(' ')[1]) for j in values[i][12:-1].split(',')])\n",
    "        n = len([float(j.strip().split(' ')[0]) for j in values[i][12:-1].split(',')])\n",
    "        names.extend([street['st_name']] * n)\n",
    "        types.extend([street['st_type']] * n)"
   ]
  },
  {
   "cell_type": "code",
   "execution_count": null,
   "id": "52cd8c6e-0a4a-4320-8404-de786c64d2a9",
   "metadata": {},
   "outputs": [],
   "source": [
    "len(names), len(types), len(lats), len(lngs)"
   ]
  },
  {
   "cell_type": "code",
   "execution_count": null,
   "id": "eea3e1d6-a10e-40aa-b00d-13642df1a0d6",
   "metadata": {},
   "outputs": [],
   "source": [
    "streets = pd.DataFrame({'name': names, 'type': types, 'lat': lats, 'lng': lngs})"
   ]
  },
  {
   "cell_type": "code",
   "execution_count": null,
   "id": "092b0a6a-1b79-4ba7-af0a-d236fda8e2db",
   "metadata": {},
   "outputs": [],
   "source": [
    "streets = filterData(streets, polygons)"
   ]
  },
  {
   "cell_type": "code",
   "execution_count": null,
   "id": "4d26bf4d-67d1-42a7-94cf-67b2610065e3",
   "metadata": {},
   "outputs": [],
   "source": [
    "streets.to_csv(clean + 'street_shapefiles.csv', index = False)"
   ]
  },
  {
   "cell_type": "code",
   "execution_count": null,
   "id": "9488391e-9626-408c-a459-331668459aad",
   "metadata": {},
   "outputs": [],
   "source": [
    "#streets = pd.read_csv(clean + 'street_shapefiles.csv')"
   ]
  },
  {
   "cell_type": "code",
   "execution_count": null,
   "id": "4a145aac-ef05-4fbb-83bd-08cc56f8aa2c",
   "metadata": {},
   "outputs": [],
   "source": [
    "streets"
   ]
  },
  {
   "cell_type": "code",
   "execution_count": null,
   "id": "d260a070-d108-42a7-a505-f84fc7a01c8c",
   "metadata": {},
   "outputs": [],
   "source": [
    "# fig = px.scatter_mapbox(streets.iloc[:500], lat = 'lat', lon = 'lng', zoom = 10)\n",
    "# fig.update_layout(mapbox_style = 'open-street-map')\n",
    "# fig.show()"
   ]
  },
  {
   "cell_type": "markdown",
   "id": "17368e27-ff0a-4d91-8ea0-11b0a28b3cfe",
   "metadata": {},
   "source": [
    "### Permits (for demolitions)"
   ]
  },
  {
   "cell_type": "code",
   "execution_count": null,
   "id": "47660d1d-35bb-436c-a3e5-1651a89ca5c6",
   "metadata": {},
   "outputs": [],
   "source": [
    "# https://data.wprdc.org/dataset/pli-permits/resource/f4d1177a-f597-4c32-8cbf-7885f56253f6\n",
    "# dictionary to store temporary dfs\n",
    "dfs = {}\n",
    "\n",
    "# download the data via the provided API\n",
    "offset = 0\n",
    "index = 0\n",
    "while True:\n",
    "    url = 'https://data.wprdc.org/api/3/action/datastore_search?resource_id=f4d1177a-f597-4c32-8cbf-7885f56253f6&limit=32000'\n",
    "    url += '&offset=' + str(offset)\n",
    "    fileobj = urllib.request.urlopen(url)\n",
    "    data = pd.DataFrame(json.loads(fileobj.read())['result']['records'])\n",
    "    dfs['df' + str(index)] = data\n",
    "    offset += 32000\n",
    "    index += 1\n",
    "    if len(data) == 0:\n",
    "        break\n",
    "\n",
    "permits = pd.concat(dfs.values(), ignore_index = True)"
   ]
  },
  {
   "cell_type": "code",
   "execution_count": null,
   "id": "8c3f267d-6273-4f27-852e-ad6f4e7ade17",
   "metadata": {},
   "outputs": [],
   "source": [
    "permits.to_csv(raw + 'raw_permits.csv', index = False)"
   ]
  },
  {
   "cell_type": "code",
   "execution_count": null,
   "id": "8c3bba35-d6d4-4b31-b9f9-6f0a3cf2a311",
   "metadata": {},
   "outputs": [],
   "source": [
    "permits = pd.read_csv(raw + 'raw_permits.csv')"
   ]
  },
  {
   "cell_type": "code",
   "execution_count": null,
   "id": "931d67e8-6ae8-430d-89a9-d9eabe1c0d1c",
   "metadata": {},
   "outputs": [
    {
     "data": {
      "text/html": [
       "<div>\n",
       "<style scoped>\n",
       "    .dataframe tbody tr th:only-of-type {\n",
       "        vertical-align: middle;\n",
       "    }\n",
       "\n",
       "    .dataframe tbody tr th {\n",
       "        vertical-align: top;\n",
       "    }\n",
       "\n",
       "    .dataframe thead th {\n",
       "        text-align: right;\n",
       "    }\n",
       "</style>\n",
       "<table border=\"1\" class=\"dataframe\">\n",
       "  <thead>\n",
       "    <tr style=\"text-align: right;\">\n",
       "      <th></th>\n",
       "      <th>_id</th>\n",
       "      <th>permit_id</th>\n",
       "      <th>permit_type</th>\n",
       "      <th>owner_name</th>\n",
       "      <th>contractor_name</th>\n",
       "      <th>work_description</th>\n",
       "      <th>work_type</th>\n",
       "      <th>commercial_or_residential</th>\n",
       "      <th>total_project_value</th>\n",
       "      <th>issue_date</th>\n",
       "      <th>parcel_num</th>\n",
       "      <th>address</th>\n",
       "      <th>latitude</th>\n",
       "      <th>longitude</th>\n",
       "      <th>council_district</th>\n",
       "      <th>neighborhood</th>\n",
       "      <th>ward</th>\n",
       "      <th>zip_code</th>\n",
       "      <th>status</th>\n",
       "    </tr>\n",
       "  </thead>\n",
       "  <tbody>\n",
       "    <tr>\n",
       "      <th>0</th>\n",
       "      <td>3548939</td>\n",
       "      <td>DP-2024-10311</td>\n",
       "      <td>Demolition Permit</td>\n",
       "      <td>EAA HOLDINGS LLC</td>\n",
       "      <td>Lutterman Excavation LLC</td>\n",
       "      <td>DEMO 2 STORY SINGLE FAMILY DETACHED DWELLING</td>\n",
       "      <td>COMPLETE DEMOLITION</td>\n",
       "      <td>Residential</td>\n",
       "      <td>16200.000</td>\n",
       "      <td>2024-09-05</td>\n",
       "      <td>0060L00317000000</td>\n",
       "      <td>No primary address specified</td>\n",
       "      <td>40.398</td>\n",
       "      <td>-79.988</td>\n",
       "      <td>4.000</td>\n",
       "      <td>Carrick</td>\n",
       "      <td>29.000</td>\n",
       "      <td>15210</td>\n",
       "      <td>Completed</td>\n",
       "    </tr>\n",
       "  </tbody>\n",
       "</table>\n",
       "</div>"
      ],
      "text/plain": [
       "       _id      permit_id        permit_type        owner_name  \\\n",
       "0  3548939  DP-2024-10311  Demolition Permit  EAA HOLDINGS LLC   \n",
       "\n",
       "            contractor_name                              work_description  \\\n",
       "0  Lutterman Excavation LLC  DEMO 2 STORY SINGLE FAMILY DETACHED DWELLING   \n",
       "\n",
       "             work_type commercial_or_residential  total_project_value  \\\n",
       "0  COMPLETE DEMOLITION               Residential            16200.000   \n",
       "\n",
       "   issue_date        parcel_num                       address  latitude  \\\n",
       "0  2024-09-05  0060L00317000000  No primary address specified    40.398   \n",
       "\n",
       "   longitude  council_district neighborhood   ward  zip_code     status  \n",
       "0    -79.988             4.000      Carrick 29.000     15210  Completed  "
      ]
     },
     "execution_count": 320,
     "metadata": {},
     "output_type": "execute_result"
    }
   ],
   "source": [
    "permits.head(1)"
   ]
  },
  {
   "cell_type": "code",
   "execution_count": null,
   "id": "e42cd1d4-3d9a-4792-91d5-83e96fd03440",
   "metadata": {},
   "outputs": [],
   "source": [
    "permits = permits[['parcel_num', 'issue_date', 'permit_id', 'permit_type', 'owner_name', 'work_type', 'work_description', 'commercial_or_residential',\n",
    "                   'total_project_value', 'latitude', 'longitude', 'neighborhood', 'status']]\n",
    "\n",
    "permits.columns = ['parcelID', 'date', 'permitID', 'permitType', 'ownerName', 'workType', 'desc', 'comm_res', 'value', 'lat', 'lng', 'neighborhood', 'status']\n",
    "\n",
    "permits['date'] = pd.to_datetime(permits['date'], format = 'mixed')\n",
    "\n",
    "permits = permits.loc[(permits['date'].dt.year >= 2020) & (permits['permitType'] == 'Demolition Permit')]"
   ]
  },
  {
   "cell_type": "code",
   "execution_count": null,
   "id": "a93947ae",
   "metadata": {},
   "outputs": [],
   "source": [
    "permits.to_csv(clean + 'clean_demos_new.csv', index = False)"
   ]
  },
  {
   "cell_type": "code",
   "execution_count": 15,
   "id": "48e45b3a",
   "metadata": {},
   "outputs": [],
   "source": [
    "demos_new = pd.read_csv(clean + 'clean_demos_new.csv')"
   ]
  },
  {
   "cell_type": "code",
   "execution_count": null,
   "id": "8f234a65",
   "metadata": {},
   "outputs": [],
   "source": [
    "#demos_new.to_csv(clean + 'clean_demos.csv', index = False)"
   ]
  },
  {
   "cell_type": "markdown",
   "id": "a2b155ed",
   "metadata": {},
   "source": [
    "### Historical demolitions preceding 2020 (local CSVs manually downloaded from WPRDC)\n",
    "\n",
    "Only going back to 2016 because that is as far back as the robust crimes reporting goes, and it is as far back as the code violations goes"
   ]
  },
  {
   "cell_type": "code",
   "execution_count": null,
   "id": "28cf8254",
   "metadata": {},
   "outputs": [],
   "source": [
    "# https://data.wprdc.org/dataset/city-of-pittsburgh-building-permit-summary\n",
    "\n",
    "folder = Path(raw + 'Historical permits data')\n",
    "\n",
    "excels = folder.glob('*.xls*')\n",
    "dfs = []\n",
    "\n",
    "for i, file in enumerate(excels, start = 1):\n",
    "    try:\n",
    "        dfs.append(pd.read_excel(file))\n",
    "    except:\n",
    "        print(i, file.name)"
   ]
  },
  {
   "cell_type": "code",
   "execution_count": null,
   "id": "f31289e1",
   "metadata": {},
   "outputs": [],
   "source": [
    "# dict to hold combined dfs per unique column set\n",
    "combined = {}\n",
    "\n",
    "for i, df in enumerate(dfs, start=1):\n",
    "    cols = tuple(df.columns)  # or frozenset(df.columns) if order doesn’t matter\n",
    "    \n",
    "    if cols not in combined:\n",
    "        # start a new combined df for this column set\n",
    "        combined[cols] = df.copy()\n",
    "        #print(f\"Started new group at DataFrame {i}\")\n",
    "    else:\n",
    "        # append to the existing combined df\n",
    "        combined[cols] = pd.concat([combined[cols], df], ignore_index=True)\n",
    "        #print(f\"Appended DataFrame {i} to existing group\")\n",
    "\n",
    "combined = {i: df for i, df in enumerate(combined.values())}"
   ]
  },
  {
   "cell_type": "code",
   "execution_count": null,
   "id": "c164fc71",
   "metadata": {},
   "outputs": [],
   "source": [
    "cols_renames = [\n",
    "    ['permitID', 'parcelID', 'address', 'ward', 'owner', 'contractor', 'type', 'structure', 'desc', 'value', 'year'],\n",
    "    ['permitID', 'year', 'parcelID', 'address', 'neighborhood', 'ward', 'owner', 'contractor', 'type', 'structure', 'desc', 'value'],\n",
    "    ['permitID', 'ward', 'parcelID', 'address', 'owner', 'contractor', 'desc', 'value', 'year'],\n",
    "    ['permitID', 'year', 'parcelID', 'address', 'neighborhood', 'ward', 'owner', 'contractor', 'type', 'structure', 'desc', 'value'],\n",
    "    ['permitID', 'year', 'parcelID', 'address', 'neighborhood', 'ward', 'owner', 'contractor', 'type', 'structure', 'desc', 'value'],\n",
    "    ['year', 'permitID', 'ward', 'parcelID', 'address', 'owner', 'contractor', 'desc', 'value'],\n",
    "    ['permitID', 'ward', 'parcelID', 'address', 'owner', 'contractor', 'desc', 'value', 'year'],\n",
    "    ['permitID', 'ward', 'parcelID', 'address', 'owner', 'contractor', 'desc', 'value', 'year']\n",
    "]\n",
    "\n",
    "cols_keep = ['permitID', 'parcelID', 'year']\n",
    "# not all the data has 'type' variable to determine if the demo is partial or complete - will just use all demos including non-complete ones\n",
    "\n",
    "for i, names in zip(combined, cols_renames):\n",
    "    combined[i].columns = names\n",
    "    combined[i] = combined[i].dropna().loc[lambda x: x['permitID'].str.contains('D')]#, cols_keep]\n",
    "\n",
    "# demos = pd.concat([combined[i] for i in combined], axis = 0).reset_index(drop = True)\n",
    "# demos['parcelID'] = demos['parcelID'].str.replace('-', '')\n",
    "# demos = demos.loc[demos['parcelID'].str.len() == 16]\n",
    "# demos['year'] = pd.to_datetime(demos['year'])\n",
    "# demos.loc[demos['year'].astype(str).str[-4:] != '0000', 'year'] = demos['year'].astype(str).str[-4:]\n",
    "# demos['year'] = demos['year'].dt.year"
   ]
  },
  {
   "cell_type": "code",
   "execution_count": null,
   "id": "50b16cba",
   "metadata": {},
   "outputs": [
    {
     "data": {
      "text/plain": [
       "status\n",
       "Completed                          0.755\n",
       "Issued                             0.121\n",
       "Expired                            0.114\n",
       "Revoked                            0.003\n",
       "Application Finalization           0.003\n",
       "Amendment Application Incomplete   0.002\n",
       "Amendment Applicant Revisions      0.001\n",
       "Name: proportion, dtype: float64"
      ]
     },
     "execution_count": 28,
     "metadata": {},
     "output_type": "execute_result"
    }
   ],
   "source": [
    "demos_new['status'].value_counts(normalize = True)"
   ]
  },
  {
   "cell_type": "code",
   "execution_count": null,
   "id": "e3416a47",
   "metadata": {},
   "outputs": [
    {
     "data": {
      "text/plain": [
       "desc\n",
       "RAZE GARAGE                                                                                                                                                                                                                                                                                                                                                                                                                                                                                                                                                                                                                                            0.049\n",
       "DEMOLISH STRUCTURE, CAP UTILITIES, BACKFILL AND GRADE                                                                                                                                                                                                                                                                                                                                                                                                                                                                                                                                                                                                  0.024\n",
       "RAZE 2 STORY SINGLE FAMILY DWELLING                                                                                                                                                                                                                                                                                                                                                                                                                                                                                                                                                                                                                    0.024\n",
       "CITY FUNDED DEMOLITION. EMERGENCY DEMOLITION \\n\\n1. Remove all garbage and debris\\n\\n2. Contract term 10 days start date: 6/10/2019, 1:30 p.m., Contract ending 6/10/2019/1:30 p.m.\\n\\n3. Remaining void to be filled with clean material\\n\\n4. ACHD asbestos application is required\\n\\n5. Fence off entire length of parcel to pedestrian traffic using 6 foot barricade fencing\\n\\n6. Structure to be made safe withing 24 hours of contract inception                                                                                                                                                                                              0.024\n",
       "1.LEAVE CONCRETE DRIVEWAY. Leave large tree in back yard \\n2.Remove all vegetation and debris. \\n3.Contract term 90 days\\n4.Building shall be razed to the level of the street \\n5.No asbestos survey. Raze with asbestos in place. All asbestos removal regulations required. \\n6.Fence off entire length of parcel to pedestrian traffic using 6-foot barricade fencing. \\n7.Pictures must be taken prior to demolition.                                                                                                                                                                                                                             0.024\n",
       "RAZE 1 STORY GARAGE                                                                                                                                                                                                                                                                                                                                                                                                                                                                                                                                                                                                                                    0.024\n",
       "RAZE SINGLE FAMILY HOME                                                                                                                                                                                                                                                                                                                                                                                                                                                                                                                                                                                                                                0.024\n",
       "RAZE 3 STORY SINGLE FAMILY DWELLING                                                                                                                                                                                                                                                                                                                                                                                                                                                                                                                                                                                                                    0.024\n",
       "EMERGENCY DEMOLITION\\n1. Remove all garbage and debris, concrete slabs, retaining walls, and steps.\\n2. Contract term 10 days start date: 5/23/2019, 11 a.m. Contract date ending: 5/23/2019 11 a.m.\\n3. Remaining void to be filled with clean material. \\n4. ACHD asbestos application is required.\\n5. Fence off entire length of parcel to pedestrian traffic using 6-foot barricade fencing.\\n6. Structure to be made safe within 24 hours of contract inception.                                                                                                                                                                                 0.024\n",
       "REMOVE GARAGE                                                                                                                                                                                                                                                                                                                                                                                                                                                                                                                                                                                                                                          0.024\n",
       "RAZE (2) STORY SINGLE FAMILY DWELLING                                                                                                                                                                                                                                                                                                                                                                                                                                                                                                                                                                                                                  0.024\n",
       "City Demo \\n1.Contract Term: 90 days. \\n2.Lowest Combined Bid with 7218 Idlewild St. and 7009, 7013, 7219, 7219.5, and 7221 Frankstown Ave.\\n3.Asbestos survey included –Notification of ACHD required.\\n4.Remove all vegetation, debris, hedges, steps, pads, wall, and cyclone fencing.\\n5.Remove all garbage and debris from adjacent lots. \\n6.Fence off entire length of parcel to pedestrian traffic using 6-foot barricade fencing. \\n7.All trees over 12-inches in diameter must remain. \\n8.Lot shall be cleared to the natural grade of the lot.                                                                                             0.024\n",
       "City Demo \\n\\n1.EMERGENCY DEMOLITION. Remove all garbage, debris, foundation, fencing, steps, concrete slabs, retaining walls and vegetation. \\n2.Contract term 10 days start date: 7/10/2019, 1:30 PM. Contract ending date: 7/20/2019, 1:30 PM.\\n3.Remaining void to be filled with clean material.\\n4.ACHD asbestos application is required.\\n5.Fence off entire length of parcel to pedestrian traffic using 6-foot barricade fencing. \\n6.Structure to be made safe within 24 hours of contract inception. \\n7.Rough finish for redevelopment (No grass needed) \\n8.Parcels 124-J-304 & 124-J-305 shall be cleared for development as well.       0.024\n",
       "City Demo\\n1.Contract Term: 90 days. \\n2.Lowest Combined Bid with 7218 Idlewild St. and 6820, 7009, 7219, 7219.5, and 7221 Frankstown Ave.\\n3.Asbestos survey included –Notification of ACHD required.\\n4.Front and Rear Structures, as well as any other accessory buildings. \\n5.Remove all vegetation, debris, hedges, steps, pads, wall, and fencing.\\n6.Lot shall be cleared to natural grade of the lot, from Forest Way to Frankstown Ave. \\n7.Fence off entire length of parcel to pedestrian traffic using 6-foot barricade fencing.                                                                                                          0.024\n",
       "City Demo \\n1.Contract Term: 90 days. \\n2.Lowest Combined Bid with 7218 Idlewild St. and 6820, 7013, 7219, 7219.5, and 7221 Frankstown Ave.\\n3.Asbestos survey included –Notification of ACHD required.\\n4.Remove all vegetation, debris, hedges, steps, pads, wall, and fencing.\\n5.Lot shall be cleared to natural grade of the lot, from Forest Way to Frankstown Ave. \\n6.Fence off entire length of parcel to pedestrian traffic using 6-foot barricade fencing.                                                                                                                                                                                  0.024\n",
       "City Demo\\n1.Contract Term: 90 days. \\n2.Lowest Combined Bid with 7218 Idlewild St. and 6820, 7009, 7013, 7219.5, and 7221 Frankstown Ave.\\n3.No asbestos survey. Raze with asbestos in place. All asbestos removal regulations required. \\n4.Remove all vegetation, debris, hedges, steps, pads, wall, and fencing.\\n5.Lot shall be cleared to the natural grade of the street, from Forest Way to Frankstown Ave. \\n6.Fence off entire length of parcel to pedestrian traffic using 6-foot barricade fencing.                                                                                                                                        0.024\n",
       "City Demo \\n1.Contract Term: 90 days. \\n2.Lowest Combined Bid with 7218 Idlewild St. and 6820, 7009, 7013, 7219, and 7221 Frankstown Ave.\\n3.No asbestos survey. Raze with asbestos in place. All asbestos removal regulations required. \\n4.Remove all vegetation, debris, hedges, steps, pads, wall, and fencing.\\n5.Lot shall be cleared to the natural grade of the street, from Forest Way to Frankstown Ave. \\n6.Fence off entire length of parcel to pedestrian traffic using 6-foot barricade fencing.                                                                                                                                         0.024\n",
       "City Demo \\n1.Contract Term: 90 days. \\n2.Lowest Combined Bid with 6820, 7009, 7013, 7219, 7219.5, and 7221 Frankstown Ave.\\n3.Asbestos survey included –Notification of ACHD required.\\n4.Lot shall be cleared to the natural grade of the lot, from Idlewild St. to Forest Way. \\n5.Remove all vegetation, debris, hedges, steps, pads, wall, accessory buildings and fencing.\\n6.Remove all garbage and debris from adjacent lot. \\n7.Fence off entire length of parcel to pedestrian traffic using 6-foot barricade fencing.                                                                                                                       0.024\n",
       "City Demo\\n1.Contract Term: 90 days. \\n2.Lowest Combined Bid with 7218 Idlewild St. and 6820, 7009, 7013, 7219, and 7219.5 Frankstown Ave.\\n3.No asbestos survey. Raze with asbestos in place. All asbestos removal regulations required. \\n4.Remove all vegetation, debris, hedges, steps, pads, wall, and fencing.\\n5.Lot shall be cleared to the natural grade of the street, from Forest Way to Frankstown Ave. \\n6.Fence off entire length of parcel to pedestrian traffic using 6-foot barricade fencing.                                                                                                                                        0.024\n",
       "DEMOLITION OF GARAGE IN BACKYARD DOWN TO FOUNDATION                                                                                                                                                                                                                                                                                                                                                                                                                                                                                                                                                                                                    0.024\n",
       "RAZE 2 STORY SINGLE FAMILY STRUCTURE                                                                                                                                                                                                                                                                                                                                                                                                                                                                                                                                                                                                                   0.024\n",
       "Raze 2 story 2 family dwelling. Remove all vegetation, debris, bushes, rear wooden decking. Asbestos survey included, Notification to ACHD required. Lowest combined bid with 713 Climax St. 90 day contract term.                                                                                                                                                                                                                                                                                                                                                                                                                                     0.024\n",
       "Raze 2 story 2 Family Dwelling. Remove all vegetation, debris, bushes, rear wooden decking. Asbestos survey included, Notification to ACHD required. Lowest combined bid with 711 Climax St. 90 day contract term.                                                                                                                                                                                                                                                                                                                                                                                                                                     0.024\n",
       "RAZE 2.5 STORY SINGLE FAMILY DWELLING                                                                                                                                                                                                                                                                                                                                                                                                                                                                                                                                                                                                                  0.024\n",
       "CITY DEMO\\n1.Remove all garbage and debris, concrete steps.\\n2.Contract term: 90 days.\\n3.Leave right, left and back foundation wall for gradation support. \\n4.Remove concrete steps.\\n5.No asbestos survey. Raze with asbestos in place. All asbestos removal regulations required. \\n6.Fence off entire length of parcel to pedestrian traffic using 6-foot barricade fencing.                                                                                                                                                                                                                                                                      0.024\n",
       "City Demo \\n1.TAKE OUT CONCRETE PADS AROUND STRUCTURE. \\n2.LEAVE LARGE TREES INTACT IN THE BACK YARD \\n3.Remove all vegetation and debris. \\n4.Contract term: 90 days\\n5.Lot shall be cleared to the grade of the street. \\n6.No asbestos survey. Raze with asbestos in place. All asbestos removal regulations required. \\n7.Fence off entire length of parcel to pedestrian traffic using 6-foot barricade fencing.                                                                                                                                                                                                                                  0.024\n",
       "DEMOLISH GARAGE                                                                                                                                                                                                                                                                                                                                                                                                                                                                                                                                                                                                                                        0.024\n",
       "DEMOLITION OF GARAGE                                                                                                                                                                                                                                                                                                                                                                                                                                                                                                                                                                                                                                   0.024\n",
       "DEMOLISH 3 STORY COMMERCIAL STRUCTURE                                                                                                                                                                                                                                                                                                                                                                                                                                                                                                                                                                                                                  0.024\n",
       "City Demo \\n\\n\\n1.EMERGENCY DEMOLITION. Remove all garbage & debris, concrete pads & steps, and retaining walls \\n2.Contract term 10 days start date: 7/9/2019, 2:00 PM. Contract ending date: 7/19/2019, 2:00 PM.\\n3.Remaining void to be filled with clean material.\\n4.ACHD asbestos application is required.\\n5.Fence off entire length of parcel to pedestrian traffic using 6-foot barricade fencing. \\n6.Structure to be made safe within 24 hours of contract inception.                                                                                                                                                                       0.024\n",
       "DEMOLISH EXISTING TWO-FAMILY DWELLING                                                                                                                                                                                                                                                                                                                                                                                                                                                                                                                                                                                                                  0.024\n",
       "City Demo \\n\\n1.EMERGENCY DEMOLITION. Remove all garbage and debris, concrete steps, and vegetation. \\n2.Contract term: 10 days. Start date: 7/24/2019, 1:00 PM. Contract ending date: 8/3/2019, 1:00 PM.\\n3.Lot shall be cleared to the natural grade of the street. \\n4.ACHD asbestos application is required.\\n5.Fence off entire length of parcel to pedestrian traffic using 6-foot barricade fencing. \\n6.Structure to be made safe within 24 hours of contract inception. \\n7.Lowest Combined Bid With: 2235 Wilson Ave                                                                                                                         0.024\n",
       "City Demo\\n\\n1.EMERGENCY DEMOLITION. Remove all vegetation, debris, concrete pads, steps, & retaining walls\\n2.Remove large tree in front yard. \\n3.Contract term 10 days start date: 7/30/2019, 10:00 AM. Contract ending date: 8/9/2019, 10:00 AM.\\n4.Remaining void to be filled with clean material.\\n5.Remove front retaining wall at the sidewalk. \\n6.ACHD asbestos application is required.\\n7.Property shall be cleared to the natural grade of the lot.\\n8.Fence off entire length of parcel to pedestrian traffic using 6-foot barricade fencing. \\n9.Structure to be made safe within 24 hours of contract inception.                      0.024\n",
       "City Demo\\n1.EMERGENCY DEMOLITION. Remove all  concrete pads, retaining walls, fencing, vegetation and debris. \\n2.Contract term 10 days start date: 6/28/2019, 3:30 PM. Contract ending date: 7/8/2019, 3:30 PM.\\n3.Remaining void to be filled with clean material.\\n4.ACHD asbestos application is required.\\n5.Fence off entire length of parcel to pedestrian traffic using 6-foot barricade fencing. \\n6.Structure to be made safe within 24 hours of contract inception. \\n7.Pictures of properties and surrounding properties must be taken prior to demolition \\n8.Lot shall be cleared to natural grade.                                     0.024\n",
       "City Demo \\n1.Contract Term: 120 days. \\n2.Asbestos survey included –Notification of ACHD required.\\n3.Sidewalk shall remain around the perimeter of the property.\\n4.Lot in back shall be cleared of all black-top and recreational equipment.\\n5.Remove all remaining vegetation, debris, hedges, foundations, concrete, steps, pads, walls, and fencing.\\n6.Lot shall be cleared to natural grade of the lot. \\n7.Fence off entire length of parcel to pedestrian traffic using 6-foot barricade fencing. \\n8.Property will be opened 6/17/2019, at 10 AM, for 1 hr, for contractor evaluation.                                                     0.024\n",
       "City Demo \\n\\n1.EMERGENCY DEMOLITION. Remove all garbage, debris, fencing, steps, concrete slabs and retaining walls.\\n2.All trees 12 inches or larger in diameter shall remain. \\n3.Contract term 10 days start date: 7/11/2019, 3:00 PM. Contract ending date: 7/21/2019, 3:00 PM.\\n4.Minor repairs to be made to the neighbor’s house \\n5.ACHD asbestos application is required.\\n6.Fence off entire length of parcel to pedestrian traffic using 6-foot barricade fencing. \\n7.Structure to be made safe within 24 hours of contract inception. \\n8.Garage on lot shall be cleared as well. \\n9.Lot shall be cleared to the grade of the street.   0.024\n",
       "City Demo \\n1.Remove all vegetation, debris, bushes, fences, planter’s boxes, retaining walls, concrete slabs, steps, walk ways and rear wooden deck.\\n2.Asbestos survey included –Notification of ACHD required.\\n3.90 day contract.\\n4.Lot shall be cleared to the natural grade of the lot \\n5.Leave all trees 12 inches in diameter \\n6.Fence off entire length of parcel to pedestrian traffic using 6-foot barricade fencing.                                                                                                                                                                                                                    0.024\n",
       "PARTIAL DEMOLITION OF PRIMARY STRUCTURE (HOUSE) - REAR ADDITION OF 3 STORY TWO-FAMILY DWELLING                                                                                                                                                                                                                                                                                                                                                                                                                                                                                                                                                         0.024\n",
       "Demolish 3 story structure and partial basement walls to remain.                                                                                                                                                                                                                                                                                                                                                                                                                                                                                                                                                                                       0.024\n",
       "RAZE 2 STORY SINGLE FAMILY                                                                                                                                                                                                                                                                                                                                                                                                                                                                                                                                                                                                                             0.024\n",
       "Name: proportion, dtype: float64"
      ]
     },
     "execution_count": 31,
     "metadata": {},
     "output_type": "execute_result"
    }
   ],
   "source": [
    "combined[0]['desc'].value_counts(normalize = True)"
   ]
  },
  {
   "cell_type": "code",
   "execution_count": null,
   "id": "a36d52ba",
   "metadata": {},
   "outputs": [],
   "source": []
  },
  {
   "cell_type": "code",
   "execution_count": null,
   "id": "c39bb825",
   "metadata": {},
   "outputs": [],
   "source": []
  },
  {
   "cell_type": "code",
   "execution_count": null,
   "id": "85f9770a",
   "metadata": {},
   "outputs": [],
   "source": []
  },
  {
   "cell_type": "code",
   "execution_count": null,
   "id": "93957073",
   "metadata": {},
   "outputs": [],
   "source": []
  },
  {
   "cell_type": "code",
   "execution_count": null,
   "id": "0ccfd98d",
   "metadata": {},
   "outputs": [],
   "source": [
    "demos.to_csv(clean + 'clean_demos_old.csv', index = False)"
   ]
  },
  {
   "cell_type": "code",
   "execution_count": null,
   "id": "606e3422",
   "metadata": {},
   "outputs": [],
   "source": [
    "demos_old = pd.read_csv(clean + 'clean_demos_old.csv')"
   ]
  },
  {
   "cell_type": "code",
   "execution_count": null,
   "id": "6ce3b647",
   "metadata": {},
   "outputs": [],
   "source": [
    "demos_new['year'] = pd.to_datetime(demos_new['date'], format = 'mixed').dt.year\n",
    "demos_new = demos_new[['permitID', 'parcelID', 'year']]"
   ]
  },
  {
   "cell_type": "code",
   "execution_count": null,
   "id": "f0bb6a08",
   "metadata": {},
   "outputs": [],
   "source": [
    "demos = pd.concat([demos_new, demos_old], axis = 0).sort_values(by = 'year').reset_index(drop = True)"
   ]
  },
  {
   "cell_type": "code",
   "execution_count": null,
   "id": "275c3b7c",
   "metadata": {},
   "outputs": [],
   "source": [
    "demos = demos.merge(right = parcels[['parcelID', 'lat', 'lng', 'nbrhd']], on = 'parcelID', how = 'inner')"
   ]
  },
  {
   "cell_type": "code",
   "execution_count": null,
   "id": "29a09160",
   "metadata": {},
   "outputs": [],
   "source": [
    "demos.to_csv(clean + 'clean_demos.csv', index = False)"
   ]
  },
  {
   "cell_type": "code",
   "execution_count": null,
   "id": "0815b3b5",
   "metadata": {},
   "outputs": [],
   "source": [
    "demos = pd.read_csv(clean + 'clean_demos.csv')"
   ]
  },
  {
   "cell_type": "markdown",
   "id": "e87d8e22",
   "metadata": {},
   "source": [
    "### Condemnations"
   ]
  },
  {
   "cell_type": "code",
   "execution_count": null,
   "id": "8ebaa03b",
   "metadata": {},
   "outputs": [],
   "source": [
    "# https://data.wprdc.org/dataset/condemned-properties/resource/0a963f26-eb4b-4325-bbbc-3ddf6a871410\n",
    "# dictionary to store temporary dfs\n",
    "dfs = {}\n",
    "\n",
    "# download the data via the provided API\n",
    "offset = 0\n",
    "index = 0\n",
    "while True:\n",
    "    url = 'https://data.wprdc.org/api/action/datastore_search?resource_id=0a963f26-eb4b-4325-bbbc-3ddf6a871410&limit=32000'\n",
    "    url += '&offset=' + str(offset)\n",
    "    fileobj = urllib.request.urlopen(url)\n",
    "    data = pd.DataFrame(json.loads(fileobj.read())['result']['records'])\n",
    "    dfs['df' + str(index)] = data\n",
    "    offset += 32000\n",
    "    index += 1\n",
    "    if len(data) == 0:\n",
    "        break\n",
    "\n",
    "conds = pd.concat(dfs.values(), ignore_index = True)"
   ]
  },
  {
   "cell_type": "code",
   "execution_count": null,
   "id": "3429a37e",
   "metadata": {},
   "outputs": [],
   "source": [
    "parcels = pd.read_csv(clean + 'blight_and_values.csv')"
   ]
  },
  {
   "cell_type": "code",
   "execution_count": null,
   "id": "36b48850",
   "metadata": {},
   "outputs": [],
   "source": [
    "conds = conds.rename(columns = {'parcel_id': 'parcelID', 'property_type': 'status'})"
   ]
  },
  {
   "cell_type": "code",
   "execution_count": null,
   "id": "a683c14e",
   "metadata": {},
   "outputs": [],
   "source": [
    "merge = (\n",
    "    parcels\n",
    "    .loc[parcels['year'] >= 2020]\n",
    "    .merge(right = conds.assign(year = pd.to_datetime(conds['date']).dt.year)[['parcelID', 'year', 'status']], on = ['parcelID', 'year'], how = 'left')\n",
    "    .assign(\n",
    "       status = lambda x: np.where(~x['status'].isna(), x['status'], 'null')\n",
    "    )\n",
    ")"
   ]
  },
  {
   "cell_type": "code",
   "execution_count": null,
   "id": "36f36cc5",
   "metadata": {},
   "outputs": [
    {
     "data": {
      "text/plain": [
       "year  status            \n",
       "2020  Condemned Property   1169.028\n",
       "      Dead End Property    1372.790\n",
       "      null                  830.593\n",
       "2021  Condemned Property   1092.503\n",
       "      Dead End Property    1038.073\n",
       "      null                  834.679\n",
       "2022  Condemned Property   1145.119\n",
       "      Dead End Property    1122.538\n",
       "      null                  834.410\n",
       "2023  Condemned Property   1104.653\n",
       "      Dead End Property    1169.347\n",
       "      null                  834.148\n",
       "2024  Condemned Property    965.906\n",
       "      Dead End Property    1165.831\n",
       "      null                  834.318\n",
       "2025  Condemned Property   1010.821\n",
       "      Dead End Property    1129.472\n",
       "      null                  834.854\n",
       "Name: viols_count_decayed, dtype: float64"
      ]
     },
     "execution_count": 46,
     "metadata": {},
     "output_type": "execute_result"
    }
   ],
   "source": [
    "merge.groupby(['year', 'status'])['viols_count_decayed'].mean()"
   ]
  },
  {
   "cell_type": "code",
   "execution_count": null,
   "id": "2242ab76",
   "metadata": {},
   "outputs": [
    {
     "name": "stdout",
     "output_type": "stream",
     "text": [
      "Year 2020: F = 356.268, p = 0.000\n",
      "Year 2021: F = 28.894, p = 0.000\n",
      "Year 2022: F = 52.830, p = 0.000\n",
      "Year 2023: F = 71.316, p = 0.000\n",
      "Year 2024: F = 52.965, p = 0.000\n",
      "Year 2025: F = 21.591, p = 0.000\n"
     ]
    }
   ],
   "source": [
    "for y in [2020, 2021, 2022, 2023, 2024, 2025]:\n",
    "    subset = merge.loc[merge['year'] == y]\n",
    "    groups = [subset.loc[subset['status'] == s]['viols_count_decayed'] for s in subset['status'].unique()]\n",
    "\n",
    "    f_stat, p_val = f_oneway(*groups)\n",
    "    print(f'Year {y}: F = {f_stat:.3f}, p = {p_val:.3f}')"
   ]
  },
  {
   "cell_type": "code",
   "execution_count": null,
   "id": "94c30ce8",
   "metadata": {},
   "outputs": [
    {
     "data": {
      "text/plain": [
       "year  status            \n",
       "2020  Condemned Property   861.442\n",
       "      Dead End Property    927.688\n",
       "      null                 688.487\n",
       "2021  Condemned Property   845.390\n",
       "      Dead End Property    747.517\n",
       "      null                 690.576\n",
       "2022  Condemned Property   930.423\n",
       "      Dead End Property    805.653\n",
       "      null                 690.447\n",
       "2023  Condemned Property   898.606\n",
       "      Dead End Property    733.294\n",
       "      null                 690.418\n",
       "2024  Condemned Property   703.961\n",
       "      Dead End Property    816.294\n",
       "      null                 690.574\n",
       "2025  Condemned Property   770.683\n",
       "      Dead End Property    743.191\n",
       "      null                 690.755\n",
       "Name: low_count_decayed, dtype: float64"
      ]
     },
     "execution_count": 54,
     "metadata": {},
     "output_type": "execute_result"
    }
   ],
   "source": [
    "merge.groupby(['year', 'status'])['low_count_decayed'].mean()"
   ]
  },
  {
   "cell_type": "code",
   "execution_count": null,
   "id": "45b80924",
   "metadata": {},
   "outputs": [
    {
     "name": "stdout",
     "output_type": "stream",
     "text": [
      "Year 2020: F = 90.157, p = 0.000\n",
      "Year 2021: F = 8.888, p = 0.000\n",
      "Year 2022: F = 17.234, p = 0.000\n",
      "Year 2023: F = 17.100, p = 0.000\n",
      "Year 2024: F = 6.942, p = 0.001\n",
      "Year 2025: F = 1.618, p = 0.198\n"
     ]
    }
   ],
   "source": [
    "for y in [2020, 2021, 2022, 2023, 2024, 2025]:\n",
    "    subset = merge.loc[merge['year'] == y]\n",
    "    groups = [subset.loc[subset['status'] == s]['low_count_decayed'] for s in subset['status'].unique()]\n",
    "\n",
    "    f_stat, p_val = f_oneway(*groups)\n",
    "    print(f'Year {y}: F = {f_stat:.3f}, p = {p_val:.3f}')"
   ]
  },
  {
   "cell_type": "markdown",
   "id": "d76fc053",
   "metadata": {},
   "source": [
    "##### Commentary\n",
    "This demonstrates that violations are a predictor of condemned and dead-end properties. Along with the understanding that \"vacant and abandoned buildings in urban neighborhoods are themselves a manifestation of social disorganization,\" (Wheeler et al 2018 - The Effect of Housing Demolitions on Crime in Buffalo, New York), this supports the idea that code violations are indicative of social disorganization and can thus be used as a proxy for urban blight. Doing the ANOVA on crime also suggests a relationship between condemnations and crime."
   ]
  },
  {
   "cell_type": "markdown",
   "id": "c6ea1f8b-b8c0-449e-b117-63d358bc0c60",
   "metadata": {},
   "source": [
    "### Property Sales"
   ]
  },
  {
   "cell_type": "code",
   "execution_count": null,
   "id": "e38c38da-5bda-4e3f-84ff-7b31d000db9e",
   "metadata": {},
   "outputs": [],
   "source": [
    "# https://data.wprdc.org/dataset/real-estate-sales/resource/5bbe6c55-bce6-4edb-9d04-68edeb6bf7b1\n",
    "# dictionary to store temporary dfs\n",
    "dfs = {}\n",
    "\n",
    "# download the data via the provided API\n",
    "offset = 0\n",
    "index = 0\n",
    "while True:\n",
    "    url = 'https://data.wprdc.org/api/3/action/datastore_search?resource_id=5bbe6c55-bce6-4edb-9d04-68edeb6bf7b1&limit=32000'\n",
    "    url += '&offset=' + str(offset)\n",
    "    fileobj = urllib.request.urlopen(url)\n",
    "    data = pd.DataFrame(json.loads(fileobj.read())['result']['records'])\n",
    "    dfs['df' + str(index)] = data\n",
    "    offset += 32000\n",
    "    index += 1\n",
    "    if len(data) == 0:\n",
    "        break\n",
    "\n",
    "sales = pd.concat(dfs.values(), ignore_index = True)"
   ]
  },
  {
   "cell_type": "code",
   "execution_count": null,
   "id": "bf276341-9a93-4996-9096-2b0225b404a5",
   "metadata": {},
   "outputs": [],
   "source": [
    "sales.shape"
   ]
  },
  {
   "cell_type": "code",
   "execution_count": null,
   "id": "634d018f-0047-4b5a-bcf8-1de25de880a8",
   "metadata": {},
   "outputs": [],
   "source": [
    "sales.head(1)"
   ]
  },
  {
   "cell_type": "code",
   "execution_count": null,
   "id": "8e6f2fde-e2bb-4d2e-8bd2-43396aa7b717",
   "metadata": {},
   "outputs": [],
   "source": [
    "sales.to_csv(raw + 'raw_sales.csv', index = False)"
   ]
  },
  {
   "cell_type": "code",
   "execution_count": 7,
   "id": "090db6fe-92d7-4161-9de2-eaaa1442be9b",
   "metadata": {},
   "outputs": [],
   "source": [
    "sales = pd.read_csv(raw + 'raw_sales.csv')"
   ]
  },
  {
   "cell_type": "code",
   "execution_count": 8,
   "id": "aca35e08-77e3-4e67-a306-ea102e924cf1",
   "metadata": {},
   "outputs": [],
   "source": [
    "sales = sales[['PARID', 'SALEDATE', 'PRICE']]\n",
    "\n",
    "sales.columns = ['parcelID', 'date', 'value']"
   ]
  },
  {
   "cell_type": "markdown",
   "id": "84366265-ea19-4a1c-bbc5-99cb3a452c77",
   "metadata": {},
   "source": [
    "### Appeals 1"
   ]
  },
  {
   "cell_type": "code",
   "execution_count": null,
   "id": "74bafb8a-80e7-43fd-bf23-2088282019d7",
   "metadata": {},
   "outputs": [],
   "source": [
    "# https://data.wprdc.org/api/3/action/datastore_search?resource_id=8eff881d-4d28-4064-83f1-30cc991cfec7\n",
    "# dictionary to store temporary dfs\n",
    "dfs = {}\n",
    "\n",
    "# download the data via the provided API\n",
    "offset = 0\n",
    "index = 0\n",
    "while True:\n",
    "    url = 'https://data.wprdc.org/api/3/action/datastore_search?resource_id=65855e14-549e-4992-b5be-d629afc676fa&limit=32000'\n",
    "    url += '&offset=' + str(offset)\n",
    "    fileobj = urllib.request.urlopen(url)\n",
    "    data = pd.DataFrame(json.loads(fileobj.read())['result']['records'])\n",
    "    dfs['df' + str(index)] = data\n",
    "    offset += 32000\n",
    "    index += 1\n",
    "    if len(data) == 0:\n",
    "        break\n",
    "\n",
    "appeals1 = pd.concat(dfs.values(), ignore_index = True)"
   ]
  },
  {
   "cell_type": "code",
   "execution_count": null,
   "id": "1350517a-806e-497f-9286-3e2b953ba495",
   "metadata": {},
   "outputs": [],
   "source": [
    "appeals1.shape"
   ]
  },
  {
   "cell_type": "code",
   "execution_count": null,
   "id": "c9be5730-eca8-49e7-8f10-febcfa1ce0fa",
   "metadata": {},
   "outputs": [
    {
     "data": {
      "text/html": [
       "<div>\n",
       "<style scoped>\n",
       "    .dataframe tbody tr th:only-of-type {\n",
       "        vertical-align: middle;\n",
       "    }\n",
       "\n",
       "    .dataframe tbody tr th {\n",
       "        vertical-align: top;\n",
       "    }\n",
       "\n",
       "    .dataframe thead th {\n",
       "        text-align: right;\n",
       "    }\n",
       "</style>\n",
       "<table border=\"1\" class=\"dataframe\">\n",
       "  <thead>\n",
       "    <tr style=\"text-align: right;\">\n",
       "      <th></th>\n",
       "      <th>_id</th>\n",
       "      <th>PARID</th>\n",
       "      <th>PROPERTYHOUSENUM</th>\n",
       "      <th>PROPERTYFRACTION</th>\n",
       "      <th>PROPERTYADDRESS</th>\n",
       "      <th>PROPERTYCITY</th>\n",
       "      <th>PROPERTYSTATE</th>\n",
       "      <th>PROPERTYUNIT</th>\n",
       "      <th>PROPERTYZIP</th>\n",
       "      <th>MUNICODE</th>\n",
       "      <th>MUNIDESC</th>\n",
       "      <th>SCHOOLCODE</th>\n",
       "      <th>SCHOOLDESC</th>\n",
       "      <th>LEGAL1</th>\n",
       "      <th>LEGAL2</th>\n",
       "      <th>LEGAL3</th>\n",
       "      <th>NEIGHCODE</th>\n",
       "      <th>NEIGHDESC</th>\n",
       "      <th>TAXCODE</th>\n",
       "      <th>TAXDESC</th>\n",
       "      <th>TAXSUBCODE</th>\n",
       "      <th>TAXSUBCODE_DESC</th>\n",
       "      <th>OWNERCODE</th>\n",
       "      <th>OWNERDESC</th>\n",
       "      <th>CLASS</th>\n",
       "      <th>CLASSDESC</th>\n",
       "      <th>USECODE</th>\n",
       "      <th>USEDESC</th>\n",
       "      <th>LOTAREA</th>\n",
       "      <th>HOMESTEADFLAG</th>\n",
       "      <th>CLEANGREEN</th>\n",
       "      <th>FARMSTEADFLAG</th>\n",
       "      <th>ABATEMENTFLAG</th>\n",
       "      <th>RECORDDATE</th>\n",
       "      <th>SALEDATE</th>\n",
       "      <th>SALEPRICE</th>\n",
       "      <th>SALECODE</th>\n",
       "      <th>SALEDESC</th>\n",
       "      <th>DEEDBOOK</th>\n",
       "      <th>DEEDPAGE</th>\n",
       "      <th>PREVSALEDATE</th>\n",
       "      <th>PREVSALEPRICE</th>\n",
       "      <th>PREVSALEDATE2</th>\n",
       "      <th>PREVSALEPRICE2</th>\n",
       "      <th>CHANGENOTICEADDRESS1</th>\n",
       "      <th>CHANGENOTICEADDRESS2</th>\n",
       "      <th>CHANGENOTICEADDRESS3</th>\n",
       "      <th>CHANGENOTICEADDRESS4</th>\n",
       "      <th>COUNTYBUILDING</th>\n",
       "      <th>COUNTYLAND</th>\n",
       "      <th>COUNTYTOTAL</th>\n",
       "      <th>COUNTYEXEMPTBLDG</th>\n",
       "      <th>LOCALBUILDING</th>\n",
       "      <th>LOCALLAND</th>\n",
       "      <th>LOCALTOTAL</th>\n",
       "      <th>FAIRMARKETBUILDING</th>\n",
       "      <th>FAIRMARKETLAND</th>\n",
       "      <th>FAIRMARKETTOTAL</th>\n",
       "      <th>STYLE</th>\n",
       "      <th>STYLEDESC</th>\n",
       "      <th>STORIES</th>\n",
       "      <th>YEARBLT</th>\n",
       "      <th>EXTERIORFINISH</th>\n",
       "      <th>EXTFINISH_DESC</th>\n",
       "      <th>ROOF</th>\n",
       "      <th>ROOFDESC</th>\n",
       "      <th>BASEMENT</th>\n",
       "      <th>BASEMENTDESC</th>\n",
       "      <th>GRADE</th>\n",
       "      <th>GRADEDESC</th>\n",
       "      <th>CONDITION</th>\n",
       "      <th>CONDITIONDESC</th>\n",
       "      <th>CDU</th>\n",
       "      <th>CDUDESC</th>\n",
       "      <th>TOTALROOMS</th>\n",
       "      <th>BEDROOMS</th>\n",
       "      <th>FULLBATHS</th>\n",
       "      <th>HALFBATHS</th>\n",
       "      <th>HEATINGCOOLING</th>\n",
       "      <th>HEATINGCOOLINGDESC</th>\n",
       "      <th>FIREPLACES</th>\n",
       "      <th>BSMTGARAGE</th>\n",
       "      <th>FINISHEDLIVINGAREA</th>\n",
       "      <th>CARDNUMBER</th>\n",
       "      <th>ALT_ID</th>\n",
       "      <th>TAXYEAR</th>\n",
       "      <th>ASOFDATE</th>\n",
       "    </tr>\n",
       "  </thead>\n",
       "  <tbody>\n",
       "    <tr>\n",
       "      <th>0</th>\n",
       "      <td>14151259</td>\n",
       "      <td>0001G00106000000</td>\n",
       "      <td>0.000</td>\n",
       "      <td></td>\n",
       "      <td>MARKET ST</td>\n",
       "      <td>PITTSBURGH</td>\n",
       "      <td>PA</td>\n",
       "      <td></td>\n",
       "      <td>15222.000</td>\n",
       "      <td>101</td>\n",
       "      <td>1st Ward  - PITTSBURGH</td>\n",
       "      <td>47</td>\n",
       "      <td>Pittsburgh</td>\n",
       "      <td>LOT 38.67X60.19</td>\n",
       "      <td>PT EXTINGUISHED ALLEY = 21.75X4X21.75X4</td>\n",
       "      <td>NaN</td>\n",
       "      <td>51C02</td>\n",
       "      <td>PITTSBURGH URBAN</td>\n",
       "      <td>T</td>\n",
       "      <td>20 - Taxable</td>\n",
       "      <td>NaN</td>\n",
       "      <td>NaN</td>\n",
       "      <td>20</td>\n",
       "      <td>CORPORATION</td>\n",
       "      <td>C</td>\n",
       "      <td>COMMERCIAL</td>\n",
       "      <td>400</td>\n",
       "      <td>VACANT COMMERCIAL LAND</td>\n",
       "      <td>2415</td>\n",
       "      <td>NaN</td>\n",
       "      <td>NaN</td>\n",
       "      <td>NaN</td>\n",
       "      <td>NaN</td>\n",
       "      <td>12-30-2016</td>\n",
       "      <td>11-11-2016</td>\n",
       "      <td>10.000</td>\n",
       "      <td>H</td>\n",
       "      <td>MULTI-PARCEL SA</td>\n",
       "      <td>16656</td>\n",
       "      <td>25.000</td>\n",
       "      <td>12-18-1991</td>\n",
       "      <td>210000.000</td>\n",
       "      <td>NaN</td>\n",
       "      <td>NaN</td>\n",
       "      <td>2020   SMALLMAN ST  STE 301</td>\n",
       "      <td></td>\n",
       "      <td>PITTSBURGH PA</td>\n",
       "      <td>15222.000</td>\n",
       "      <td>0</td>\n",
       "      <td>61400</td>\n",
       "      <td>61400</td>\n",
       "      <td>0</td>\n",
       "      <td>0</td>\n",
       "      <td>61400</td>\n",
       "      <td>61400</td>\n",
       "      <td>0</td>\n",
       "      <td>61400</td>\n",
       "      <td>61400</td>\n",
       "      <td>NaN</td>\n",
       "      <td>NaN</td>\n",
       "      <td>NaN</td>\n",
       "      <td>NaN</td>\n",
       "      <td>NaN</td>\n",
       "      <td>NaN</td>\n",
       "      <td>NaN</td>\n",
       "      <td>NaN</td>\n",
       "      <td>NaN</td>\n",
       "      <td>NaN</td>\n",
       "      <td>NaN</td>\n",
       "      <td>NaN</td>\n",
       "      <td>NaN</td>\n",
       "      <td>NaN</td>\n",
       "      <td>NaN</td>\n",
       "      <td>NaN</td>\n",
       "      <td>NaN</td>\n",
       "      <td>NaN</td>\n",
       "      <td>NaN</td>\n",
       "      <td>NaN</td>\n",
       "      <td>NaN</td>\n",
       "      <td>NaN</td>\n",
       "      <td>NaN</td>\n",
       "      <td>NaN</td>\n",
       "      <td>NaN</td>\n",
       "      <td>NaN</td>\n",
       "      <td>NaN</td>\n",
       "      <td>2025</td>\n",
       "      <td>2025-08-01</td>\n",
       "    </tr>\n",
       "  </tbody>\n",
       "</table>\n",
       "</div>"
      ],
      "text/plain": [
       "        _id             PARID  PROPERTYHOUSENUM PROPERTYFRACTION  \\\n",
       "0  14151259  0001G00106000000             0.000                    \n",
       "\n",
       "  PROPERTYADDRESS PROPERTYCITY PROPERTYSTATE PROPERTYUNIT  PROPERTYZIP  \\\n",
       "0       MARKET ST   PITTSBURGH            PA                 15222.000   \n",
       "\n",
       "   MUNICODE                MUNIDESC  SCHOOLCODE  SCHOOLDESC           LEGAL1  \\\n",
       "0       101  1st Ward  - PITTSBURGH          47  Pittsburgh  LOT 38.67X60.19   \n",
       "\n",
       "                                    LEGAL2 LEGAL3 NEIGHCODE         NEIGHDESC  \\\n",
       "0  PT EXTINGUISHED ALLEY = 21.75X4X21.75X4    NaN     51C02  PITTSBURGH URBAN   \n",
       "\n",
       "  TAXCODE       TAXDESC TAXSUBCODE TAXSUBCODE_DESC  OWNERCODE    OWNERDESC  \\\n",
       "0       T  20 - Taxable        NaN             NaN         20  CORPORATION   \n",
       "\n",
       "  CLASS   CLASSDESC  USECODE                 USEDESC  LOTAREA HOMESTEADFLAG  \\\n",
       "0     C  COMMERCIAL      400  VACANT COMMERCIAL LAND     2415           NaN   \n",
       "\n",
       "  CLEANGREEN FARMSTEADFLAG ABATEMENTFLAG  RECORDDATE    SALEDATE  SALEPRICE  \\\n",
       "0        NaN           NaN           NaN  12-30-2016  11-11-2016     10.000   \n",
       "\n",
       "  SALECODE         SALEDESC DEEDBOOK DEEDPAGE PREVSALEDATE  PREVSALEPRICE  \\\n",
       "0        H  MULTI-PARCEL SA    16656   25.000   12-18-1991     210000.000   \n",
       "\n",
       "  PREVSALEDATE2  PREVSALEPRICE2         CHANGENOTICEADDRESS1  \\\n",
       "0           NaN             NaN  2020   SMALLMAN ST  STE 301   \n",
       "\n",
       "  CHANGENOTICEADDRESS2 CHANGENOTICEADDRESS3 CHANGENOTICEADDRESS4  \\\n",
       "0                           PITTSBURGH PA              15222.000   \n",
       "\n",
       "   COUNTYBUILDING  COUNTYLAND  COUNTYTOTAL  COUNTYEXEMPTBLDG  LOCALBUILDING  \\\n",
       "0               0       61400        61400                 0              0   \n",
       "\n",
       "   LOCALLAND  LOCALTOTAL  FAIRMARKETBUILDING  FAIRMARKETLAND  FAIRMARKETTOTAL  \\\n",
       "0      61400       61400                   0           61400            61400   \n",
       "\n",
       "  STYLE STYLEDESC  STORIES  YEARBLT  EXTERIORFINISH EXTFINISH_DESC  ROOF  \\\n",
       "0   NaN       NaN      NaN      NaN             NaN            NaN   NaN   \n",
       "\n",
       "  ROOFDESC  BASEMENT BASEMENTDESC GRADE GRADEDESC  CONDITION CONDITIONDESC  \\\n",
       "0      NaN       NaN          NaN   NaN       NaN        NaN           NaN   \n",
       "\n",
       "   CDU CDUDESC  TOTALROOMS  BEDROOMS  FULLBATHS  HALFBATHS HEATINGCOOLING  \\\n",
       "0  NaN     NaN         NaN       NaN        NaN        NaN            NaN   \n",
       "\n",
       "  HEATINGCOOLINGDESC  FIREPLACES  BSMTGARAGE  FINISHEDLIVINGAREA  CARDNUMBER  \\\n",
       "0                NaN         NaN         NaN                 NaN         NaN   \n",
       "\n",
       "  ALT_ID  TAXYEAR    ASOFDATE  \n",
       "0    NaN     2025  2025-08-01  "
      ]
     },
     "execution_count": 56,
     "metadata": {},
     "output_type": "execute_result"
    }
   ],
   "source": [
    "appeals1.head(1)"
   ]
  },
  {
   "cell_type": "code",
   "execution_count": null,
   "id": "3eee2aee-45e9-43c5-ac74-55d6a3362f34",
   "metadata": {},
   "outputs": [],
   "source": [
    "appeals1.to_csv(raw + 'appeals1.csv', index = False)"
   ]
  },
  {
   "cell_type": "code",
   "execution_count": 9,
   "id": "6678e916-630f-471a-9e07-29af2f65a381",
   "metadata": {},
   "outputs": [],
   "source": [
    "appeals1 = pd.read_csv(raw + 'appeals1.csv')"
   ]
  },
  {
   "cell_type": "code",
   "execution_count": 10,
   "id": "098232a3-3224-450b-8470-955ed2bb0b80",
   "metadata": {},
   "outputs": [],
   "source": [
    "appeals1 = appeals1[['PARID', 'SALEDATE', 'SALEPRICE', 'PREVSALEDATE', 'PREVSALEPRICE', 'PREVSALEDATE2', 'PREVSALEPRICE2']]\n",
    "#appeals1[['PARID', 'ASOFDATE', 'FAIRMARKETTOTAL']]\n",
    "\n",
    "appeals1.columns = ['parcelID', 'date0', 'value0', 'date1', 'value1', 'date2', 'value2'] # '0' most recent"
   ]
  },
  {
   "cell_type": "code",
   "execution_count": 11,
   "id": "4f5f2e8e-8931-4212-af71-0b6f07df2f73",
   "metadata": {},
   "outputs": [],
   "source": [
    "temp = pd.DataFrame()\n",
    "for i in range(3):\n",
    "    slice = appeals1[['parcelID', f'date{i}', f'value{i}']]\n",
    "    slice.columns = ['parcelID', 'date', 'value']\n",
    "    temp = pd.concat([temp, slice], axis = 0)\n",
    "appeals1 = temp.copy()"
   ]
  },
  {
   "cell_type": "markdown",
   "id": "883fb3d9-60cc-42ed-ad94-f05ca5a95055",
   "metadata": {},
   "source": [
    "### Appeals 2"
   ]
  },
  {
   "cell_type": "code",
   "execution_count": null,
   "id": "2070ff21-e669-476c-b46e-275e9b988def",
   "metadata": {},
   "outputs": [],
   "source": [
    "# https://data.wprdc.org/dataset/property-data-with-geographic-identifiers/resource/8eff881d-4d28-4064-83f1-30cc991cfec7\n",
    "# dictionary to store temporary dfs\n",
    "dfs = {}\n",
    "\n",
    "# download the data via the provided API\n",
    "offset = 0\n",
    "index = 0\n",
    "while True:\n",
    "    url = 'https://data.wprdc.org/api/3/action/datastore_search?resource_id=8eff881d-4d28-4064-83f1-30cc991cfec7&limit=32000'\n",
    "    url += '&offset=' + str(offset)\n",
    "    fileobj = urllib.request.urlopen(url)\n",
    "    data = pd.DataFrame(json.loads(fileobj.read())['result']['records'])\n",
    "    dfs['df' + str(index)] = data\n",
    "    offset += 32000\n",
    "    index += 1\n",
    "    if len(data) == 0:\n",
    "        break\n",
    "\n",
    "appeals2 = pd.concat(dfs.values(), ignore_index = True)"
   ]
  },
  {
   "cell_type": "code",
   "execution_count": null,
   "id": "2b86b483-e2d0-4db8-9c43-0da116220db6",
   "metadata": {},
   "outputs": [],
   "source": [
    "appeals2.shape"
   ]
  },
  {
   "cell_type": "code",
   "execution_count": null,
   "id": "d2f938ec-ed0d-4231-8564-490f452a5328",
   "metadata": {},
   "outputs": [
    {
     "data": {
      "text/html": [
       "<div>\n",
       "<style scoped>\n",
       "    .dataframe tbody tr th:only-of-type {\n",
       "        vertical-align: middle;\n",
       "    }\n",
       "\n",
       "    .dataframe tbody tr th {\n",
       "        vertical-align: top;\n",
       "    }\n",
       "\n",
       "    .dataframe thead th {\n",
       "        text-align: right;\n",
       "    }\n",
       "</style>\n",
       "<table border=\"1\" class=\"dataframe\">\n",
       "  <thead>\n",
       "    <tr style=\"text-align: right;\">\n",
       "      <th></th>\n",
       "      <th>_id</th>\n",
       "      <th>PARID</th>\n",
       "      <th>PROPERTYHOUSENUM</th>\n",
       "      <th>PROPERTYFRACTION</th>\n",
       "      <th>PROPERTYADDRESS</th>\n",
       "      <th>PROPERTYCITY</th>\n",
       "      <th>PROPERTYSTATE</th>\n",
       "      <th>PROPERTYUNIT</th>\n",
       "      <th>PROPERTYZIP</th>\n",
       "      <th>MUNICODE</th>\n",
       "      <th>MUNIDESC</th>\n",
       "      <th>SCHOOLCODE</th>\n",
       "      <th>SCHOOLDESC</th>\n",
       "      <th>LEGAL1</th>\n",
       "      <th>LEGAL2</th>\n",
       "      <th>LEGAL3</th>\n",
       "      <th>NEIGHCODE</th>\n",
       "      <th>NEIGHDESC</th>\n",
       "      <th>TAXCODE</th>\n",
       "      <th>TAXDESC</th>\n",
       "      <th>TAXSUBCODE</th>\n",
       "      <th>TAXSUBCODE_DESC</th>\n",
       "      <th>OWNERCODE</th>\n",
       "      <th>OWNERDESC</th>\n",
       "      <th>CLASS</th>\n",
       "      <th>CLASSDESC</th>\n",
       "      <th>USECODE</th>\n",
       "      <th>USEDESC</th>\n",
       "      <th>LOTAREA</th>\n",
       "      <th>HOMESTEADFLAG</th>\n",
       "      <th>CLEANGREEN</th>\n",
       "      <th>FARMSTEADFLAG</th>\n",
       "      <th>ABATEMENTFLAG</th>\n",
       "      <th>RECORDDATE</th>\n",
       "      <th>SALEDATE</th>\n",
       "      <th>SALEPRICE</th>\n",
       "      <th>SALECODE</th>\n",
       "      <th>SALEDESC</th>\n",
       "      <th>DEEDBOOK</th>\n",
       "      <th>DEEDPAGE</th>\n",
       "      <th>PREVSALEDATE</th>\n",
       "      <th>PREVSALEPRICE</th>\n",
       "      <th>PREVSALEDATE2</th>\n",
       "      <th>PREVSALEPRICE2</th>\n",
       "      <th>CHANGENOTICEADDRESS1</th>\n",
       "      <th>CHANGENOTICEADDRESS2</th>\n",
       "      <th>CHANGENOTICEADDRESS3</th>\n",
       "      <th>CHANGENOTICEADDRESS4</th>\n",
       "      <th>COUNTYBUILDING</th>\n",
       "      <th>COUNTYLAND</th>\n",
       "      <th>COUNTYTOTAL</th>\n",
       "      <th>COUNTYEXEMPTBLDG</th>\n",
       "      <th>LOCALBUILDING</th>\n",
       "      <th>LOCALLAND</th>\n",
       "      <th>LOCALTOTAL</th>\n",
       "      <th>FAIRMARKETBUILDING</th>\n",
       "      <th>FAIRMARKETLAND</th>\n",
       "      <th>FAIRMARKETTOTAL</th>\n",
       "      <th>STYLE</th>\n",
       "      <th>STYLEDESC</th>\n",
       "      <th>STORIES</th>\n",
       "      <th>YEARBLT</th>\n",
       "      <th>EXTERIORFINISH</th>\n",
       "      <th>EXTFINISH_DESC</th>\n",
       "      <th>ROOF</th>\n",
       "      <th>ROOFDESC</th>\n",
       "      <th>BASEMENT</th>\n",
       "      <th>BASEMENTDESC</th>\n",
       "      <th>GRADE</th>\n",
       "      <th>GRADEDESC</th>\n",
       "      <th>CONDITION</th>\n",
       "      <th>CONDITIONDESC</th>\n",
       "      <th>CDU</th>\n",
       "      <th>CDUDESC</th>\n",
       "      <th>TOTALROOMS</th>\n",
       "      <th>BEDROOMS</th>\n",
       "      <th>FULLBATHS</th>\n",
       "      <th>HALFBATHS</th>\n",
       "      <th>HEATINGCOOLING</th>\n",
       "      <th>HEATINGCOOLINGDESC</th>\n",
       "      <th>FIREPLACES</th>\n",
       "      <th>BSMTGARAGE</th>\n",
       "      <th>FINISHEDLIVINGAREA</th>\n",
       "      <th>CARDNUMBER</th>\n",
       "      <th>ALT_ID</th>\n",
       "      <th>TAXYEAR</th>\n",
       "      <th>ASOFDATE</th>\n",
       "      <th>MUNICIPALITY</th>\n",
       "      <th>NEIGHBORHOOD</th>\n",
       "      <th>PGH_COUNCIL_DISTRICT</th>\n",
       "      <th>PGH_WARD</th>\n",
       "      <th>PGH_PUBLIC_WORKS_DIVISION</th>\n",
       "      <th>PGH_POLICE_ZONE</th>\n",
       "      <th>PGH_FIRE_ZONE</th>\n",
       "      <th>TRACT</th>\n",
       "      <th>BLOCK_GROUP</th>\n",
       "    </tr>\n",
       "  </thead>\n",
       "  <tbody>\n",
       "    <tr>\n",
       "      <th>0</th>\n",
       "      <td>1</td>\n",
       "      <td>0001G00224060300</td>\n",
       "      <td>151.000</td>\n",
       "      <td></td>\n",
       "      <td>FORT PITT BLVD</td>\n",
       "      <td>PITTSBURGH</td>\n",
       "      <td>PA</td>\n",
       "      <td>UNIT 603</td>\n",
       "      <td>15222</td>\n",
       "      <td>101</td>\n",
       "      <td>1st Ward  - PITTSBURGH</td>\n",
       "      <td>47</td>\n",
       "      <td>Pittsburgh</td>\n",
       "      <td>FIRST SIDE CONDOMINIUM - AMENDMENT OF DECLARAT...</td>\n",
       "      <td>UNIT 603 &amp; PARKING SPACE</td>\n",
       "      <td>6TH LEVEL</td>\n",
       "      <td>61P03H</td>\n",
       "      <td>151 FIRST</td>\n",
       "      <td>T</td>\n",
       "      <td>20 - Taxable</td>\n",
       "      <td>NaN</td>\n",
       "      <td>NaN</td>\n",
       "      <td>12</td>\n",
       "      <td>REGULAR-ETUX OR ET VIR</td>\n",
       "      <td>R</td>\n",
       "      <td>RESIDENTIAL</td>\n",
       "      <td>50</td>\n",
       "      <td>CONDOMINIUM</td>\n",
       "      <td>0</td>\n",
       "      <td>HOM</td>\n",
       "      <td>NaN</td>\n",
       "      <td>NaN</td>\n",
       "      <td>NaN</td>\n",
       "      <td>10-05-2017</td>\n",
       "      <td>09-29-2017</td>\n",
       "      <td>699000.000</td>\n",
       "      <td>36</td>\n",
       "      <td>QUIT CLAIM / SPEC WARRNTY</td>\n",
       "      <td>16966</td>\n",
       "      <td>186.000</td>\n",
       "      <td>10-25-2013</td>\n",
       "      <td>460000.000</td>\n",
       "      <td>08-23-2007</td>\n",
       "      <td>389745.000</td>\n",
       "      <td>151 FORT PITT BLVD UNIT 603</td>\n",
       "      <td></td>\n",
       "      <td>PITTSBURGH PA</td>\n",
       "      <td>15222.000</td>\n",
       "      <td>592900</td>\n",
       "      <td>0</td>\n",
       "      <td>592900</td>\n",
       "      <td>0</td>\n",
       "      <td>610900</td>\n",
       "      <td>0</td>\n",
       "      <td>610900</td>\n",
       "      <td>610900</td>\n",
       "      <td>0</td>\n",
       "      <td>610900</td>\n",
       "      <td>21.000</td>\n",
       "      <td>CONDO HR</td>\n",
       "      <td>1.000</td>\n",
       "      <td>2007.000</td>\n",
       "      <td>7.000</td>\n",
       "      <td>Concrete</td>\n",
       "      <td>4.000</td>\n",
       "      <td>ROLL</td>\n",
       "      <td>1.000</td>\n",
       "      <td>NaN</td>\n",
       "      <td>A+</td>\n",
       "      <td>VERY GOOD +</td>\n",
       "      <td>3.000</td>\n",
       "      <td>AVERAGE</td>\n",
       "      <td>AV</td>\n",
       "      <td>AVERAGE</td>\n",
       "      <td>5.000</td>\n",
       "      <td>2.000</td>\n",
       "      <td>2.000</td>\n",
       "      <td>0.000</td>\n",
       "      <td>B</td>\n",
       "      <td>Central Heat with AC</td>\n",
       "      <td>NaN</td>\n",
       "      <td>NaN</td>\n",
       "      <td>1761.000</td>\n",
       "      <td>1.000</td>\n",
       "      <td>NaN</td>\n",
       "      <td>2018</td>\n",
       "      <td>2018-09-01</td>\n",
       "      <td>Pittsburgh</td>\n",
       "      <td>Central Business District</td>\n",
       "      <td>6.000</td>\n",
       "      <td>1.000</td>\n",
       "      <td>6.000</td>\n",
       "      <td>2.000</td>\n",
       "      <td>1-4</td>\n",
       "      <td>42003020100.000</td>\n",
       "      <td>420030201001.000</td>\n",
       "    </tr>\n",
       "  </tbody>\n",
       "</table>\n",
       "</div>"
      ],
      "text/plain": [
       "   _id             PARID  PROPERTYHOUSENUM PROPERTYFRACTION PROPERTYADDRESS  \\\n",
       "0    1  0001G00224060300           151.000                   FORT PITT BLVD   \n",
       "\n",
       "  PROPERTYCITY PROPERTYSTATE PROPERTYUNIT  PROPERTYZIP  MUNICODE  \\\n",
       "0   PITTSBURGH            PA     UNIT 603        15222       101   \n",
       "\n",
       "                 MUNIDESC  SCHOOLCODE  SCHOOLDESC  \\\n",
       "0  1st Ward  - PITTSBURGH          47  Pittsburgh   \n",
       "\n",
       "                                              LEGAL1  \\\n",
       "0  FIRST SIDE CONDOMINIUM - AMENDMENT OF DECLARAT...   \n",
       "\n",
       "                     LEGAL2     LEGAL3 NEIGHCODE  NEIGHDESC TAXCODE  \\\n",
       "0  UNIT 603 & PARKING SPACE  6TH LEVEL    61P03H  151 FIRST       T   \n",
       "\n",
       "        TAXDESC TAXSUBCODE TAXSUBCODE_DESC  OWNERCODE               OWNERDESC  \\\n",
       "0  20 - Taxable        NaN             NaN         12  REGULAR-ETUX OR ET VIR   \n",
       "\n",
       "  CLASS    CLASSDESC  USECODE      USEDESC  LOTAREA HOMESTEADFLAG CLEANGREEN  \\\n",
       "0     R  RESIDENTIAL       50  CONDOMINIUM        0           HOM        NaN   \n",
       "\n",
       "  FARMSTEADFLAG ABATEMENTFLAG  RECORDDATE    SALEDATE  SALEPRICE SALECODE  \\\n",
       "0           NaN           NaN  10-05-2017  09-29-2017 699000.000       36   \n",
       "\n",
       "                    SALEDESC DEEDBOOK DEEDPAGE PREVSALEDATE  PREVSALEPRICE  \\\n",
       "0  QUIT CLAIM / SPEC WARRNTY    16966  186.000   10-25-2013     460000.000   \n",
       "\n",
       "  PREVSALEDATE2  PREVSALEPRICE2         CHANGENOTICEADDRESS1  \\\n",
       "0    08-23-2007      389745.000  151 FORT PITT BLVD UNIT 603   \n",
       "\n",
       "  CHANGENOTICEADDRESS2 CHANGENOTICEADDRESS3 CHANGENOTICEADDRESS4  \\\n",
       "0                            PITTSBURGH PA             15222.000   \n",
       "\n",
       "   COUNTYBUILDING  COUNTYLAND  COUNTYTOTAL  COUNTYEXEMPTBLDG  LOCALBUILDING  \\\n",
       "0          592900           0       592900                 0         610900   \n",
       "\n",
       "   LOCALLAND  LOCALTOTAL  FAIRMARKETBUILDING  FAIRMARKETLAND  FAIRMARKETTOTAL  \\\n",
       "0          0      610900              610900               0           610900   \n",
       "\n",
       "   STYLE STYLEDESC  STORIES  YEARBLT  EXTERIORFINISH EXTFINISH_DESC  ROOF  \\\n",
       "0 21.000  CONDO HR    1.000 2007.000           7.000       Concrete 4.000   \n",
       "\n",
       "  ROOFDESC  BASEMENT BASEMENTDESC GRADE    GRADEDESC  CONDITION CONDITIONDESC  \\\n",
       "0     ROLL     1.000          NaN    A+  VERY GOOD +      3.000       AVERAGE   \n",
       "\n",
       "  CDU  CDUDESC  TOTALROOMS  BEDROOMS  FULLBATHS  HALFBATHS HEATINGCOOLING  \\\n",
       "0  AV  AVERAGE       5.000     2.000      2.000      0.000              B   \n",
       "\n",
       "     HEATINGCOOLINGDESC  FIREPLACES  BSMTGARAGE  FINISHEDLIVINGAREA  \\\n",
       "0  Central Heat with AC         NaN         NaN            1761.000   \n",
       "\n",
       "   CARDNUMBER ALT_ID  TAXYEAR    ASOFDATE MUNICIPALITY  \\\n",
       "0       1.000    NaN     2018  2018-09-01   Pittsburgh   \n",
       "\n",
       "                NEIGHBORHOOD  PGH_COUNCIL_DISTRICT  PGH_WARD  \\\n",
       "0  Central Business District                 6.000     1.000   \n",
       "\n",
       "   PGH_PUBLIC_WORKS_DIVISION  PGH_POLICE_ZONE PGH_FIRE_ZONE           TRACT  \\\n",
       "0                      6.000            2.000           1-4 42003020100.000   \n",
       "\n",
       "       BLOCK_GROUP  \n",
       "0 420030201001.000  "
      ]
     },
     "execution_count": 58,
     "metadata": {},
     "output_type": "execute_result"
    }
   ],
   "source": [
    "appeals2.head(1)"
   ]
  },
  {
   "cell_type": "code",
   "execution_count": null,
   "id": "6c913098-e8b5-4c84-a8a6-b823776625d7",
   "metadata": {},
   "outputs": [],
   "source": [
    "appeals2.to_csv(raw + 'appeals2.csv', index = False)"
   ]
  },
  {
   "cell_type": "code",
   "execution_count": 12,
   "id": "ac551791-09b2-4c9a-b9e2-5fd22c9ff23a",
   "metadata": {},
   "outputs": [],
   "source": [
    "appeals2 = pd.read_csv(raw + 'appeals2.csv')"
   ]
  },
  {
   "cell_type": "code",
   "execution_count": 13,
   "id": "ab094680-795c-486e-b04c-7a8ff094afd8",
   "metadata": {},
   "outputs": [],
   "source": [
    "appeals2 = appeals2[['PARID', 'SALEDATE', 'SALEPRICE', 'PREVSALEDATE', 'PREVSALEPRICE', 'PREVSALEDATE2', 'PREVSALEPRICE2']]\n",
    "#appeals2[['PARID', 'ASOFDATE', 'FAIRMARKETTOTAL']]\n",
    "\n",
    "appeals2.columns = ['parcelID', 'date0', 'value0', 'date1', 'value1', 'date2', 'value2'] # '0' most recent"
   ]
  },
  {
   "cell_type": "code",
   "execution_count": 14,
   "id": "5ff80689-dd68-45e5-8980-5a6d4b7c8c67",
   "metadata": {},
   "outputs": [],
   "source": [
    "temp = pd.DataFrame()\n",
    "for i in range(3):\n",
    "    slice = appeals2[['parcelID', f'date{i}', f'value{i}']]\n",
    "    slice.columns = ['parcelID', 'date', 'value']\n",
    "    temp = pd.concat([temp, slice], axis = 0)\n",
    "appeals2 = temp.copy()"
   ]
  },
  {
   "cell_type": "markdown",
   "id": "87d94cd1-5874-4236-9089-97141bc3ca4c",
   "metadata": {},
   "source": [
    "### Appeals 3"
   ]
  },
  {
   "cell_type": "code",
   "execution_count": null,
   "id": "7b9c901b-ff6b-41b9-ba97-2db66ffec3b0",
   "metadata": {},
   "outputs": [],
   "source": [
    "# https://data.wprdc.org/dataset/allegheny-county-property-assessment-appeals/resource/8a7607fb-c93e-4d7a-9b23-528b5c25b1de\n",
    "# dictionary to store temporary dfs\n",
    "dfs = {}\n",
    "\n",
    "# download the data via the provided API\n",
    "offset = 0\n",
    "index = 0\n",
    "while True:\n",
    "    url = 'https://data.wprdc.org/api/3/action/datastore_search?resource_id=8a7607fb-c93e-4d7a-9b23-528b5c25b1de&limit=32000'\n",
    "    url += '&offset=' + str(offset)\n",
    "    fileobj = urllib.request.urlopen(url)\n",
    "    data = pd.DataFrame(json.loads(fileobj.read())['result']['records'])\n",
    "    dfs['df' + str(index)] = data\n",
    "    offset += 32000\n",
    "    index += 1\n",
    "    if len(data) == 0:\n",
    "        break\n",
    "\n",
    "appeals3 = pd.concat(dfs.values(), ignore_index = True)"
   ]
  },
  {
   "cell_type": "code",
   "execution_count": null,
   "id": "4e571609-a4ba-449b-8340-0d7a0de67f35",
   "metadata": {},
   "outputs": [],
   "source": [
    "appeals3.shape"
   ]
  },
  {
   "cell_type": "code",
   "execution_count": null,
   "id": "a0ee8db0-278f-4272-ad6d-8e740fd412b1",
   "metadata": {},
   "outputs": [],
   "source": [
    "appeals3.head(1)"
   ]
  },
  {
   "cell_type": "code",
   "execution_count": null,
   "id": "35187db9-6d01-4217-b26c-f9efd00d8620",
   "metadata": {},
   "outputs": [],
   "source": [
    "appeals3.to_csv(raw + 'appeals3.csv', index = False)"
   ]
  },
  {
   "cell_type": "code",
   "execution_count": 15,
   "id": "740de0ed-960e-48a8-baef-162620e57f52",
   "metadata": {},
   "outputs": [],
   "source": [
    "appeals3 = pd.read_csv(raw + 'appeals3.csv')"
   ]
  },
  {
   "cell_type": "code",
   "execution_count": 16,
   "id": "648e5aac-dea1-4bf8-a864-ccff7e874627",
   "metadata": {},
   "outputs": [],
   "source": [
    "appeals3 = appeals3[['PARCEL ID', 'DISPO DATE', 'CURRENT TOTAL VALUE']]\n",
    "\n",
    "appeals3.columns = ['parcelID', 'date', 'value']"
   ]
  },
  {
   "cell_type": "markdown",
   "id": "fcfaa174-33f5-4ff7-86a3-7a22ebcd7938",
   "metadata": {},
   "source": [
    "### Concatenating values (all appeals + sales)"
   ]
  },
  {
   "cell_type": "code",
   "execution_count": null,
   "id": "08961636",
   "metadata": {},
   "outputs": [],
   "source": [
    "sales.head(1)"
   ]
  },
  {
   "cell_type": "code",
   "execution_count": null,
   "id": "80eaa868",
   "metadata": {},
   "outputs": [],
   "source": [
    "appeals1.head(1)"
   ]
  },
  {
   "cell_type": "code",
   "execution_count": null,
   "id": "b48388bf",
   "metadata": {},
   "outputs": [],
   "source": [
    "appeals2.head(1)"
   ]
  },
  {
   "cell_type": "code",
   "execution_count": null,
   "id": "b4e3248b",
   "metadata": {},
   "outputs": [],
   "source": [
    "appeals3.head(1)"
   ]
  },
  {
   "cell_type": "code",
   "execution_count": 17,
   "id": "002e057c-553a-4b71-a2cd-c3f01e50aa36",
   "metadata": {},
   "outputs": [],
   "source": [
    "values = pd.concat([appeals1, appeals2, appeals3, sales], axis = 0)\n",
    "values['date'] = pd.to_datetime(values['date'], format = 'mixed')"
   ]
  },
  {
   "cell_type": "code",
   "execution_count": 18,
   "id": "25255e86-8ff1-444a-bec3-51a15fca4684",
   "metadata": {},
   "outputs": [],
   "source": [
    "# merging in lat, lng - also filtering for Pittsburgh parcels\n",
    "values = values.merge(right = parcels, on = 'parcelID', how = 'right')\n",
    "\n",
    "# sort by date ascending\n",
    "values = values.sort_values(by = 'date')\n",
    "\n",
    "# filter dates including 2016 to be able to do smoothing for 2020\n",
    "values = values.loc[(values['date'].dt.year >= 2016) & (values['date'].dt.year <= 2025)]\n",
    "\n",
    "# removing abnormally large values (x > $10mm) to smooth results\n",
    "values = values.loc[values['value'] <= 10_000_000]\n",
    "\n",
    "# remove year-by-year duplicates\n",
    "values = (\n",
    "    values\n",
    "    .assign(year = values['date'].dt.year)\n",
    "    .drop_duplicates(subset = ['parcelID', 'year'], keep = 'last')\n",
    ")\n",
    "\n",
    "# drop nulls\n",
    "values = values.dropna()\n",
    "\n",
    "# reset the final index\n",
    "values = values.reset_index(drop = True)"
   ]
  },
  {
   "cell_type": "code",
   "execution_count": 19,
   "id": "03a98595-ca2b-43a7-839f-b04231c88ae4",
   "metadata": {},
   "outputs": [],
   "source": [
    "values.to_csv(clean + 'clean_values.csv', index = False)"
   ]
  },
  {
   "cell_type": "code",
   "execution_count": 17,
   "id": "3183a2c2-acb2-456f-8ae3-c57e26abc754",
   "metadata": {},
   "outputs": [],
   "source": [
    "values = pd.read_csv(clean + 'clean_values.csv')"
   ]
  },
  {
   "cell_type": "code",
   "execution_count": null,
   "id": "c199039c",
   "metadata": {},
   "outputs": [],
   "source": []
  }
 ],
 "metadata": {
  "kernelspec": {
   "display_name": "base",
   "language": "python",
   "name": "python3"
  },
  "language_info": {
   "codemirror_mode": {
    "name": "ipython",
    "version": 3
   },
   "file_extension": ".py",
   "mimetype": "text/x-python",
   "name": "python",
   "nbconvert_exporter": "python",
   "pygments_lexer": "ipython3",
   "version": "3.13.5"
  }
 },
 "nbformat": 4,
 "nbformat_minor": 5
}
