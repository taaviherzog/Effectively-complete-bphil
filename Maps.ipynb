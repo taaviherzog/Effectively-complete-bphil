{
 "cells": [
  {
   "cell_type": "code",
   "execution_count": null,
   "id": "a1166511",
   "metadata": {},
   "outputs": [],
   "source": [
    "import pandas as pd\n",
    "from math import cos, radians, sqrt\n",
    "from sklearn.neighbors import BallTree\n",
    "import geopandas as gpd\n",
    "from shapely.geometry import Polygon, MultiPolygon, Point\n",
    "import numpy as np\n",
    "import seaborn as sns\n",
    "import seaborn.objects as so\n",
    "import matplotlib.pyplot as plt\n",
    "import matplotlib.cm as cm\n",
    "import plotly.express as px\n",
    "import warnings\n",
    "from tqdm import tqdm\n",
    "from sklearn.preprocessing import MinMaxScaler\n",
    "from sklearn.neighbors import KNeighborsRegressor\n",
    "import statsmodels.formula.api as smf\n",
    "from sklearn.cluster import KMeans"
   ]
  },
  {
   "cell_type": "code",
   "execution_count": null,
   "id": "364868f7",
   "metadata": {},
   "outputs": [],
   "source": [
    "pd.set_option('display.max_columns', None)\n",
    "pd.set_option('display.max_rows', 50)\n",
    "warnings.filterwarnings('ignore')\n",
    "pd.set_option('display.float_format', '{:,.2f}'.format)\n",
    "np.set_printoptions(suppress = True)\n",
    "np.set_printoptions(precision = 2)"
   ]
  },
  {
   "cell_type": "code",
   "execution_count": null,
   "id": "6152d0e6",
   "metadata": {},
   "outputs": [],
   "source": [
    "raw = \"C:\\\\Users\\\\taavi\\\\Desktop\\\\BPHIL\\\\Raw data\\\\\"\n",
    "clean = \"C:\\\\Users\\\\taavi\\\\Desktop\\\\BPHIL\\\\Clean data\\\\\""
   ]
  },
  {
   "cell_type": "code",
   "execution_count": null,
   "id": "179fd2a3",
   "metadata": {},
   "outputs": [],
   "source": [
    "parcels = pd.read_csv(clean + 'blight_and_values.csv')\n",
    "parcels = parcels.drop_duplicates(subset = 'parcelID')\n",
    "parcels['blight'] = parcels['blight'].astype(str)\n",
    "demos = pd.read_csv(clean + 'demos_values_blight.csv')\n",
    "viols = pd.read_csv(clean + 'clean_viols.csv')"
   ]
  },
  {
   "cell_type": "code",
   "execution_count": null,
   "id": "16e00235",
   "metadata": {},
   "outputs": [],
   "source": [
    "color_continuous_scale=[\n",
    "        '#440154', '#443983', '#31688e', '#21918c', '#35b779', '#90d743', '#fde725'\n",
    "]"
   ]
  },
  {
   "cell_type": "markdown",
   "id": "f16336fe",
   "metadata": {},
   "source": [
    "### 100 individul parcels"
   ]
  },
  {
   "cell_type": "code",
   "execution_count": null,
   "id": "863f97ff",
   "metadata": {},
   "outputs": [],
   "source": [
    "fig = px.scatter_mapbox(parcels.sample(100), lat = 'lat', lon = 'lng', zoom = 10,\n",
    "                        hover_data = ['nbrhd'])\n",
    "fig.update_layout(mapbox_style = 'carto-positron')\n",
    "fig.show()"
   ]
  },
  {
   "cell_type": "markdown",
   "id": "21fc270b",
   "metadata": {},
   "source": [
    "### All parcels, uncolored"
   ]
  },
  {
   "cell_type": "code",
   "execution_count": null,
   "id": "70b8edb4",
   "metadata": {},
   "outputs": [],
   "source": [
    "fig = px.scatter_mapbox(parcels, lat = 'lat', lon = 'lng', zoom = 10,\n",
    "                        hover_data = ['nbrhd'])\n",
    "fig.update_layout(mapbox_style = 'carto-positron')\n",
    "fig.show()"
   ]
  },
  {
   "cell_type": "markdown",
   "id": "c338cbaf",
   "metadata": {},
   "source": [
    "### Continuous viols_sqrt"
   ]
  },
  {
   "cell_type": "code",
   "execution_count": null,
   "id": "ba557897",
   "metadata": {},
   "outputs": [],
   "source": [
    "fig = px.scatter_mapbox(parcels, lat = 'lat', lon = 'lng', color = 'viols_sqrt', color_continuous_scale = color_continuous_scale, zoom = 10,\n",
    "                        hover_data = ['nbrhd'])\n",
    "fig.update_layout(mapbox_style = 'carto-positron')\n",
    "fig.show()"
   ]
  },
  {
   "cell_type": "markdown",
   "id": "ecf63b3b",
   "metadata": {},
   "source": [
    "### 10 parcels (blue), 100 violations (yellow)"
   ]
  },
  {
   "cell_type": "code",
   "execution_count": null,
   "id": "f772f86b",
   "metadata": {},
   "outputs": [],
   "source": [
    "np.random.seed(0)\n",
    "\n",
    "toPlot = pd.concat([parcels.sample(10)[['lat', 'lng']].assign(type = 'parcel'), viols.sample(100)[['lat', 'lng']].assign(type = 'viol')], axis = 0)\n",
    "\n",
    "cmap = {\n",
    "    'viol': 'rgba(253,231,37,0.8)',\n",
    "    'parcel': '#4169E1'\n",
    "}\n",
    "\n",
    "fig = px.scatter_mapbox(toPlot, lat = 'lat', lon = 'lng', color = 'type', color_discrete_map = cmap, zoom = 10)\n",
    "fig.update_layout(mapbox_style = 'carto-positron')\n",
    "fig.show()"
   ]
  },
  {
   "cell_type": "markdown",
   "id": "3b6b9d3e",
   "metadata": {},
   "source": [
    "### Construct X-meter radius"
   ]
  },
  {
   "cell_type": "code",
   "execution_count": null,
   "id": "46c02255",
   "metadata": {},
   "outputs": [],
   "source": [
    "def construct_perimeter(parcels, r):\n",
    "    x_vals = [i for i in range(0, r + 1, 1)]\n",
    "    y_vals = []\n",
    "\n",
    "    for x in x_vals:\n",
    "        y = np.sqrt( (r ** 2) - (x ** 2) )\n",
    "        y_vals.append(y)\n",
    "        pass\n",
    "    \n",
    "    conversionVector = np.array([85500, 111111.111])\n",
    "    coords1 = np.array([[i, j] for i, j in zip(x_vals, y_vals)]) / conversionVector\n",
    "    coords2 = coords1 * np.array([-1, 1])\n",
    "    coords3 = coords1 * np.array([-1, -1])\n",
    "    coords4 = coords1 * np.array([1, -1])\n",
    "    \n",
    "    polyX_vals = []\n",
    "\n",
    "    for index, row in parcels.iterrows():\n",
    "        origin = np.array([row['lng'], row['lat']])\n",
    "        coordsX_1 = origin + coords1\n",
    "        coordsX_2 = origin + coords2\n",
    "        coordsX_3 = origin + coords3\n",
    "        coordsX_4 = origin + coords4\n",
    "        coordsX = np.concatenate((coordsX_1, coordsX_2, coordsX_3, coordsX_4))\n",
    "        polyX = Polygon(coordsX)\n",
    "        polyX_vals.append(polyX)\n",
    "        pass\n",
    "    \n",
    "    return polyX_vals"
   ]
  },
  {
   "cell_type": "markdown",
   "id": "e23b3aa2",
   "metadata": {},
   "source": [
    "### 3 parcels and 750m radius (blue), 100 violations (purple)"
   ]
  },
  {
   "cell_type": "code",
   "execution_count": null,
   "id": "f22b1b3b",
   "metadata": {},
   "outputs": [],
   "source": [
    "np.random.seed(0)\n",
    "three_parcels = parcels.loc[parcels['blight_sqrt'] == 6].sample(3)\n",
    "three_parcels['radius_750'] = construct_perimeter(three_parcels, 750)\n",
    "perimeter_coords = (\n",
    "    pd.DataFrame([three_parcels['radius_750'].values[i].exterior.xy for i in range(three_parcels.shape[0])]).rename(columns = {0: 'lng', 1: 'lat'})\n",
    "    .apply(pd.Series.explode).reset_index(drop = True)\n",
    "    .assign(type = 'parcel')\n",
    ")\n",
    "toPlot = pd.concat([\n",
    "    three_parcels[['lat', 'lng']].assign(type = 'parcel'), perimeter_coords, viols.sample(100)[['lat', 'lng']].assign(type = 'viol')\n",
    "], axis = 0)\n",
    "\n",
    "cmap = {\n",
    "    'viol': 'rgba(68,1,84,0.8)',\n",
    "    'parcel': '#4169E1'\n",
    "}\n",
    "\n",
    "fig = px.scatter_mapbox(toPlot, lat = 'lat', lon = 'lng', color = 'type', color_discrete_map = cmap, zoom = 10)\n",
    "fig.update_layout(mapbox_style = 'carto-positron')\n",
    "fig.show()"
   ]
  },
  {
   "cell_type": "markdown",
   "id": "505df1ac",
   "metadata": {},
   "source": [
    "### One parcel, every radius bin"
   ]
  },
  {
   "cell_type": "code",
   "execution_count": null,
   "metadata": {},
   "outputs": [],
   "source": [
    "np.random.seed(0)\n",
    "one_parcel = parcels.loc[parcels['blight_sqrt'] == 6].sample(1)\n",
    "bins = np.arange(50, 800, 50)\n",
    "perimeters = pd.DataFrame()\n",
    "for bin in bins:\n",
    "    one_parcel[f'radius_{bin}'] = construct_perimeter(one_parcel, bin)\n",
    "    perimeter_coords = (\n",
    "        pd.DataFrame([one_parcel[f'radius_{bin}'].values[i].exterior.xy for i in range(one_parcel.shape[0])]).rename(columns = {0: 'lng', 1: 'lat'})\n",
    "        .apply(pd.Series.explode).reset_index(drop = True)\n",
    "        .assign(radius = bin)\n",
    "    )\n",
    "    perimeters = pd.concat([perimeters, perimeter_coords], axis = 0)\n",
    "\n",
    "toPlot = pd.concat([perimeters, one_parcel[['lat', 'lng']].assign(radius = 0)], axis = 0)\n",
    "\n",
    "cmap = [\n",
    "    (0.0, '#4169E1'),  # start\n",
    "    (1.0, '#87CEFA')   # end\n",
    "]\n",
    "\n",
    "fig = px.scatter_mapbox(toPlot, lat = 'lat', lon = 'lng', color = 'radius', color_continuous_scale = cmap, zoom = 10)\n",
    "fig.update_layout(mapbox_style = 'carto-positron')\n",
    "fig.show()"
   ]
  },
  {
   "cell_type": "markdown",
   "id": "8d1deac5",
   "metadata": {},
   "source": [
    "### Continuous property values"
   ]
  },
  {
   "cell_type": "code",
   "execution_count": null,
   "id": "95c21f8f",
   "metadata": {},
   "outputs": [],
   "source": [
    "toPlot = (\n",
    "    parcels\n",
    "    .assign(\n",
    "        values_smoothed = np.sqrt(parcels['values_smoothed'])\n",
    "    )\n",
    "    .groupby(['parcelID', 'lat', 'lng'])['values_smoothed'].mean().reset_index()\n",
    ")\n",
    "toPlot.head(1)"
   ]
  },
  {
   "cell_type": "code",
   "execution_count": null,
   "id": "3bc64228",
   "metadata": {},
   "outputs": [],
   "source": [
    "np.random.seed(0)\n",
    "km = KMeans(n_clusters = 7)\n",
    "toPlot['cluster'] = km.fit_predict(pd.DataFrame(toPlot['values_smoothed']))\n",
    "toPlot.groupby('cluster')['values_smoothed'].mean()"
   ]
  },
  {
   "cell_type": "code",
   "execution_count": null,
   "id": "e4900543",
   "metadata": {},
   "outputs": [],
   "source": [
    "toPlot['cluster'] = toPlot['cluster'].map({\n",
    "    2: 1,\n",
    "    6: 2,\n",
    "    0: 3,\n",
    "    5: 4,\n",
    "    3: 5,\n",
    "    1: 6,\n",
    "    4: 7\n",
    "})"
   ]
  },
  {
   "cell_type": "code",
   "execution_count": null,
   "id": "f4b0e795",
   "metadata": {},
   "outputs": [],
   "source": [
    "fig = px.scatter_mapbox(toPlot, lat = 'lat', lon = 'lng', color = 'cluster', color_continuous_scale = color_continuous_scale, zoom = 10)\n",
    "fig.update_layout(mapbox_style = 'carto-positron')\n",
    "fig.show()"
   ]
  },
  {
   "cell_type": "code",
   "execution_count": null,
   "id": "df99436a",
   "metadata": {},
   "outputs": [],
   "source": []
  },
  {
   "cell_type": "code",
   "execution_count": null,
   "id": "0ffdcb15",
   "metadata": {},
   "outputs": [],
   "source": [
    "np.random.seed(0)\n",
    "oneParcel = parcels.loc[parcels['blight'] == '6'].sample(2)"
   ]
  },
  {
   "cell_type": "code",
   "execution_count": null,
   "id": "47dad9ed",
   "metadata": {},
   "outputs": [],
   "source": [
    "oneParcel['radius_750'] = construct_perimeter(oneParcel, 750)\n",
    "perimeterCoords = (\n",
    "    pd.DataFrame([oneParcel['radius_750'].values[i].exterior.xy for i in range(2)]).rename(columns = {0: 'lng', 1: 'lat'})\n",
    "    .apply(pd.Series.explode).reset_index(drop = True)\n",
    ") \n",
    "toPlot = pd.concat([oneParcel[['lng', 'lat']], perimeterCoords], axis = 0)"
   ]
  },
  {
   "cell_type": "code",
   "execution_count": null,
   "id": "bcfd88b4",
   "metadata": {},
   "outputs": [],
   "source": [
    "fig = px.scatter_mapbox(toPlot, lat = 'lat', lon = 'lng', zoom = 10)\n",
    "fig.update_layout(mapbox_style = 'open-street-map')\n",
    "fig.show()"
   ]
  },
  {
   "cell_type": "markdown",
   "id": "1ff78a6d",
   "metadata": {},
   "source": [
    "### Overlay demos on top of blight backdrop"
   ]
  },
  {
   "cell_type": "code",
   "execution_count": null,
   "id": "b7c88b42",
   "metadata": {},
   "outputs": [],
   "source": [
    "demos = pd.read_csv(clean + 'clean_demos.csv').query('status == \"Completed\"').reset_index(drop = True)"
   ]
  },
  {
   "cell_type": "code",
   "execution_count": null,
   "id": "228c0aee",
   "metadata": {},
   "outputs": [],
   "source": [
    "toPlot = (\n",
    "    parcels\n",
    "    .merge(right = demos[['parcelID']].assign(demo = 1), on = 'parcelID', how = 'left')\n",
    "    .assign(\n",
    "        blight_sqrt = lambda x: np.where(x['demo'] == 1, 'Demo', x['blight_sqrt'])\n",
    "    )\n",
    "    [['lat', 'lng', 'blight_sqrt', 'nbrhd']].rename(columns = {'blight_sqrt': 'Blight', 'nbrhd': 'Neighborhood'})\n",
    ")\n",
    "\n",
    "color_discrete_map = {\n",
    "    '1': '#440154',\n",
    "    '2': '#443983',\n",
    "    '3': '#31688e',\n",
    "    '4': '#21918c',\n",
    "    '5': '#35b779',\n",
    "    '6': '#90d743',\n",
    "    '7': '#fde725',\n",
    "    'Demo': '#FFFFFF'\n",
    "}\n",
    "\n",
    "fig = px.scatter_mapbox(toPlot, lat = 'lat', lon = 'lng', color = 'Blight', color_discrete_map = color_discrete_map, zoom = 10,\n",
    "                        category_orders = {'Blight': ['1', '2', '3', '4', '5', '6', '7', 'Demo']}, hover_data = ['Neighborhood'])\n",
    "fig.update_layout(mapbox_style = 'carto-positron')\n",
    "fig.show()"
   ]
  },
  {
   "cell_type": "code",
   "execution_count": null,
   "id": "76b50fea",
   "metadata": {},
   "outputs": [],
   "source": []
  }
 ],
 "metadata": {
  "kernelspec": {
   "display_name": "base",
   "language": "python",
   "name": "python3"
  },
  "language_info": {
   "codemirror_mode": {
    "name": "ipython",
    "version": 3
   },
   "file_extension": ".py",
   "mimetype": "text/x-python",
   "name": "python",
   "nbconvert_exporter": "python",
   "pygments_lexer": "ipython3",
   "version": "3.13.5"
  }
 },
 "nbformat": 4,
 "nbformat_minor": 5
}
